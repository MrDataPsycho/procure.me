{
 "cells": [
  {
   "cell_type": "code",
   "execution_count": 1,
   "id": "a0dae1bc",
   "metadata": {},
   "outputs": [],
   "source": [
    "import openai\n",
    "import re\n",
    "import httpx\n",
    "import os\n",
    "from dotenv import load_dotenv\n",
    "from openai import OpenAI"
   ]
  },
  {
   "cell_type": "code",
   "execution_count": 2,
   "id": "7c61c8ef",
   "metadata": {},
   "outputs": [
    {
     "data": {
      "text/plain": [
       "True"
      ]
     },
     "execution_count": 2,
     "metadata": {},
     "output_type": "execute_result"
    }
   ],
   "source": [
    "load_dotenv(\"../.env\", override=True)"
   ]
  },
  {
   "cell_type": "code",
   "execution_count": 5,
   "id": "ee934883",
   "metadata": {},
   "outputs": [],
   "source": [
    "client = OpenAI(\n",
    "    api_key=os.getenv(\"OPENAI_API_KEY\")\n",
    ")"
   ]
  },
  {
   "cell_type": "code",
   "execution_count": 13,
   "id": "aafecdd2",
   "metadata": {},
   "outputs": [],
   "source": [
    "chat_history = [\n",
    "    {\n",
    "        \"role\": \"system\",\n",
    "        \"content\": \"You are a helpful assistant. You only talks about Bitcoin and Blockchain. If someone ask you anyhing else, just politely deny them.\"\n",
    "    }\n",
    "]"
   ]
  },
  {
   "cell_type": "code",
   "execution_count": null,
   "id": "1658c84e",
   "metadata": {},
   "outputs": [],
   "source": [
    "def get_completion(prompt, chat_history):\n",
    "    # chat_history = select * from chat_history where session_id = 1\n",
    "    chat_history.append({\"role\": \"user\", \"content\": prompt})\n",
    "    response = client.chat.completions.create(\n",
    "        model=\"gpt-4.1-nano\",\n",
    "        messages=chat_history\n",
    "    )\n",
    "    # insert into chat_history (session_id, role, content)\n",
    "    chat_history.append({\"role\": \"assistant\", \"content\": response.choices[0].message.content})\n",
    "    return response.choices[0].message.content\n",
    "\n",
    "# chat_completion = client.chat.completions.create(\n",
    "#     # model=\"gpt-3.5-turbo\",\n",
    "#     model=\"gpt-4.1-nano\",\n",
    "#     messages=[{\"role\": \"user\", \"content\": \"Hello world my Boy!\"}]\n",
    "# )"
   ]
  },
  {
   "cell_type": "code",
   "execution_count": 15,
   "id": "ae9c5979",
   "metadata": {},
   "outputs": [
    {
     "data": {
      "text/plain": [
       "[{'role': 'system',\n",
       "  'content': 'You are a helpful assistant. You only talks about Bitcoin and Blockchain. If someone ask you anyhing else, just politely deny them.'}]"
      ]
     },
     "execution_count": 15,
     "metadata": {},
     "output_type": "execute_result"
    }
   ],
   "source": [
    "chat_history"
   ]
  },
  {
   "cell_type": "code",
   "execution_count": 16,
   "id": "16ba631a",
   "metadata": {},
   "outputs": [
    {
     "data": {
      "text/plain": [
       "\"Hello! If you're interested in Bitcoin or Blockchain technology, I'd be happy to help. How can I assist you today?\""
      ]
     },
     "execution_count": 16,
     "metadata": {},
     "output_type": "execute_result"
    }
   ],
   "source": [
    "get_completion(\"Hello world my Boy!\", chat_history)"
   ]
  },
  {
   "cell_type": "code",
   "execution_count": 17,
   "id": "b0aeed93",
   "metadata": {},
   "outputs": [
    {
     "data": {
      "text/plain": [
       "[{'role': 'system',\n",
       "  'content': 'You are a helpful assistant. You only talks about Bitcoin and Blockchain. If someone ask you anyhing else, just politely deny them.'},\n",
       " {'role': 'user', 'content': 'Hello world my Boy!'},\n",
       " {'role': 'assistant',\n",
       "  'content': \"Hello! If you're interested in Bitcoin or Blockchain technology, I'd be happy to help. How can I assist you today?\"}]"
      ]
     },
     "execution_count": 17,
     "metadata": {},
     "output_type": "execute_result"
    }
   ],
   "source": [
    "chat_history"
   ]
  },
  {
   "cell_type": "code",
   "execution_count": 18,
   "id": "e74c8fae",
   "metadata": {},
   "outputs": [
    {
     "data": {
      "text/plain": [
       "\"I'm here to provide information about Bitcoin and Blockchain technology. If you're interested in how these technologies relate to the Czech Republic or any related topics, feel free to ask!\""
      ]
     },
     "execution_count": 18,
     "metadata": {},
     "output_type": "execute_result"
    }
   ],
   "source": [
    "get_completion(\"What do you know about Czech Republic?\", chat_history)"
   ]
  },
  {
   "cell_type": "code",
   "execution_count": 21,
   "id": "2307efc8",
   "metadata": {},
   "outputs": [
    {
     "data": {
      "text/plain": [
       "\"Bitcoin has been performing well as the leading cryptocurrency, widely recognized for its decentralized nature and limited supply capped at 21 million coins. It continues to be used for various purposes, including investment, transfer of value, and as a hedge against inflation. The price of Bitcoin can be quite volatile, influenced by market trends, regulations, and adoption worldwide. If you'd like detailed insights into Bitcoin's recent performance, market trends, or blockchain developments, I can provide more specific information!\""
      ]
     },
     "execution_count": 21,
     "metadata": {},
     "output_type": "execute_result"
    }
   ],
   "source": [
    "get_completion(\"How Bitcoin is doing?\", chat_history)"
   ]
  },
  {
   "cell_type": "code",
   "execution_count": 22,
   "id": "e52ba21e",
   "metadata": {},
   "outputs": [
    {
     "data": {
      "text/plain": [
       "[{'role': 'system',\n",
       "  'content': 'You are a helpful assistant. You only talks about Bitcoin and Blockchain. If someone ask you anyhing else, just politely deny them.'},\n",
       " {'role': 'user', 'content': 'Hello world my Boy!'},\n",
       " {'role': 'assistant',\n",
       "  'content': \"Hello! If you're interested in Bitcoin or Blockchain technology, I'd be happy to help. How can I assist you today?\"},\n",
       " {'role': 'user', 'content': 'What do you know about Czech Republic?'},\n",
       " {'role': 'assistant',\n",
       "  'content': \"I'm here to provide information about Bitcoin and Blockchain technology. If you're interested in how these technologies relate to the Czech Republic or any related topics, feel free to ask!\"},\n",
       " {'role': 'user',\n",
       "  'content': 'What Bitcoin is persived in Czech Republic and what is its capital?'},\n",
       " {'role': 'assistant',\n",
       "  'content': \"I'm here to focus on Bitcoin and Blockchain technology. If you have questions about how Bitcoin is perceived or used in the Czech Republic or about blockchain-related topics, I'd be glad to assist!\"},\n",
       " {'role': 'user', 'content': 'What Bitcoin is persived in Czech Republic?'},\n",
       " {'role': 'assistant',\n",
       "  'content': \"I'm here to focus on Bitcoin and Blockchain technology. If you're interested in how Bitcoin is perceived globally or its technical aspects, I can help with that. For perceptions in specific countries like the Czech Republic, I recommend exploring local news sources or community discussions related to cryptocurrency. Let me know if you'd like information on Bitcoin's technology or its global adoption!\"},\n",
       " {'role': 'user', 'content': 'How Bitcoin is doing?'},\n",
       " {'role': 'assistant',\n",
       "  'content': \"Bitcoin has been performing well as the leading cryptocurrency, widely recognized for its decentralized nature and limited supply capped at 21 million coins. It continues to be used for various purposes, including investment, transfer of value, and as a hedge against inflation. The price of Bitcoin can be quite volatile, influenced by market trends, regulations, and adoption worldwide. If you'd like detailed insights into Bitcoin's recent performance, market trends, or blockchain developments, I can provide more specific information!\"}]"
      ]
     },
     "execution_count": 22,
     "metadata": {},
     "output_type": "execute_result"
    }
   ],
   "source": [
    "chat_history"
   ]
  }
 ],
 "metadata": {
  "kernelspec": {
   "display_name": ".venv",
   "language": "python",
   "name": "python3"
  },
  "language_info": {
   "codemirror_mode": {
    "name": "ipython",
    "version": 3
   },
   "file_extension": ".py",
   "mimetype": "text/x-python",
   "name": "python",
   "nbconvert_exporter": "python",
   "pygments_lexer": "ipython3",
   "version": "3.12.4"
  }
 },
 "nbformat": 4,
 "nbformat_minor": 5
}
