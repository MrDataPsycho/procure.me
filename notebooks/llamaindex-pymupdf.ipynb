{
 "cells": [
  {
   "cell_type": "code",
   "execution_count": 1,
   "id": "81111796",
   "metadata": {},
   "outputs": [],
   "source": [
    "from llama_index.readers.file import PyMuPDFReader\n",
    "from llama_index.core import Document\n",
    "from pathlib import Path\n",
    "from pydantic import BaseModel, Field\n",
    "from uuid import uuid4\n",
    "from typing import Optional"
   ]
  },
  {
   "cell_type": "code",
   "execution_count": 2,
   "id": "3cb648a0",
   "metadata": {},
   "outputs": [],
   "source": [
    "DATA_PATH = Path().absolute().parent.joinpath(\"data\")\n",
    "CONTRACTS_PATH = DATA_PATH.joinpath(\"raw\", \"contracts\")\n",
    "FILE_PATH = CONTRACTS_PATH.joinpath(\"CW0348.pdf\")\n",
    "SILVER_PATH = DATA_PATH.joinpath(\"silver\", \"contracts\")"
   ]
  },
  {
   "cell_type": "code",
   "execution_count": 3,
   "id": "7e320392",
   "metadata": {},
   "outputs": [],
   "source": [
    "loader = PyMuPDFReader()\n",
    "documents = loader.load(file_path=FILE_PATH)"
   ]
  },
  {
   "cell_type": "code",
   "execution_count": 4,
   "id": "e9a651b2",
   "metadata": {},
   "outputs": [
    {
     "name": "stdout",
     "output_type": "stream",
     "text": [
      "Doc ID: c00051c1-f1eb-4bd2-b176-24778fd25228\n",
      "Text: PROCUREMENT CONTRACT   This Procurement Contract (the\n",
      "\"Contract\") is entered into between C11, hereinafter referred to  as\n",
      "the \"Supplier,\" and Plasma Corporation, hereinafter referred to as the\n",
      "\"Buyer.\"   1. TERM   1.1 Effective Date: This Contract shall become\n",
      "effective on November 2020.   1.2 Expiry Date: The initial term of\n",
      "this Contract shal...\n"
     ]
    }
   ],
   "source": [
    "print(documents[0])"
   ]
  },
  {
   "cell_type": "markdown",
   "id": "f7624a02",
   "metadata": {},
   "source": [
    "# Working with LLamaIndex PyMuPDF Reader"
   ]
  },
  {
   "cell_type": "code",
   "execution_count": 5,
   "id": "0e3e8045",
   "metadata": {},
   "outputs": [
    {
     "data": {
      "text/plain": [
       "{'total_pages': 2,\n",
       " 'file_path': '/Users/datapsycho/PythonProjects/procure.me/data/raw/contracts/CW0348.pdf',\n",
       " 'source': '1'}"
      ]
     },
     "execution_count": 5,
     "metadata": {},
     "output_type": "execute_result"
    }
   ],
   "source": [
    "documents[0].metadata"
   ]
  },
  {
   "cell_type": "code",
   "execution_count": 6,
   "id": "13dc5033",
   "metadata": {},
   "outputs": [
    {
     "data": {
      "text/plain": [
       "' \\n PROCUREMENT CONTRACT  \\nThis Procurement Contract (the \"Contract\") is entered into between C11, hereinafter referred to \\nas the \"Supplier,\" and Plasma Corporation, hereinafter referred to as the \"Buyer.\"  \\n1. TERM  \\n1.1 Effective Date: This Contract shall become effective on November 2020.  \\n1.2 Expiry Date: The initial term of this Contract shall be for a period of 5 years from the \\nEffective Date unless terminated earlier as per the terms of this Contract.  \\n2. SUPPLIER DETAILS  \\nSupplier Name: C11 Address: 456 Oak Avenue, Cityville, USA Contact Person: Jane Doe \\nEmail: jane@xyzsuppliers.com Phone: +1-987-654-3210  \\n3. PURCHASE DETAILS  \\n3.1 Product/Service Description: The Supplier shall provide the following products/services to \\nthe Buyer:  \\nProduct X011 \\nProduct Y011 \\nProduct Z011 \\n \\n3.2 Volume Discounts: The Buyer and the Supplier agree to the following volume discounts \\nbased on the cumulative purchase volume during the Contract term:  \\n• \\n• 100 units - 500 units: 8.5% discount  \\n• \\n• 501 units - 1000 units: 15% discount  \\n• \\n• Over 1000 units: 20% discount  \\n \\n3.3 Pricing: The pricing for the products/services shall be as follows:  \\nProduct X011: $15 per unit  \\nProduct Y011:$25 per unit  \\nProduct Z011: $35 per unit  \\n \\n4. PAYMENT TERMS  \\n4.1 Invoicing: The Supplier shall submit invoices to the Buyer for the products/services provided \\nas per the agreed-upon pricing and terms.  \\n4.2 Payment Terms: The Buyer shall make payments to the Supplier within 45 days from the \\nreceipt of a valid invoice.  \\n4.3 Payment Method: Payments shall be made via PayPal, as agreed upon by both parties.  \\n5. CONTRACT TERMINATION  \\n5.1 Termination for Convenience: Either party may terminate this Contract with 60 days written \\nnotice to the other party.  \\n5.2 Termination for Cause: Either party may terminate this Contract immediately in the event of \\na material breach by the other party.  \\n'"
      ]
     },
     "execution_count": 6,
     "metadata": {},
     "output_type": "execute_result"
    }
   ],
   "source": [
    "documents[0].text"
   ]
  },
  {
   "cell_type": "code",
   "execution_count": 7,
   "id": "bb0c50a2",
   "metadata": {},
   "outputs": [],
   "source": [
    "class ParsedDocumentParts(BaseModel):\n",
    "    id_: str\n",
    "    text: str\n",
    "    part: str"
   ]
  },
  {
   "cell_type": "code",
   "execution_count": 8,
   "id": "21f8d8da",
   "metadata": {},
   "outputs": [],
   "source": [
    "class ParsedDocument(BaseModel):\n",
    "    id_: str = Field(default_factory=lambda: str(uuid4()))\n",
    "    total_pages: int\n",
    "    file_name: str\n",
    "    text: str\n",
    "    parts: list[ParsedDocumentParts]"
   ]
  },
  {
   "cell_type": "code",
   "execution_count": null,
   "id": "b9ff3861",
   "metadata": {},
   "outputs": [],
   "source": [
    "class DocumentParser:\n",
    "    \"\"\"Parse a document into a list of documents. But also preserved the metadata and orginal document as markdown.\"\"\"\n",
    "    def __init__(self, file_path: Path):\n",
    "        self.file_path = file_path\n",
    "        self.parsed_document = Optional[Document]\n",
    "        self.write_file_name = f\"{file_path.name}.json\"\n",
    "\n",
    "    def parse_to_markdown(self) -> list[Document]:\n",
    "        loader = PyMuPDFReader()\n",
    "        documents = loader.load(file_path=self.file_path)\n",
    "        return documents\n",
    "\n",
    "    def parse(self) -> ParsedDocument:\n",
    "        documents = self.parse_to_markdown()\n",
    "        total_page = len(documents)\n",
    "        file_name = documents[0].metadata[\"file_path\"].split(\"/\")[-1]\n",
    "        text = []\n",
    "        parts = []\n",
    "        for item in documents:\n",
    "            page_number = item.metadata[\"source\"]\n",
    "            part = ParsedDocumentParts(id_=item.id_, text=item.text, part=\"part - \" + str(page_number))\n",
    "            parts.append(part)\n",
    "            text.append(item.text + \"\\n\" + f\"page - [{page_number}]\\n\")\n",
    "        parsed_document = ParsedDocument(total_pages=total_page, file_name=file_name, text=\"\".join(text), parts=parts)\n",
    "        self.ir = parsed_document\n",
    "        return self.ir\n",
    "\n",
    "    def save(self, file_path: Path):\n",
    "        if self.ir is None:\n",
    "            raise ValueError(\"Document is not parsed yet.\")\n",
    "        write_path = file_path.joinpath(self.write_file_name)\n",
    "        with open(write_path, \"w\") as f:\n",
    "            json_data = self.ir.model_dump_json(indent=4)\n",
    "            f.write(json_data)\n",
    "            print(f\"Document saved to {file_path}\")\n",
    "        "
   ]
  },
  {
   "cell_type": "code",
   "execution_count": 10,
   "id": "54f23046",
   "metadata": {},
   "outputs": [
    {
     "name": "stdout",
     "output_type": "stream",
     "text": [
      "id_='7bf76f68-1b9f-4d04-914d-859b8f3ee0fc' total_pages=2 file_name='CW0348.pdf' text=' \\n PROCUREMENT CONTRACT  \\nThis Procurement Contract (the \"Contract\") is entered into between C11, hereinafter referred to \\nas the \"Supplier,\" and Plasma Corporation, hereinafter referred to as the \"Buyer.\"  \\n1. TERM  \\n1.1 Effective Date: This Contract shall become effective on November 2020.  \\n1.2 Expiry Date: The initial term of this Contract shall be for a period of 5 years from the \\nEffective Date unless terminated earlier as per the terms of this Contract.  \\n2. SUPPLIER DETAILS  \\nSupplier Name: C11 Address: 456 Oak Avenue, Cityville, USA Contact Person: Jane Doe \\nEmail: jane@xyzsuppliers.com Phone: +1-987-654-3210  \\n3. PURCHASE DETAILS  \\n3.1 Product/Service Description: The Supplier shall provide the following products/services to \\nthe Buyer:  \\nProduct X011 \\nProduct Y011 \\nProduct Z011 \\n \\n3.2 Volume Discounts: The Buyer and the Supplier agree to the following volume discounts \\nbased on the cumulative purchase volume during the Contract term:  \\n• \\n• 100 units - 500 units: 8.5% discount  \\n• \\n• 501 units - 1000 units: 15% discount  \\n• \\n• Over 1000 units: 20% discount  \\n \\n3.3 Pricing: The pricing for the products/services shall be as follows:  \\nProduct X011: $15 per unit  \\nProduct Y011:$25 per unit  \\nProduct Z011: $35 per unit  \\n \\n4. PAYMENT TERMS  \\n4.1 Invoicing: The Supplier shall submit invoices to the Buyer for the products/services provided \\nas per the agreed-upon pricing and terms.  \\n4.2 Payment Terms: The Buyer shall make payments to the Supplier within 45 days from the \\nreceipt of a valid invoice.  \\n4.3 Payment Method: Payments shall be made via PayPal, as agreed upon by both parties.  \\n5. CONTRACT TERMINATION  \\n5.1 Termination for Convenience: Either party may terminate this Contract with 60 days written \\nnotice to the other party.  \\n5.2 Termination for Cause: Either party may terminate this Contract immediately in the event of \\na material breach by the other party.  \\n\\npage - [1]\\n6. CONFIDENTIALITY  \\n6.1 Confidential Information: Both parties agree to keep any confidential information shared \\nduring the course of this Contract confidential and not to disclose it to any third party without \\nprior written consent.  \\n6.2 Return of Information: Upon termination of this Contract, both parties shall promptly return \\nany confidential information received from the other party.  \\n7. GOVERNING LAW  \\nThis Contract shall be governed by and construed in accordance with the laws of the State of \\nNew York.  \\n8. ENTIRE AGREEMENT  \\nThis Contract constitutes the entire agreement between the parties and supersedes all prior \\nagreements, understandings, or representations, whether written or oral, relating to the subject \\nmatter hereof.  \\nIN WITNESS WHEREOF, the parties have executed this Procurement Contract as of the \\nEffective Date.  \\nC11  \\nAuthorized Signatory  \\nPlasma Corporation  \\nAuthorized Signatory  \\nDate: April 15, 2023  \\nPlease note that these copies of the contract contain random dummy values and should be \\nadjusted to reflect the actual details and terms agreed upon by the parties involved. \\n\\npage - [2]\\n' parts=[ParsedDocumentParts(id_='f46e72d9-542a-4106-8f2e-79555daa8b04', text=' \\n PROCUREMENT CONTRACT  \\nThis Procurement Contract (the \"Contract\") is entered into between C11, hereinafter referred to \\nas the \"Supplier,\" and Plasma Corporation, hereinafter referred to as the \"Buyer.\"  \\n1. TERM  \\n1.1 Effective Date: This Contract shall become effective on November 2020.  \\n1.2 Expiry Date: The initial term of this Contract shall be for a period of 5 years from the \\nEffective Date unless terminated earlier as per the terms of this Contract.  \\n2. SUPPLIER DETAILS  \\nSupplier Name: C11 Address: 456 Oak Avenue, Cityville, USA Contact Person: Jane Doe \\nEmail: jane@xyzsuppliers.com Phone: +1-987-654-3210  \\n3. PURCHASE DETAILS  \\n3.1 Product/Service Description: The Supplier shall provide the following products/services to \\nthe Buyer:  \\nProduct X011 \\nProduct Y011 \\nProduct Z011 \\n \\n3.2 Volume Discounts: The Buyer and the Supplier agree to the following volume discounts \\nbased on the cumulative purchase volume during the Contract term:  \\n• \\n• 100 units - 500 units: 8.5% discount  \\n• \\n• 501 units - 1000 units: 15% discount  \\n• \\n• Over 1000 units: 20% discount  \\n \\n3.3 Pricing: The pricing for the products/services shall be as follows:  \\nProduct X011: $15 per unit  \\nProduct Y011:$25 per unit  \\nProduct Z011: $35 per unit  \\n \\n4. PAYMENT TERMS  \\n4.1 Invoicing: The Supplier shall submit invoices to the Buyer for the products/services provided \\nas per the agreed-upon pricing and terms.  \\n4.2 Payment Terms: The Buyer shall make payments to the Supplier within 45 days from the \\nreceipt of a valid invoice.  \\n4.3 Payment Method: Payments shall be made via PayPal, as agreed upon by both parties.  \\n5. CONTRACT TERMINATION  \\n5.1 Termination for Convenience: Either party may terminate this Contract with 60 days written \\nnotice to the other party.  \\n5.2 Termination for Cause: Either party may terminate this Contract immediately in the event of \\na material breach by the other party.  \\n', part='part - 1'), ParsedDocumentParts(id_='b643d597-542f-42f7-8b20-49478f97fe00', text='6. CONFIDENTIALITY  \\n6.1 Confidential Information: Both parties agree to keep any confidential information shared \\nduring the course of this Contract confidential and not to disclose it to any third party without \\nprior written consent.  \\n6.2 Return of Information: Upon termination of this Contract, both parties shall promptly return \\nany confidential information received from the other party.  \\n7. GOVERNING LAW  \\nThis Contract shall be governed by and construed in accordance with the laws of the State of \\nNew York.  \\n8. ENTIRE AGREEMENT  \\nThis Contract constitutes the entire agreement between the parties and supersedes all prior \\nagreements, understandings, or representations, whether written or oral, relating to the subject \\nmatter hereof.  \\nIN WITNESS WHEREOF, the parties have executed this Procurement Contract as of the \\nEffective Date.  \\nC11  \\nAuthorized Signatory  \\nPlasma Corporation  \\nAuthorized Signatory  \\nDate: April 15, 2023  \\nPlease note that these copies of the contract contain random dummy values and should be \\nadjusted to reflect the actual details and terms agreed upon by the parties involved. \\n', part='part - 2')]\n"
     ]
    }
   ],
   "source": [
    "parser = DocumentParser(file_path=FILE_PATH)\n",
    "doc = parser.parse()\n",
    "print(doc)"
   ]
  },
  {
   "cell_type": "code",
   "execution_count": 12,
   "id": "5b26fe34",
   "metadata": {},
   "outputs": [
    {
     "data": {
      "text/plain": [
       "ParsedDocument(id_='7bf76f68-1b9f-4d04-914d-859b8f3ee0fc', total_pages=2, file_name='CW0348.pdf', text=' \\n PROCUREMENT CONTRACT  \\nThis Procurement Contract (the \"Contract\") is entered into between C11, hereinafter referred to \\nas the \"Supplier,\" and Plasma Corporation, hereinafter referred to as the \"Buyer.\"  \\n1. TERM  \\n1.1 Effective Date: This Contract shall become effective on November 2020.  \\n1.2 Expiry Date: The initial term of this Contract shall be for a period of 5 years from the \\nEffective Date unless terminated earlier as per the terms of this Contract.  \\n2. SUPPLIER DETAILS  \\nSupplier Name: C11 Address: 456 Oak Avenue, Cityville, USA Contact Person: Jane Doe \\nEmail: jane@xyzsuppliers.com Phone: +1-987-654-3210  \\n3. PURCHASE DETAILS  \\n3.1 Product/Service Description: The Supplier shall provide the following products/services to \\nthe Buyer:  \\nProduct X011 \\nProduct Y011 \\nProduct Z011 \\n \\n3.2 Volume Discounts: The Buyer and the Supplier agree to the following volume discounts \\nbased on the cumulative purchase volume during the Contract term:  \\n• \\n• 100 units - 500 units: 8.5% discount  \\n• \\n• 501 units - 1000 units: 15% discount  \\n• \\n• Over 1000 units: 20% discount  \\n \\n3.3 Pricing: The pricing for the products/services shall be as follows:  \\nProduct X011: $15 per unit  \\nProduct Y011:$25 per unit  \\nProduct Z011: $35 per unit  \\n \\n4. PAYMENT TERMS  \\n4.1 Invoicing: The Supplier shall submit invoices to the Buyer for the products/services provided \\nas per the agreed-upon pricing and terms.  \\n4.2 Payment Terms: The Buyer shall make payments to the Supplier within 45 days from the \\nreceipt of a valid invoice.  \\n4.3 Payment Method: Payments shall be made via PayPal, as agreed upon by both parties.  \\n5. CONTRACT TERMINATION  \\n5.1 Termination for Convenience: Either party may terminate this Contract with 60 days written \\nnotice to the other party.  \\n5.2 Termination for Cause: Either party may terminate this Contract immediately in the event of \\na material breach by the other party.  \\n\\npage - [1]\\n6. CONFIDENTIALITY  \\n6.1 Confidential Information: Both parties agree to keep any confidential information shared \\nduring the course of this Contract confidential and not to disclose it to any third party without \\nprior written consent.  \\n6.2 Return of Information: Upon termination of this Contract, both parties shall promptly return \\nany confidential information received from the other party.  \\n7. GOVERNING LAW  \\nThis Contract shall be governed by and construed in accordance with the laws of the State of \\nNew York.  \\n8. ENTIRE AGREEMENT  \\nThis Contract constitutes the entire agreement between the parties and supersedes all prior \\nagreements, understandings, or representations, whether written or oral, relating to the subject \\nmatter hereof.  \\nIN WITNESS WHEREOF, the parties have executed this Procurement Contract as of the \\nEffective Date.  \\nC11  \\nAuthorized Signatory  \\nPlasma Corporation  \\nAuthorized Signatory  \\nDate: April 15, 2023  \\nPlease note that these copies of the contract contain random dummy values and should be \\nadjusted to reflect the actual details and terms agreed upon by the parties involved. \\n\\npage - [2]\\n', parts=[ParsedDocumentParts(id_='f46e72d9-542a-4106-8f2e-79555daa8b04', text=' \\n PROCUREMENT CONTRACT  \\nThis Procurement Contract (the \"Contract\") is entered into between C11, hereinafter referred to \\nas the \"Supplier,\" and Plasma Corporation, hereinafter referred to as the \"Buyer.\"  \\n1. TERM  \\n1.1 Effective Date: This Contract shall become effective on November 2020.  \\n1.2 Expiry Date: The initial term of this Contract shall be for a period of 5 years from the \\nEffective Date unless terminated earlier as per the terms of this Contract.  \\n2. SUPPLIER DETAILS  \\nSupplier Name: C11 Address: 456 Oak Avenue, Cityville, USA Contact Person: Jane Doe \\nEmail: jane@xyzsuppliers.com Phone: +1-987-654-3210  \\n3. PURCHASE DETAILS  \\n3.1 Product/Service Description: The Supplier shall provide the following products/services to \\nthe Buyer:  \\nProduct X011 \\nProduct Y011 \\nProduct Z011 \\n \\n3.2 Volume Discounts: The Buyer and the Supplier agree to the following volume discounts \\nbased on the cumulative purchase volume during the Contract term:  \\n• \\n• 100 units - 500 units: 8.5% discount  \\n• \\n• 501 units - 1000 units: 15% discount  \\n• \\n• Over 1000 units: 20% discount  \\n \\n3.3 Pricing: The pricing for the products/services shall be as follows:  \\nProduct X011: $15 per unit  \\nProduct Y011:$25 per unit  \\nProduct Z011: $35 per unit  \\n \\n4. PAYMENT TERMS  \\n4.1 Invoicing: The Supplier shall submit invoices to the Buyer for the products/services provided \\nas per the agreed-upon pricing and terms.  \\n4.2 Payment Terms: The Buyer shall make payments to the Supplier within 45 days from the \\nreceipt of a valid invoice.  \\n4.3 Payment Method: Payments shall be made via PayPal, as agreed upon by both parties.  \\n5. CONTRACT TERMINATION  \\n5.1 Termination for Convenience: Either party may terminate this Contract with 60 days written \\nnotice to the other party.  \\n5.2 Termination for Cause: Either party may terminate this Contract immediately in the event of \\na material breach by the other party.  \\n', part='part - 1'), ParsedDocumentParts(id_='b643d597-542f-42f7-8b20-49478f97fe00', text='6. CONFIDENTIALITY  \\n6.1 Confidential Information: Both parties agree to keep any confidential information shared \\nduring the course of this Contract confidential and not to disclose it to any third party without \\nprior written consent.  \\n6.2 Return of Information: Upon termination of this Contract, both parties shall promptly return \\nany confidential information received from the other party.  \\n7. GOVERNING LAW  \\nThis Contract shall be governed by and construed in accordance with the laws of the State of \\nNew York.  \\n8. ENTIRE AGREEMENT  \\nThis Contract constitutes the entire agreement between the parties and supersedes all prior \\nagreements, understandings, or representations, whether written or oral, relating to the subject \\nmatter hereof.  \\nIN WITNESS WHEREOF, the parties have executed this Procurement Contract as of the \\nEffective Date.  \\nC11  \\nAuthorized Signatory  \\nPlasma Corporation  \\nAuthorized Signatory  \\nDate: April 15, 2023  \\nPlease note that these copies of the contract contain random dummy values and should be \\nadjusted to reflect the actual details and terms agreed upon by the parties involved. \\n', part='part - 2')])"
      ]
     },
     "execution_count": 12,
     "metadata": {},
     "output_type": "execute_result"
    }
   ],
   "source": [
    "parser.ir"
   ]
  },
  {
   "cell_type": "code",
   "execution_count": 13,
   "id": "c2794cc1",
   "metadata": {},
   "outputs": [
    {
     "name": "stdout",
     "output_type": "stream",
     "text": [
      "Document saved to /Users/datapsycho/PythonProjects/procure.me/data/silver/contracts\n"
     ]
    }
   ],
   "source": [
    "parser.save(file_path=SILVER_PATH)"
   ]
  }
 ],
 "metadata": {
  "kernelspec": {
   "display_name": ".venv",
   "language": "python",
   "name": "python3"
  },
  "language_info": {
   "codemirror_mode": {
    "name": "ipython",
    "version": 3
   },
   "file_extension": ".py",
   "mimetype": "text/x-python",
   "name": "python",
   "nbconvert_exporter": "python",
   "pygments_lexer": "ipython3",
   "version": "3.12.9"
  }
 },
 "nbformat": 4,
 "nbformat_minor": 5
}
