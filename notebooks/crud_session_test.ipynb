{
 "cells": [
  {
   "cell_type": "code",
   "execution_count": 3,
   "id": "b2f656db",
   "metadata": {},
   "outputs": [],
   "source": [
    "import httpx\n",
    "from uuid import UUID\n",
    "from typing import Optional\n",
    "import os\n",
    "from datetime import datetime, timezone"
   ]
  },
  {
   "cell_type": "code",
   "execution_count": 4,
   "id": "acb98ad7",
   "metadata": {},
   "outputs": [],
   "source": [
    "# Environment variable or fallback to localhost\n",
    "BACKEND_URL = os.getenv(\"BACKEND_URL\", \"http://localhost:8000\")\n",
    "SESSION_ENDPOINT = f\"{BACKEND_URL}/sessions\"\n",
    "client = httpx.Client(base_url=SESSION_ENDPOINT)"
   ]
  },
  {
   "cell_type": "code",
   "execution_count": 5,
   "id": "33e82627",
   "metadata": {},
   "outputs": [],
   "source": [
    "client = httpx.Client(base_url=SESSION_ENDPOINT)"
   ]
  },
  {
   "cell_type": "code",
   "execution_count": 6,
   "id": "fffa4c52",
   "metadata": {},
   "outputs": [
    {
     "data": {
      "text/plain": [
       "{'env': 'local',\n",
       " 'file_exists': True,\n",
       " 'dir_list': ['src',\n",
       "  '.env',\n",
       "  'vectordb',\n",
       "  'LICENSE.txt',\n",
       "  'README.md',\n",
       "  'pyproject.toml'],\n",
       " 'file_path': '.env'}"
      ]
     },
     "execution_count": 6,
     "metadata": {},
     "output_type": "execute_result"
    }
   ],
   "source": [
    "client.get(\"runtime-env\").json()"
   ]
  },
  {
   "cell_type": "code",
   "execution_count": null,
   "id": "2d6e71d0",
   "metadata": {},
   "outputs": [
    {
     "data": {
      "text/plain": [
       "[{'id': 'da06a6dd-63df-410e-933c-e3c0e6c0ba5f',\n",
       "  'label': 'Demo Contract Session',\n",
       "  'created_at': '2025-06-07T21:50:07.117765',\n",
       "  'updated_at': '2025-06-08T09:13:38.097353'}]"
      ]
     },
     "execution_count": 25,
     "metadata": {},
     "output_type": "execute_result"
    }
   ],
   "source": [
    "client.get(\"/\").json()"
   ]
  },
  {
   "cell_type": "code",
   "execution_count": null,
   "id": "b3d63c77",
   "metadata": {},
   "outputs": [],
   "source": [
    "def create_chat_session(label: str) -> Optional[UUID]:\n",
    "    \"\"\"Create a new chat session with the given label.\"\"\"\n",
    "    try:\n",
    "        response = client.post(\"/\", params={\"label\": label})\n",
    "        response.raise_for_status()\n",
    "        data = response.json()\n",
    "        print(f\"✅ Created session: {data['label']} ({data['id']})\")\n",
    "        return UUID(data[\"id\"])\n",
    "    except httpx.HTTPError as e:\n",
    "        print(f\"❌ Failed to create session: {e}\")\n",
    "        return None"
   ]
  },
  {
   "cell_type": "code",
   "execution_count": 8,
   "id": "8d53bdd5",
   "metadata": {},
   "outputs": [],
   "source": [
    "# session_id = create_chat_session(\"Demo Contract Session\")\n",
    "# print(f\"Session UUID: {session_id}\")\n",
    "session_id = \"da06a6dd-63df-410e-933c-e3c0e6c0ba5f\""
   ]
  },
  {
   "cell_type": "code",
   "execution_count": 5,
   "id": "9aad26b6",
   "metadata": {},
   "outputs": [],
   "source": [
    "def send_message(session_id: UUID, role: str, content: str):\n",
    "    data = {\n",
    "        \"role\": role,\n",
    "        \"content\": content,\n",
    "    }\n",
    "\n",
    "    response = client.post(f\"/{session_id}/message\", params=data)\n",
    "    response.raise_for_status()\n",
    "    return response.json()"
   ]
  },
  {
   "cell_type": "code",
   "execution_count": 28,
   "id": "5e849bd4",
   "metadata": {},
   "outputs": [
    {
     "name": "stdout",
     "output_type": "stream",
     "text": [
      "{'label': 'Demo Contract Session', 'updated_at': '2025-06-08T09:22:25.948600', 'messages': [{'role': 'user', 'content': 'Hello from client!', 'timestamp': '2025-06-08T08:46:42.363283+00:00'}, {'role': 'assistant', 'content': 'Hello from assistant!', 'timestamp': '2025-06-08T09:02:50.700660+00:00'}, {'role': 'user', 'content': 'Hello from client!', 'timestamp': '2025-06-08T09:06:47.523262+00:00'}, {'role': 'assistant', 'content': 'Hello from ASSISTANT!', 'timestamp': '2025-06-08T09:13:38.097114+00:00'}, {'role': 'user', 'content': 'Hello from client!', 'timestamp': '2025-06-08T09:22:25.948429+00:00'}], 'created_at': '2025-06-07T21:50:07.117765', 'id': 'da06a6dd-63df-410e-933c-e3c0e6c0ba5f'}\n"
     ]
    }
   ],
   "source": [
    "response = send_message(session_id, role=\"user\", content=\"Hello from client!\")\n",
    "print(response)"
   ]
  },
  {
   "cell_type": "code",
   "execution_count": 6,
   "id": "84fccb0f",
   "metadata": {},
   "outputs": [],
   "source": [
    "from typing import Dict\n",
    "\n",
    "def get_chat_session(session_id: UUID) -> Optional[Dict]:\n",
    "    \"\"\"Fetch a chat session by its UUID using global HTTPX client.\"\"\"\n",
    "    try:\n",
    "        response = client.get(f\"/{session_id}\")\n",
    "        response.raise_for_status()\n",
    "        data = response.json()\n",
    "        print(f\"✅ Fetched session '{data['label']}' with {len(data['messages'])} messages.\")\n",
    "        return data\n",
    "    except httpx.HTTPStatusError as e:\n",
    "        if e.response.status_code == 404:\n",
    "            print(\"⚠️ Session not found.\")\n",
    "        else:\n",
    "            print(f\"❌ HTTP error occurred: {e}\")\n",
    "    except Exception as e:\n",
    "        print(f\"❌ Unexpected error: {e}\")\n",
    "    return None\n"
   ]
  },
  {
   "cell_type": "code",
   "execution_count": 17,
   "id": "2425abf0",
   "metadata": {},
   "outputs": [
    {
     "name": "stdout",
     "output_type": "stream",
     "text": [
      "✅ Fetched session '5th Updated Demo Contract Session' with 7 messages.\n"
     ]
    },
    {
     "data": {
      "text/plain": [
       "{'messages': [{'role': 'user',\n",
       "   'content': 'Hello from client!',\n",
       "   'timestamp': '2025-06-08T08:46:42.363283+00:00'},\n",
       "  {'role': 'assistant',\n",
       "   'content': 'Hello from assistant!',\n",
       "   'timestamp': '2025-06-08T09:02:50.700660+00:00'},\n",
       "  {'role': 'user',\n",
       "   'content': 'Hello from client!',\n",
       "   'timestamp': '2025-06-08T09:06:47.523262+00:00'},\n",
       "  {'role': 'assistant',\n",
       "   'content': 'Hello from ASSISTANT!',\n",
       "   'timestamp': '2025-06-08T09:13:38.097114+00:00'},\n",
       "  {'role': 'user',\n",
       "   'content': 'Hello from client!',\n",
       "   'timestamp': '2025-06-08T09:22:25.948429+00:00'},\n",
       "  {'role': 'user',\n",
       "   'content': \"What are the top 10 products for the category 'Electronics'?\",\n",
       "   'timestamp': '2025-06-08T10:38:02.898178+00:00'},\n",
       "  {'role': 'assistant',\n",
       "   'content': \"Hi, good day! I received your question: What are the top 10 products for the category 'Electronics'?\",\n",
       "   'timestamp': '2025-06-08T10:38:02.898664+00:00'}],\n",
       " 'label': '5th Updated Demo Contract Session',\n",
       " 'updated_at': '2025-06-08T10:38:02.898686',\n",
       " 'created_at': '2025-06-07T21:50:07.117765',\n",
       " 'id': 'da06a6dd-63df-410e-933c-e3c0e6c0ba5f'}"
      ]
     },
     "execution_count": 17,
     "metadata": {},
     "output_type": "execute_result"
    }
   ],
   "source": [
    "get_chat_session(session_id)"
   ]
  },
  {
   "cell_type": "code",
   "execution_count": 10,
   "id": "4f505c8a",
   "metadata": {},
   "outputs": [],
   "source": [
    "def rename_chat_session(session_id: UUID, new_label: str) -> dict:\n",
    "    try:\n",
    "        response = client.patch(f\"/{session_id}\", params={\"label\": new_label})\n",
    "        response.raise_for_status()\n",
    "        updated_session = response.json()\n",
    "        print(f\"✅ Renamed session to: {updated_session['label']}\")\n",
    "        return updated_session\n",
    "    except Exception as e:\n",
    "        print(f\"❌ Failed to rename session: {e}\")\n",
    "        return {}\n"
   ]
  },
  {
   "cell_type": "code",
   "execution_count": 11,
   "id": "5329c002",
   "metadata": {},
   "outputs": [
    {
     "name": "stdout",
     "output_type": "stream",
     "text": [
      "✅ Renamed session to: 4th Updated Demo Contract Session\n"
     ]
    },
    {
     "data": {
      "text/plain": [
       "{'label': '4th Updated Demo Contract Session',\n",
       " 'updated_at': '2025-06-08T10:32:53.575364',\n",
       " 'messages': [{'role': 'user',\n",
       "   'content': 'Hello from client!',\n",
       "   'timestamp': '2025-06-08T08:46:42.363283+00:00'},\n",
       "  {'role': 'assistant',\n",
       "   'content': 'Hello from assistant!',\n",
       "   'timestamp': '2025-06-08T09:02:50.700660+00:00'},\n",
       "  {'role': 'user',\n",
       "   'content': 'Hello from client!',\n",
       "   'timestamp': '2025-06-08T09:06:47.523262+00:00'},\n",
       "  {'role': 'assistant',\n",
       "   'content': 'Hello from ASSISTANT!',\n",
       "   'timestamp': '2025-06-08T09:13:38.097114+00:00'},\n",
       "  {'role': 'user',\n",
       "   'content': 'Hello from client!',\n",
       "   'timestamp': '2025-06-08T09:22:25.948429+00:00'}],\n",
       " 'created_at': '2025-06-07T21:50:07.117765',\n",
       " 'id': 'da06a6dd-63df-410e-933c-e3c0e6c0ba5f'}"
      ]
     },
     "execution_count": 11,
     "metadata": {},
     "output_type": "execute_result"
    }
   ],
   "source": [
    "rename_chat_session(session_id, \"4th Updated Demo Contract Session\")"
   ]
  },
  {
   "cell_type": "code",
   "execution_count": 12,
   "id": "12161745",
   "metadata": {},
   "outputs": [],
   "source": [
    "def rename_chat_session(session_id: UUID, new_label: str) -> dict:\n",
    "    \"\"\"\n",
    "    Rename a chat session by its UUID.\n",
    "    \n",
    "    Args:\n",
    "        session_id (UUID): The ID of the session to rename.\n",
    "        new_label (str): The new label for the session.\n",
    "\n",
    "    Returns:\n",
    "        dict: Updated session object (or error info).\n",
    "    \"\"\"\n",
    "    try:\n",
    "        response = client.patch(f\"/{session_id}\", params={\"label\": new_label})\n",
    "        response.raise_for_status()\n",
    "        updated_session = response.json()\n",
    "        print(f\"✅ Renamed session to: {updated_session['label']}\")\n",
    "        return updated_session\n",
    "    except Exception as e:\n",
    "        print(f\"❌ Failed to rename session: {e}\")\n",
    "        return {}\n"
   ]
  },
  {
   "cell_type": "code",
   "execution_count": 13,
   "id": "60dcd39d",
   "metadata": {},
   "outputs": [
    {
     "name": "stdout",
     "output_type": "stream",
     "text": [
      "✅ Renamed session to: 5th Updated Demo Contract Session\n"
     ]
    },
    {
     "data": {
      "text/plain": [
       "{'label': '5th Updated Demo Contract Session',\n",
       " 'updated_at': '2025-06-08T10:33:32.088979',\n",
       " 'messages': [{'role': 'user',\n",
       "   'content': 'Hello from client!',\n",
       "   'timestamp': '2025-06-08T08:46:42.363283+00:00'},\n",
       "  {'role': 'assistant',\n",
       "   'content': 'Hello from assistant!',\n",
       "   'timestamp': '2025-06-08T09:02:50.700660+00:00'},\n",
       "  {'role': 'user',\n",
       "   'content': 'Hello from client!',\n",
       "   'timestamp': '2025-06-08T09:06:47.523262+00:00'},\n",
       "  {'role': 'assistant',\n",
       "   'content': 'Hello from ASSISTANT!',\n",
       "   'timestamp': '2025-06-08T09:13:38.097114+00:00'},\n",
       "  {'role': 'user',\n",
       "   'content': 'Hello from client!',\n",
       "   'timestamp': '2025-06-08T09:22:25.948429+00:00'}],\n",
       " 'created_at': '2025-06-07T21:50:07.117765',\n",
       " 'id': 'da06a6dd-63df-410e-933c-e3c0e6c0ba5f'}"
      ]
     },
     "execution_count": 13,
     "metadata": {},
     "output_type": "execute_result"
    }
   ],
   "source": [
    "rename_chat_session(session_id, \"5th Updated Demo Contract Session\")"
   ]
  },
  {
   "cell_type": "code",
   "execution_count": 14,
   "id": "6c060a76",
   "metadata": {},
   "outputs": [],
   "source": [
    "def send_chat_message(session_id: str, question: str) -> dict:\n",
    "    \"\"\"\n",
    "    Send a message to the chat endpoint and receive a simulated assistant response.\n",
    "\n",
    "    Args:\n",
    "        session_id (str): The UUID of the chat session.\n",
    "        question (str): The user's question to send.\n",
    "\n",
    "    Returns:\n",
    "        dict: Parsed response from the assistant including sources.\n",
    "    \"\"\"\n",
    "    payload = {\n",
    "        \"session_id\": session_id,\n",
    "        \"query\": question\n",
    "    }\n",
    "\n",
    "    try:\n",
    "        response = client.post(\"/chat\", json=payload)\n",
    "        response.raise_for_status()\n",
    "        result = response.json()\n",
    "        print(f\"✅ Assistant response: {result['response']}\")\n",
    "        return result\n",
    "    except httpx.HTTPError as e:\n",
    "        print(f\"❌ Error during chat request: {e}\")\n",
    "        return {}\n"
   ]
  },
  {
   "cell_type": "code",
   "execution_count": 15,
   "id": "ebc84d8d",
   "metadata": {},
   "outputs": [
    {
     "name": "stdout",
     "output_type": "stream",
     "text": [
      "✅ Assistant response: Hi, good day! I received your question: What are the top 10 products for the category 'Electronics'?\n"
     ]
    }
   ],
   "source": [
    "response = send_chat_message(session_id, \"What are the top 10 products for the category 'Electronics'?\")"
   ]
  },
  {
   "cell_type": "code",
   "execution_count": 16,
   "id": "c26fdc2b",
   "metadata": {},
   "outputs": [
    {
     "data": {
      "text/plain": [
       "{'response': \"Hi, good day! I received your question: What are the top 10 products for the category 'Electronics'?\",\n",
       " 'success': True,\n",
       " 'sources': [{'document_title': 'Dummy Source',\n",
       "   'section_text': 'Dummy Section'}]}"
      ]
     },
     "execution_count": 16,
     "metadata": {},
     "output_type": "execute_result"
    }
   ],
   "source": [
    "response"
   ]
  },
  {
   "cell_type": "code",
   "execution_count": 18,
   "id": "30c11333",
   "metadata": {},
   "outputs": [],
   "source": [
    "def delete_chat_session(session_id: str) -> bool:\n",
    "    try:\n",
    "        response = client.delete(f\"/{session_id}\")\n",
    "        response.raise_for_status()\n",
    "        result = response.json()\n",
    "        if result.get(\"success\"):\n",
    "            print(f\"✅ Session {session_id} deleted successfully.\")\n",
    "            return True\n",
    "        else:\n",
    "            print(f\"⚠️ Deletion failed for session {session_id}.\")\n",
    "            return False\n",
    "    except httpx.HTTPStatusError as e:\n",
    "        print(f\"❌ HTTP error during deletion: {e.response.status_code} - {e.response.text}\")\n",
    "        return False\n",
    "    except Exception as e:\n",
    "        print(f\"❌ Unexpected error: {e}\")\n",
    "        return False\n"
   ]
  },
  {
   "cell_type": "code",
   "execution_count": 20,
   "id": "19201d9d",
   "metadata": {},
   "outputs": [
    {
     "name": "stdout",
     "output_type": "stream",
     "text": [
      "❌ HTTP error during deletion: 404 - {\"detail\":\"Session not found\"}\n"
     ]
    },
    {
     "data": {
      "text/plain": [
       "False"
      ]
     },
     "execution_count": 20,
     "metadata": {},
     "output_type": "execute_result"
    }
   ],
   "source": [
    "delete_chat_session(session_id)"
   ]
  },
  {
   "cell_type": "code",
   "execution_count": 1,
   "id": "ded3b922",
   "metadata": {},
   "outputs": [],
   "source": [
    "def test_vector_db_search(question: str):\n",
    "    endpoint = \"/search\"\n",
    "    payload = {\"question\": question}\n",
    "\n",
    "    try:\n",
    "        response = client.post(endpoint, json=payload)\n",
    "        response.raise_for_status()\n",
    "\n",
    "        documents = response.json()\n",
    "        print(\"Retrieved documents:\")\n",
    "        for doc in documents:\n",
    "            print(f\"- {doc['file_name']} (distance: {doc.get('_distance', doc.get('distance'))})\")\n",
    "        return documents\n",
    "\n",
    "    except httpx.HTTPStatusError as e:\n",
    "        print(f\"HTTP error: {e.response.status_code} - {e.response.text}\")\n",
    "    except Exception as e:\n",
    "        print(f\"Request failed: {e}\")"
   ]
  },
  {
   "cell_type": "code",
   "execution_count": 8,
   "id": "07773b3b",
   "metadata": {},
   "outputs": [
    {
     "name": "stdout",
     "output_type": "stream",
     "text": [
      "Retrieved documents:\n",
      "- CW0302.pdf (distance: 0.9993271231651306)\n",
      "- CW0303.pdf (distance: 1.025444507598877)\n",
      "- CW0310.pdf (distance: 1.2309598922729492)\n",
      "- CW0319.pdf (distance: 1.232763648033142)\n",
      "- CW0315.pdf (distance: 1.2375408411026)\n"
     ]
    }
   ],
   "source": [
    "response = test_vector_db_search(\"What do you know about Supplier: Alpha Suppliers Inc. and what it supplies\")"
   ]
  },
  {
   "cell_type": "markdown",
   "id": "d88b512a",
   "metadata": {},
   "source": [
    "# Debugging"
   ]
  },
  {
   "cell_type": "code",
   "execution_count": 11,
   "id": "135e95ab",
   "metadata": {},
   "outputs": [],
   "source": [
    "from procureme.dbmodels.session import ChatMessage, ChatRole, ChatSession\n",
    "from pydantic_settings import BaseSettings\n",
    "from pathlib import Path\n",
    "from sqlmodel import Session, create_engine\n"
   ]
  },
  {
   "cell_type": "code",
   "execution_count": 12,
   "id": "fdba36c6",
   "metadata": {},
   "outputs": [],
   "source": [
    "DEFAULT_ENV_FILE = Path().absolute().parent.joinpath(\".env\")\n",
    "DEFAULT_ENV_FILE.exists()\n",
    "import os"
   ]
  },
  {
   "cell_type": "code",
   "execution_count": 13,
   "id": "17b33436",
   "metadata": {},
   "outputs": [],
   "source": [
    "class Settings(BaseSettings):\n",
    "    OPENAI_API_KEY: str\n",
    "    POSTGRES_USER: str\n",
    "    POSTGRES_PASSWORD: str\n",
    "    POSTGRES_HOST: str\n",
    "    POSTGRES_PORT: str\n",
    "    POSTGRES_DB: str\n",
    "\n",
    "\n",
    "    @property\n",
    "    def pg_database_url(self):\n",
    "        host_system = os.getenv(\"HOST_SYSTEM\")\n",
    "        if host_system == \"container\":\n",
    "            self.POSTGRES_HOST = \"postgres\"\n",
    "            return (\n",
    "                f\"postgresql+psycopg2://{self.POSTGRES_USER}:\"\n",
    "                f\"{self.POSTGRES_PASSWORD}@{self.POSTGRES_HOST}:\"\n",
    "                f\"{self.POSTGRES_PORT}/{self.POSTGRES_DB}\"\n",
    "            )\n",
    "        \n",
    "        return (\n",
    "            f\"postgresql+psycopg2://{self.POSTGRES_USER}:\"\n",
    "            f\"{self.POSTGRES_PASSWORD}@{self.POSTGRES_HOST}:\"\n",
    "            f\"{self.POSTGRES_PORT}/{self.POSTGRES_DB}\"\n",
    "        )\n",
    "\n",
    "    class Config:\n",
    "        env_file = DEFAULT_ENV_FILE if os.getenv(\"RUNTIME_ENV\", \"local\") == \"local\" else None\n",
    "        extra = \"ignore\"\n"
   ]
  },
  {
   "cell_type": "code",
   "execution_count": 14,
   "id": "d8a0a3cb",
   "metadata": {},
   "outputs": [],
   "source": [
    "setting = Settings()"
   ]
  },
  {
   "cell_type": "code",
   "execution_count": 16,
   "id": "f365e755",
   "metadata": {},
   "outputs": [],
   "source": [
    "def get_session():\n",
    "    settings = Settings()\n",
    "    engine = create_engine(settings.pg_database_url, echo=True)\n",
    "    return engine"
   ]
  },
  {
   "cell_type": "code",
   "execution_count": null,
   "id": "4356ed90",
   "metadata": {},
   "outputs": [],
   "source": [
    "def append_message(session_id: UUID, role: ChatRole, content: str, db: Session = Depends(get_session)):\n",
    "    chat = db.get(ChatSession, session_id)\n",
    "    if not chat:\n",
    "        raise HTTPException(status_code=404, detail=\"Session not found\")\n",
    "    logger.info(f\"Received message: {chat}\")\n",
    "    message = ChatMessage(role=role, content=content, timestamp=datetime.now(tz=timezone.utc))\n",
    "    logger.info(f\"Received message: {message}\")\n",
    "    msg_json = message.model_dump()\n",
    "    msg_json[\"timestamp\"] = message.timestamp.isoformat()\n",
    "    logger.info(f\"Received message: {msg_json}\")\n",
    "    chat.messages.append(message.model_dump())\n",
    "    chat.updated_at = datetime.now(tz=timezone.utc)\n",
    "    logger.info(f\"Received message: {chat}\")\n",
    "    db.add(chat)\n",
    "    db.commit()\n",
    "    db.refresh(chat)\n",
    "    return chat"
   ]
  },
  {
   "cell_type": "code",
   "execution_count": 17,
   "id": "42160755",
   "metadata": {},
   "outputs": [
    {
     "name": "stdout",
     "output_type": "stream",
     "text": [
      "2025-06-08 11:13:38,072 INFO sqlalchemy.engine.Engine select pg_catalog.version()\n",
      "2025-06-08 11:13:38,074 INFO sqlalchemy.engine.Engine [raw sql] {}\n"
     ]
    },
    {
     "name": "stdout",
     "output_type": "stream",
     "text": [
      "2025-06-08 11:13:38,077 INFO sqlalchemy.engine.Engine select current_schema()\n",
      "2025-06-08 11:13:38,078 INFO sqlalchemy.engine.Engine [raw sql] {}\n",
      "2025-06-08 11:13:38,080 INFO sqlalchemy.engine.Engine show standard_conforming_strings\n",
      "2025-06-08 11:13:38,081 INFO sqlalchemy.engine.Engine [raw sql] {}\n",
      "2025-06-08 11:13:38,082 INFO sqlalchemy.engine.Engine BEGIN (implicit)\n",
      "2025-06-08 11:13:38,090 INFO sqlalchemy.engine.Engine SELECT chat_sessions.id AS chat_sessions_id, chat_sessions.label AS chat_sessions_label, chat_sessions.messages AS chat_sessions_messages, chat_sessions.created_at AS chat_sessions_created_at, chat_sessions.updated_at AS chat_sessions_updated_at \n",
      "FROM chat_sessions \n",
      "WHERE chat_sessions.id = %(pk_1)s::UUID\n",
      "2025-06-08 11:13:38,092 INFO sqlalchemy.engine.Engine [generated in 0.00224s] {'pk_1': UUID('da06a6dd-63df-410e-933c-e3c0e6c0ba5f')}\n",
      "2025-06-08 11:13:38,101 INFO sqlalchemy.engine.Engine UPDATE chat_sessions SET messages=%(messages)s::JSONB, updated_at=%(updated_at)s WHERE chat_sessions.id = %(chat_sessions_id)s::UUID\n",
      "2025-06-08 11:13:38,103 INFO sqlalchemy.engine.Engine [generated in 0.00261s] {'messages': '[{\"role\": \"user\", \"content\": \"Hello from client!\", \"timestamp\": \"2025-06-08T08:46:42.363283+00:00\"}, {\"role\": \"assistant\", \"content\": \"Hello from ass ... (118 characters truncated) ... mp\": \"2025-06-08T09:06:47.523262+00:00\"}, {\"role\": \"assistant\", \"content\": \"Hello from ASSISTANT!\", \"timestamp\": \"2025-06-08T09:13:38.097114+00:00\"}]', 'updated_at': datetime.datetime(2025, 6, 8, 9, 13, 38, 97353, tzinfo=datetime.timezone.utc), 'chat_sessions_id': UUID('da06a6dd-63df-410e-933c-e3c0e6c0ba5f')}\n",
      "2025-06-08 11:13:38,107 INFO sqlalchemy.engine.Engine COMMIT\n",
      "2025-06-08 11:13:38,112 INFO sqlalchemy.engine.Engine BEGIN (implicit)\n",
      "2025-06-08 11:13:38,118 INFO sqlalchemy.engine.Engine SELECT chat_sessions.id, chat_sessions.label, chat_sessions.messages, chat_sessions.created_at, chat_sessions.updated_at \n",
      "FROM chat_sessions \n",
      "WHERE chat_sessions.id = %(pk_1)s::UUID\n",
      "2025-06-08 11:13:38,119 INFO sqlalchemy.engine.Engine [generated in 0.00130s] {'pk_1': UUID('da06a6dd-63df-410e-933c-e3c0e6c0ba5f')}\n",
      "updated_at=datetime.datetime(2025, 6, 8, 9, 13, 38, 97353) label='Demo Contract Session' created_at=datetime.datetime(2025, 6, 7, 21, 50, 7, 117765) id=UUID('da06a6dd-63df-410e-933c-e3c0e6c0ba5f') messages=[{'role': 'user', 'content': 'Hello from client!', 'timestamp': '2025-06-08T08:46:42.363283+00:00'}, {'role': 'assistant', 'content': 'Hello from assistant!', 'timestamp': '2025-06-08T09:02:50.700660+00:00'}, {'role': 'user', 'content': 'Hello from client!', 'timestamp': '2025-06-08T09:06:47.523262+00:00'}, {'role': 'assistant', 'content': 'Hello from ASSISTANT!', 'timestamp': '2025-06-08T09:13:38.097114+00:00'}]\n",
      "2025-06-08 11:13:38,123 INFO sqlalchemy.engine.Engine ROLLBACK\n"
     ]
    }
   ],
   "source": [
    "with Session(get_session()) as db:\n",
    "    db_chat = db.get(ChatSession, UUID(\"da06a6dd-63df-410e-933c-e3c0e6c0ba5f\"))\n",
    "    message = ChatMessage(role=ChatRole.ASSISTANT, content=\"Hello from ASSISTANT!\", timestamp=datetime.now(tz=timezone.utc).isoformat())\n",
    "    db_chat.messages.append(message.model_dump())\n",
    "    db_chat.updated_at = datetime.now(tz=timezone.utc)\n",
    "    db_session = db_chat.model_dump(exclude_unset=True)\n",
    "    db_chat.sqlmodel_update(db_session)\n",
    "    db.add(db_chat)\n",
    "    db.commit()\n",
    "    db.refresh(db_chat)\n",
    "    print(db_chat)\n",
    "    \n",
    "    # db.add(db_chat)\n",
    "    # db.commit()\n",
    "    # db.refresh(db_chat)"
   ]
  },
  {
   "cell_type": "code",
   "execution_count": 19,
   "id": "9ee42efe",
   "metadata": {},
   "outputs": [
    {
     "name": "stdout",
     "output_type": "stream",
     "text": [
      "{\n",
      "    \"updated_at\": \"2025-06-08T09:13:38.097353\",\n",
      "    \"label\": \"Demo Contract Session\",\n",
      "    \"created_at\": \"2025-06-07T21:50:07.117765\",\n",
      "    \"id\": \"da06a6dd-63df-410e-933c-e3c0e6c0ba5f\",\n",
      "    \"messages\": [\n",
      "        {\n",
      "            \"role\": \"user\",\n",
      "            \"content\": \"Hello from client!\",\n",
      "            \"timestamp\": \"2025-06-08T08:46:42.363283+00:00\"\n",
      "        },\n",
      "        {\n",
      "            \"role\": \"assistant\",\n",
      "            \"content\": \"Hello from assistant!\",\n",
      "            \"timestamp\": \"2025-06-08T09:02:50.700660+00:00\"\n",
      "        },\n",
      "        {\n",
      "            \"role\": \"user\",\n",
      "            \"content\": \"Hello from client!\",\n",
      "            \"timestamp\": \"2025-06-08T09:06:47.523262+00:00\"\n",
      "        },\n",
      "        {\n",
      "            \"role\": \"assistant\",\n",
      "            \"content\": \"Hello from ASSISTANT!\",\n",
      "            \"timestamp\": \"2025-06-08T09:13:38.097114+00:00\"\n",
      "        }\n",
      "    ]\n",
      "}\n"
     ]
    }
   ],
   "source": [
    "print(db_chat.model_dump_json(indent=4))"
   ]
  }
 ],
 "metadata": {
  "kernelspec": {
   "display_name": ".venv",
   "language": "python",
   "name": "python3"
  },
  "language_info": {
   "codemirror_mode": {
    "name": "ipython",
    "version": 3
   },
   "file_extension": ".py",
   "mimetype": "text/x-python",
   "name": "python",
   "nbconvert_exporter": "python",
   "pygments_lexer": "ipython3",
   "version": "3.12.9"
  }
 },
 "nbformat": 4,
 "nbformat_minor": 5
}
