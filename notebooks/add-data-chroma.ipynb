{
 "cells": [
  {
   "cell_type": "code",
   "execution_count": 3,
   "metadata": {},
   "outputs": [],
   "source": [
    "import chromadb\n",
    "import logging\n",
    "import polars as pl\n",
    "from uuid import uuid4"
   ]
  },
  {
   "cell_type": "code",
   "execution_count": 4,
   "metadata": {},
   "outputs": [
    {
     "name": "stderr",
     "output_type": "stream",
     "text": [
      "/home/datapsycho/.local/share/hatch/env/virtual/smart-procurement/R5a3A4jN/smart-procurement/lib/python3.12/site-packages/sentence_transformers/cross_encoder/CrossEncoder.py:11: TqdmWarning: IProgress not found. Please update jupyter and ipywidgets. See https://ipywidgets.readthedocs.io/en/stable/user_install.html\n",
      "  from tqdm.autonotebook import tqdm, trange\n"
     ]
    }
   ],
   "source": [
    "from smart_procurement.embeeders import MixedbreadEmbedder\n",
    "from smart_procurement.embeeding_funcs import MixedbreadEmbeddingFunction\n",
    "from smart_procurement.models.chroma_cc_model import CommodityCodesListChromaDB"
   ]
  },
  {
   "cell_type": "code",
   "execution_count": 5,
   "metadata": {},
   "outputs": [],
   "source": [
    "logging.basicConfig(\n",
    "    format='%(asctime)s | %(levelname)s : %(message)s',\n",
    "    level=logging.INFO,\n",
    "    # stream=sys.stdout,\n",
    "    force=True\n",
    ")"
   ]
  },
  {
   "cell_type": "code",
   "execution_count": 6,
   "metadata": {},
   "outputs": [],
   "source": [
    "EMB_MODEL_PATH = \"../models/embeddings/mxbai-embed-large-v1\""
   ]
  },
  {
   "cell_type": "markdown",
   "metadata": {},
   "source": [
    "# Adding Cached Data"
   ]
  },
  {
   "cell_type": "code",
   "execution_count": 7,
   "metadata": {},
   "outputs": [
    {
     "name": "stderr",
     "output_type": "stream",
     "text": [
      "2024-08-31 16:40:16,527 | INFO : Anonymized telemetry enabled. See                     https://docs.trychroma.com/telemetry for more information.\n",
      "2024-08-31 16:40:16,566 | INFO : Anonymized telemetry enabled. See                     https://docs.trychroma.com/telemetry for more information.\n",
      "2024-08-31 16:40:16,634 | INFO : HTTP Request: GET http://localhost:8010/api/v1/tenants/default_tenant \"HTTP/1.1 200 OK\"\n",
      "2024-08-31 16:40:16,646 | INFO : HTTP Request: GET http://localhost:8010/api/v1/databases/default_database?tenant=default_tenant \"HTTP/1.1 200 OK\"\n"
     ]
    }
   ],
   "source": [
    "client = await chromadb.AsyncHttpClient(host=\"localhost\", port=8010)"
   ]
  },
  {
   "cell_type": "code",
   "execution_count": 10,
   "metadata": {},
   "outputs": [
    {
     "name": "stderr",
     "output_type": "stream",
     "text": [
      "2024-08-31 16:41:22,913 | INFO : Use pytorch device_name: cuda\n",
      "2024-08-31 16:41:22,914 | INFO : Load pretrained SentenceTransformer: ../models/embeddings/mxbai-embed-large-v1\n",
      "2024-08-31 16:41:23,995 | INFO : Model loaded from ../models/embeddings/mxbai-embed-large-v1\n"
     ]
    }
   ],
   "source": [
    "emb_model = MixedbreadEmbedder(EMB_MODEL_PATH)\n",
    "emb_func = MixedbreadEmbeddingFunction(embedder=emb_model)"
   ]
  },
  {
   "cell_type": "code",
   "execution_count": 15,
   "metadata": {},
   "outputs": [],
   "source": [
    "# await client.delete_collection(\"commodity_codes\")"
   ]
  },
  {
   "cell_type": "code",
   "execution_count": 7,
   "metadata": {},
   "outputs": [
    {
     "name": "stderr",
     "output_type": "stream",
     "text": [
      "2024-08-28 19:59:40,295 | INFO : Use pytorch device_name: mps\n",
      "2024-08-28 19:59:40,296 | INFO : Load pretrained SentenceTransformer: ../models/embeddings/mxbai-embed-large-v1\n",
      "2024-08-28 19:59:41,058 | INFO : Model loaded from ../models/embeddings/mxbai-embed-large-v1\n",
      "2024-08-28 19:59:41,067 | INFO : HTTP Request: GET http://localhost:8010/api/v1/collections/commodity_codes?tenant=default_tenant&database=default_database \"HTTP/1.1 200 OK\"\n"
     ]
    }
   ],
   "source": [
    "test_collection = await client.get_collection(\n",
    "    \"commodity_codes\", \n",
    "    embedding_function=MixedbreadEmbeddingFunction(\n",
    "        embedder=MixedbreadEmbedder(EMB_MODEL_PATH)\n",
    "    ),\n",
    "    # metadata={\n",
    "    # \"hnsw:space\": \"cosine\",\n",
    "    # \"hnsw:construction_ef\": 100,\n",
    "    # }\n",
    ")"
   ]
  },
  {
   "cell_type": "code",
   "execution_count": 19,
   "metadata": {},
   "outputs": [
    {
     "name": "stderr",
     "output_type": "stream",
     "text": [
      "2024-08-25 21:14:35,431 | INFO : Generating embeddings for 2 sentences with 1024 dimensions.\n",
      "Batches: 100%|██████████| 1/1 [00:00<00:00,  9.33it/s]\n",
      "2024-08-25 21:14:35,608 | INFO : HTTP Request: GET http://localhost:8010/api/v1/pre-flight-checks \"HTTP/1.1 200 OK\"\n",
      "2024-08-25 21:14:35,637 | INFO : HTTP Request: POST http://localhost:8010/api/v1/collections/4566882f-e6ee-44d5-bfeb-b8a54c68c877/add \"HTTP/1.1 201 Created\"\n"
     ]
    }
   ],
   "source": [
    "await test_collection.add(\n",
    "    ids=[\"1\", \"2\"],\n",
    "    metadatas=[{\"id\": 1}, {\"id\": 2}],\n",
    "    documents=[\"A nice Cat\", \"An amazing Truck\"],\n",
    ")"
   ]
  },
  {
   "cell_type": "code",
   "execution_count": 20,
   "metadata": {},
   "outputs": [
    {
     "name": "stderr",
     "output_type": "stream",
     "text": [
      "2024-08-25 21:14:37,896 | INFO : Generating embeddings for 1 sentences with 1024 dimensions.\n",
      "Batches: 100%|██████████| 1/1 [00:00<00:00, 10.62it/s]\n",
      "2024-08-25 21:14:38,015 | INFO : HTTP Request: POST http://localhost:8010/api/v1/collections/4566882f-e6ee-44d5-bfeb-b8a54c68c877/query \"HTTP/1.1 200 OK\"\n"
     ]
    },
    {
     "data": {
      "text/plain": [
       "{'ids': [['2']],\n",
       " 'distances': [[0.5768009408184493]],\n",
       " 'embeddings': None,\n",
       " 'metadatas': [[{'id': 2}]],\n",
       " 'documents': [['An amazing Truck']],\n",
       " 'uris': None,\n",
       " 'data': None,\n",
       " 'included': ['documents', 'metadatas', 'distances']}"
      ]
     },
     "execution_count": 20,
     "metadata": {},
     "output_type": "execute_result"
    }
   ],
   "source": [
    "await test_collection.query(\n",
    "    query_texts=[\"A crazy dog.\"], \n",
    "    include=[\"documents\", \"metadatas\", \"distances\"], \n",
    "    n_results=1,\n",
    "    )"
   ]
  },
  {
   "cell_type": "code",
   "execution_count": 21,
   "metadata": {},
   "outputs": [
    {
     "name": "stderr",
     "output_type": "stream",
     "text": [
      "2024-08-25 21:14:41,691 | INFO : Generating embeddings for 1 sentences with 1024 dimensions.\n",
      "Batches: 100%|██████████| 1/1 [00:00<00:00, 10.31it/s]\n",
      "2024-08-25 21:14:41,812 | INFO : HTTP Request: POST http://localhost:8010/api/v1/collections/4566882f-e6ee-44d5-bfeb-b8a54c68c877/query \"HTTP/1.1 200 OK\"\n"
     ]
    }
   ],
   "source": [
    "result = await test_collection.query(\n",
    "    query_texts=[\"A Crazy Dog.\"], \n",
    "    include=[\"documents\", \"metadatas\", \"distances\"], \n",
    "    n_results=1,\n",
    "    )"
   ]
  },
  {
   "cell_type": "code",
   "execution_count": 22,
   "metadata": {},
   "outputs": [
    {
     "data": {
      "text/plain": [
       "{'ids': [['2']],\n",
       " 'distances': [[0.5768009408184493]],\n",
       " 'embeddings': None,\n",
       " 'metadatas': [[{'id': 2}]],\n",
       " 'documents': [['An amazing Truck']],\n",
       " 'uris': None,\n",
       " 'data': None,\n",
       " 'included': ['documents', 'metadatas', 'distances']}"
      ]
     },
     "execution_count": 22,
     "metadata": {},
     "output_type": "execute_result"
    }
   ],
   "source": [
    "result"
   ]
  },
  {
   "cell_type": "markdown",
   "metadata": {},
   "source": [
    "# Add Data to Vector Database"
   ]
  },
  {
   "cell_type": "code",
   "execution_count": 8,
   "metadata": {},
   "outputs": [],
   "source": [
    "from pathlib import Path"
   ]
  },
  {
   "cell_type": "code",
   "execution_count": 9,
   "metadata": {},
   "outputs": [
    {
     "name": "stderr",
     "output_type": "stream",
     "text": [
      "2024-08-31 16:40:32,733 | INFO : Anonymized telemetry enabled. See                     https://docs.trychroma.com/telemetry for more information.\n",
      "2024-08-31 16:40:32,735 | INFO : Anonymized telemetry enabled. See                     https://docs.trychroma.com/telemetry for more information.\n",
      "2024-08-31 16:40:32,744 | INFO : HTTP Request: GET http://localhost:8010/api/v1/tenants/default_tenant \"HTTP/1.1 200 OK\"\n",
      "2024-08-31 16:40:32,749 | INFO : HTTP Request: GET http://localhost:8010/api/v1/databases/default_database?tenant=default_tenant \"HTTP/1.1 200 OK\"\n"
     ]
    }
   ],
   "source": [
    "vector_db_client = await chromadb.AsyncHttpClient(host=\"localhost\", port=8010)"
   ]
  },
  {
   "cell_type": "code",
   "execution_count": 11,
   "metadata": {},
   "outputs": [],
   "source": [
    "async def get_connection_by_name(name: str = \"commodity_codes\"):\n",
    "    try:\n",
    "        collection = await vector_db_client.get_collection(\n",
    "            name, \n",
    "            embedding_function=emb_func\n",
    "            )\n",
    "    except Exception as e:\n",
    "        logging.info(e)\n",
    "        collection = await vector_db_client.get_or_create_collection(\n",
    "            name, \n",
    "            embedding_function=emb_func,\n",
    "            metadata={\n",
    "            \"hnsw:space\": \"cosine\",\n",
    "            \"hnsw:construction_ef\": 100,\n",
    "            }\n",
    "        )\n",
    "    return collection"
   ]
  },
  {
   "cell_type": "code",
   "execution_count": 25,
   "metadata": {},
   "outputs": [
    {
     "name": "stderr",
     "output_type": "stream",
     "text": [
      "2024-08-31 13:40:04,233 | INFO : HTTP Request: DELETE http://localhost:8010/api/v1/collections/commodity_code?tenant=default_tenant&database=default_database \"HTTP/1.1 200 OK\"\n"
     ]
    }
   ],
   "source": [
    "await vector_db_client.delete_collection(\"commodity_code\")"
   ]
  },
  {
   "cell_type": "code",
   "execution_count": 26,
   "metadata": {},
   "outputs": [
    {
     "name": "stderr",
     "output_type": "stream",
     "text": [
      "2024-08-31 13:40:12,838 | INFO : Use pytorch device_name: cuda\n",
      "2024-08-31 13:40:12,839 | INFO : Load pretrained SentenceTransformer: ../models/embeddings/mxbai-embed-large-v1\n",
      "2024-08-31 13:40:13,669 | INFO : Model loaded from ../models/embeddings/mxbai-embed-large-v1\n",
      "2024-08-31 13:40:13,684 | INFO : HTTP Request: GET http://localhost:8010/api/v1/collections/commodity_codes?tenant=default_tenant&database=default_database \"HTTP/1.1 500 Internal Server Error\"\n",
      "2024-08-31 13:40:13,687 | INFO : {\"error\":\"ValueError('Collection commodity_codes does not exist.')\"}\n",
      "2024-08-31 13:40:13,689 | INFO : Use pytorch device_name: cuda\n",
      "2024-08-31 13:40:13,689 | INFO : Load pretrained SentenceTransformer: ../models/embeddings/mxbai-embed-large-v1\n",
      "2024-08-31 13:40:14,777 | INFO : Model loaded from ../models/embeddings/mxbai-embed-large-v1\n",
      "2024-08-31 13:40:14,799 | INFO : HTTP Request: POST http://localhost:8010/api/v1/collections?tenant=default_tenant&database=default_database \"HTTP/1.1 200 OK\"\n"
     ]
    }
   ],
   "source": [
    "commodity_code_coll_client = await get_connection_by_name(\"commodity_codes\")"
   ]
  },
  {
   "cell_type": "code",
   "execution_count": 16,
   "metadata": {},
   "outputs": [],
   "source": [
    "DATA_PATH = Path().absolute().parent.joinpath(\"data\")\n",
    "COMMODITY_CODE_FILE_PATH = DATA_PATH.joinpath(\"raw\", \"commodity_codes.csv\")"
   ]
  },
  {
   "cell_type": "code",
   "execution_count": 17,
   "metadata": {},
   "outputs": [],
   "source": [
    "cc_df = pl.read_csv(COMMODITY_CODE_FILE_PATH, separator=\"|\")"
   ]
  },
  {
   "cell_type": "code",
   "execution_count": 18,
   "metadata": {},
   "outputs": [],
   "source": [
    "test_cc_list= CommodityCodesListChromaDB.from_dict(cc_df.to_dicts())\n",
    "cc_documents = test_cc_list.get_chroma_input_document()"
   ]
  },
  {
   "cell_type": "code",
   "execution_count": 21,
   "metadata": {},
   "outputs": [
    {
     "data": {
      "text/plain": [
       "[{'l1': 10,\n",
       "  'l1_desc': 'Office Equipment',\n",
       "  'l2': 1010,\n",
       "  'l2_desc': 'Files and Stationery'},\n",
       " {'l1': 10,\n",
       "  'l1_desc': 'Office Equipment',\n",
       "  'l2': 1010,\n",
       "  'l2_desc': 'Files and Stationery'},\n",
       " {'l1': 10,\n",
       "  'l1_desc': 'Office Equipment',\n",
       "  'l2': 1010,\n",
       "  'l2_desc': 'Files and Stationery'},\n",
       " {'l1': 10,\n",
       "  'l1_desc': 'Office Equipment',\n",
       "  'l2': 1020,\n",
       "  'l2_desc': 'Printers and Scanners'},\n",
       " {'l1': 10,\n",
       "  'l1_desc': 'Office Equipment',\n",
       "  'l2': 1020,\n",
       "  'l2_desc': 'Printers and Scanners'},\n",
       " {'l1': 10,\n",
       "  'l1_desc': 'Office Equipment',\n",
       "  'l2': 1020,\n",
       "  'l2_desc': 'Printers and Scanners'},\n",
       " {'l1': 10,\n",
       "  'l1_desc': 'Office Equipment',\n",
       "  'l2': 1030,\n",
       "  'l2_desc': 'Office Furniture'},\n",
       " {'l1': 10,\n",
       "  'l1_desc': 'Office Equipment',\n",
       "  'l2': 1030,\n",
       "  'l2_desc': 'Office Furniture'},\n",
       " {'l1': 10,\n",
       "  'l1_desc': 'Office Equipment',\n",
       "  'l2': 1030,\n",
       "  'l2_desc': 'Office Furniture'},\n",
       " {'l1': 10,\n",
       "  'l1_desc': 'Office Equipment',\n",
       "  'l2': 1040,\n",
       "  'l2_desc': 'Communication Devices'},\n",
       " {'l1': 10,\n",
       "  'l1_desc': 'Office Equipment',\n",
       "  'l2': 1040,\n",
       "  'l2_desc': 'Communication Devices'},\n",
       " {'l1': 10,\n",
       "  'l1_desc': 'Office Equipment',\n",
       "  'l2': 1040,\n",
       "  'l2_desc': 'Communication Devices'},\n",
       " {'l1': 20,\n",
       "  'l1_desc': 'IT Goods and Services',\n",
       "  'l2': 2010,\n",
       "  'l2_desc': 'Computers and Peripherals'},\n",
       " {'l1': 20,\n",
       "  'l1_desc': 'IT Goods and Services',\n",
       "  'l2': 2010,\n",
       "  'l2_desc': 'Computers and Peripherals'},\n",
       " {'l1': 20,\n",
       "  'l1_desc': 'IT Goods and Services',\n",
       "  'l2': 2010,\n",
       "  'l2_desc': 'Computers and Peripherals'},\n",
       " {'l1': 20,\n",
       "  'l1_desc': 'IT Goods and Services',\n",
       "  'l2': 2020,\n",
       "  'l2_desc': 'Networking Equipment'},\n",
       " {'l1': 20,\n",
       "  'l1_desc': 'IT Goods and Services',\n",
       "  'l2': 2020,\n",
       "  'l2_desc': 'Networking Equipment'},\n",
       " {'l1': 20,\n",
       "  'l1_desc': 'IT Goods and Services',\n",
       "  'l2': 2020,\n",
       "  'l2_desc': 'Networking Equipment'},\n",
       " {'l1': 20,\n",
       "  'l1_desc': 'IT Goods and Services',\n",
       "  'l2': 2030,\n",
       "  'l2_desc': 'Software Licenses'},\n",
       " {'l1': 20,\n",
       "  'l1_desc': 'IT Goods and Services',\n",
       "  'l2': 2030,\n",
       "  'l2_desc': 'Software Licenses'},\n",
       " {'l1': 20,\n",
       "  'l1_desc': 'IT Goods and Services',\n",
       "  'l2': 2030,\n",
       "  'l2_desc': 'Software Licenses'},\n",
       " {'l1': 20,\n",
       "  'l1_desc': 'IT Goods and Services',\n",
       "  'l2': 2040,\n",
       "  'l2_desc': 'Cloud Services'},\n",
       " {'l1': 20,\n",
       "  'l1_desc': 'IT Goods and Services',\n",
       "  'l2': 2040,\n",
       "  'l2_desc': 'Cloud Services'},\n",
       " {'l1': 20,\n",
       "  'l1_desc': 'IT Goods and Services',\n",
       "  'l2': 2040,\n",
       "  'l2_desc': 'Cloud Services'},\n",
       " {'l1': 30,\n",
       "  'l1_desc': 'Supply Chain',\n",
       "  'l2': 3010,\n",
       "  'l2_desc': 'Logistics and Transportation'},\n",
       " {'l1': 30,\n",
       "  'l1_desc': 'Supply Chain',\n",
       "  'l2': 3010,\n",
       "  'l2_desc': 'Logistics and Transportation'},\n",
       " {'l1': 30,\n",
       "  'l1_desc': 'Supply Chain',\n",
       "  'l2': 3010,\n",
       "  'l2_desc': 'Logistics and Transportation'},\n",
       " {'l1': 30,\n",
       "  'l1_desc': 'Supply Chain',\n",
       "  'l2': 3020,\n",
       "  'l2_desc': 'Inventory Management'},\n",
       " {'l1': 30,\n",
       "  'l1_desc': 'Supply Chain',\n",
       "  'l2': 3020,\n",
       "  'l2_desc': 'Inventory Management'},\n",
       " {'l1': 30,\n",
       "  'l1_desc': 'Supply Chain',\n",
       "  'l2': 3020,\n",
       "  'l2_desc': 'Inventory Management'},\n",
       " {'l1': 30,\n",
       "  'l1_desc': 'Supply Chain',\n",
       "  'l2': 3030,\n",
       "  'l2_desc': 'Procurement Services'},\n",
       " {'l1': 30,\n",
       "  'l1_desc': 'Supply Chain',\n",
       "  'l2': 3030,\n",
       "  'l2_desc': 'Procurement Services'},\n",
       " {'l1': 30,\n",
       "  'l1_desc': 'Supply Chain',\n",
       "  'l2': 3030,\n",
       "  'l2_desc': 'Procurement Services'},\n",
       " {'l1': 40,\n",
       "  'l1_desc': 'Quality and Manufacturing',\n",
       "  'l2': 4010,\n",
       "  'l2_desc': 'Manufacturing Equipment'},\n",
       " {'l1': 40,\n",
       "  'l1_desc': 'Quality and Manufacturing',\n",
       "  'l2': 4010,\n",
       "  'l2_desc': 'Manufacturing Equipment'},\n",
       " {'l1': 40,\n",
       "  'l1_desc': 'Quality and Manufacturing',\n",
       "  'l2': 4010,\n",
       "  'l2_desc': 'Manufacturing Equipment'},\n",
       " {'l1': 40,\n",
       "  'l1_desc': 'Quality and Manufacturing',\n",
       "  'l2': 4020,\n",
       "  'l2_desc': 'Quality Control Instruments'},\n",
       " {'l1': 40,\n",
       "  'l1_desc': 'Quality and Manufacturing',\n",
       "  'l2': 4020,\n",
       "  'l2_desc': 'Quality Control Instruments'},\n",
       " {'l1': 40,\n",
       "  'l1_desc': 'Quality and Manufacturing',\n",
       "  'l2': 4020,\n",
       "  'l2_desc': 'Quality Control Instruments'},\n",
       " {'l1': 40,\n",
       "  'l1_desc': 'Quality and Manufacturing',\n",
       "  'l2': 4030,\n",
       "  'l2_desc': 'Safety Equipment'},\n",
       " {'l1': 40,\n",
       "  'l1_desc': 'Quality and Manufacturing',\n",
       "  'l2': 4030,\n",
       "  'l2_desc': 'Safety Equipment'},\n",
       " {'l1': 40,\n",
       "  'l1_desc': 'Quality and Manufacturing',\n",
       "  'l2': 4030,\n",
       "  'l2_desc': 'Safety Equipment'},\n",
       " {'l1': 50,\n",
       "  'l1_desc': 'Research and Development',\n",
       "  'l2': 5010,\n",
       "  'l2_desc': 'Laboratory Equipment'},\n",
       " {'l1': 50,\n",
       "  'l1_desc': 'Research and Development',\n",
       "  'l2': 5010,\n",
       "  'l2_desc': 'Laboratory Equipment'},\n",
       " {'l1': 50,\n",
       "  'l1_desc': 'Research and Development',\n",
       "  'l2': 5010,\n",
       "  'l2_desc': 'Laboratory Equipment'},\n",
       " {'l1': 50,\n",
       "  'l1_desc': 'Research and Development',\n",
       "  'l2': 5020,\n",
       "  'l2_desc': 'Lab Consumables'},\n",
       " {'l1': 50,\n",
       "  'l1_desc': 'Research and Development',\n",
       "  'l2': 5020,\n",
       "  'l2_desc': 'Lab Consumables'},\n",
       " {'l1': 50,\n",
       "  'l1_desc': 'Research and Development',\n",
       "  'l2': 5020,\n",
       "  'l2_desc': 'Lab Consumables'},\n",
       " {'l1': 50,\n",
       "  'l1_desc': 'Research and Development',\n",
       "  'l2': 5030,\n",
       "  'l2_desc': 'Scientific Software'},\n",
       " {'l1': 50,\n",
       "  'l1_desc': 'Research and Development',\n",
       "  'l2': 5030,\n",
       "  'l2_desc': 'Scientific Software'},\n",
       " {'l1': 50,\n",
       "  'l1_desc': 'Research and Development',\n",
       "  'l2': 5030,\n",
       "  'l2_desc': 'Scientific Software'},\n",
       " {'l1': 60,\n",
       "  'l1_desc': 'Human Resources',\n",
       "  'l2': 6010,\n",
       "  'l2_desc': 'Training and Development'},\n",
       " {'l1': 60,\n",
       "  'l1_desc': 'Human Resources',\n",
       "  'l2': 6010,\n",
       "  'l2_desc': 'Training and Development'},\n",
       " {'l1': 60,\n",
       "  'l1_desc': 'Human Resources',\n",
       "  'l2': 6010,\n",
       "  'l2_desc': 'Training and Development'},\n",
       " {'l1': 60,\n",
       "  'l1_desc': 'Human Resources',\n",
       "  'l2': 6020,\n",
       "  'l2_desc': 'Recruitment Services'},\n",
       " {'l1': 60,\n",
       "  'l1_desc': 'Human Resources',\n",
       "  'l2': 6020,\n",
       "  'l2_desc': 'Recruitment Services'},\n",
       " {'l1': 60,\n",
       "  'l1_desc': 'Human Resources',\n",
       "  'l2': 6020,\n",
       "  'l2_desc': 'Recruitment Services'},\n",
       " {'l1': 70,\n",
       "  'l1_desc': 'Facilities Management',\n",
       "  'l2': 7010,\n",
       "  'l2_desc': 'Building Maintenance'},\n",
       " {'l1': 70,\n",
       "  'l1_desc': 'Facilities Management',\n",
       "  'l2': 7010,\n",
       "  'l2_desc': 'Building Maintenance'},\n",
       " {'l1': 70,\n",
       "  'l1_desc': 'Facilities Management',\n",
       "  'l2': 7010,\n",
       "  'l2_desc': 'Building Maintenance'},\n",
       " {'l1': 70,\n",
       "  'l1_desc': 'Facilities Management',\n",
       "  'l2': 7020,\n",
       "  'l2_desc': 'Security Services'},\n",
       " {'l1': 70,\n",
       "  'l1_desc': 'Facilities Management',\n",
       "  'l2': 7020,\n",
       "  'l2_desc': 'Security Services'},\n",
       " {'l1': 70,\n",
       "  'l1_desc': 'Facilities Management',\n",
       "  'l2': 7020,\n",
       "  'l2_desc': 'Security Services'},\n",
       " {'l1': 70,\n",
       "  'l1_desc': 'Facilities Management',\n",
       "  'l2': 7030,\n",
       "  'l2_desc': 'Cleaning and Janitorial Services'},\n",
       " {'l1': 70,\n",
       "  'l1_desc': 'Facilities Management',\n",
       "  'l2': 7030,\n",
       "  'l2_desc': 'Cleaning and Janitorial Services'},\n",
       " {'l1': 70,\n",
       "  'l1_desc': 'Facilities Management',\n",
       "  'l2': 7030,\n",
       "  'l2_desc': 'Cleaning and Janitorial Services'}]"
      ]
     },
     "execution_count": 21,
     "metadata": {},
     "output_type": "execute_result"
    }
   ],
   "source": [
    "cc_documents[\"metadatas\"]"
   ]
  },
  {
   "cell_type": "code",
   "execution_count": 27,
   "metadata": {},
   "outputs": [
    {
     "name": "stderr",
     "output_type": "stream",
     "text": [
      "2024-08-31 13:40:23,030 | INFO : Generating embeddings for 66 sentences with 1024 dimensions.\n",
      "Batches: 100%|██████████| 3/3 [00:00<00:00, 25.72it/s]\n",
      "2024-08-31 13:40:23,233 | INFO : HTTP Request: POST http://localhost:8010/api/v1/collections/0da93b20-e59e-4cfa-a36c-12fa9c209179/add \"HTTP/1.1 201 Created\"\n"
     ]
    }
   ],
   "source": [
    "await commodity_code_coll_client.add(**cc_documents)"
   ]
  },
  {
   "cell_type": "code",
   "execution_count": 28,
   "metadata": {},
   "outputs": [
    {
     "name": "stderr",
     "output_type": "stream",
     "text": [
      "2024-08-31 13:40:28,281 | INFO : HTTP Request: GET http://localhost:8010/api/v1/collections/0da93b20-e59e-4cfa-a36c-12fa9c209179/count \"HTTP/1.1 200 OK\"\n"
     ]
    },
    {
     "data": {
      "text/plain": [
       "66"
      ]
     },
     "execution_count": 28,
     "metadata": {},
     "output_type": "execute_result"
    }
   ],
   "source": [
    "await commodity_code_coll_client.count()"
   ]
  },
  {
   "cell_type": "code",
   "execution_count": 29,
   "metadata": {},
   "outputs": [
    {
     "name": "stderr",
     "output_type": "stream",
     "text": [
      "2024-08-31 13:40:31,623 | INFO : Generating embeddings for 1 sentences with 1024 dimensions.\n",
      "Batches: 100%|██████████| 1/1 [00:00<00:00, 76.59it/s]\n",
      "2024-08-31 13:40:31,668 | INFO : HTTP Request: POST http://localhost:8010/api/v1/collections/0da93b20-e59e-4cfa-a36c-12fa9c209179/query \"HTTP/1.1 200 OK\"\n"
     ]
    }
   ],
   "source": [
    "sample_result = await commodity_code_coll_client.query(\n",
    "    query_texts=[\"I want to buy keyboard for computer.\"], \n",
    "    include=[\"documents\", \"metadatas\", \"distances\"], \n",
    "    n_results=3,\n",
    "    )"
   ]
  },
  {
   "cell_type": "code",
   "execution_count": 30,
   "metadata": {},
   "outputs": [
    {
     "data": {
      "text/plain": [
       "{'ids': [['201010', '201030', '201020']],\n",
       " 'distances': [[0.4113712253310119, 0.4324870137500332, 0.43757759473900204]],\n",
       " 'embeddings': None,\n",
       " 'metadatas': [[{'l1': 20,\n",
       "    'l1_desc': 'IT Goods and Services',\n",
       "    'l2': 2010,\n",
       "    'l2_desc': 'Computers and Peripherals'},\n",
       "   {'l1': 20,\n",
       "    'l1_desc': 'IT Goods and Services',\n",
       "    'l2': 2010,\n",
       "    'l2_desc': 'Computers and Peripherals'},\n",
       "   {'l1': 20,\n",
       "    'l1_desc': 'IT Goods and Services',\n",
       "    'l2': 2010,\n",
       "    'l2_desc': 'Computers and Peripherals'}]],\n",
       " 'documents': [['Desktop Computers for office workstations',\n",
       "   'Monitors and Display Screens for computing',\n",
       "   'Laptops for mobile workstations']],\n",
       " 'uris': None,\n",
       " 'data': None,\n",
       " 'included': ['documents', 'metadatas', 'distances']}"
      ]
     },
     "execution_count": 30,
     "metadata": {},
     "output_type": "execute_result"
    }
   ],
   "source": [
    "sample_result"
   ]
  },
  {
   "cell_type": "code",
   "execution_count": 20,
   "metadata": {},
   "outputs": [],
   "source": [
    "from pydantic import BaseModel"
   ]
  },
  {
   "cell_type": "code",
   "execution_count": 21,
   "metadata": {},
   "outputs": [],
   "source": [
    "class QueryResultMetadata(BaseModel):\n",
    "    l1: int\n",
    "    l1_desc: str\n",
    "    l2: int\n",
    "    l2_desc: str"
   ]
  },
  {
   "cell_type": "code",
   "execution_count": 22,
   "metadata": {},
   "outputs": [],
   "source": [
    "class QueryResult(BaseModel):\n",
    "    id: int\n",
    "    metadata: QueryResultMetadata\n",
    "    distance: float\n",
    "    document: str"
   ]
  },
  {
   "cell_type": "code",
   "execution_count": 23,
   "metadata": {},
   "outputs": [],
   "source": [
    "def parse_query_result(response: dict) -> QueryResult:\n",
    "    result = []\n",
    "    for _id, metadata, distance, document in zip(\n",
    "        response[\"ids\"][0], \n",
    "        response[\"metadatas\"][0], \n",
    "        response[\"distances\"][0],\n",
    "        response[\"documents\"][0],\n",
    "        ):\n",
    "        query_result = QueryResult(\n",
    "            id=_id,\n",
    "            metadata=metadata,\n",
    "            distance=distance,\n",
    "            document=document,\n",
    "        )\n",
    "        result.append(query_result)\n",
    "    return result"
   ]
  },
  {
   "cell_type": "code",
   "execution_count": 24,
   "metadata": {},
   "outputs": [
    {
     "data": {
      "text/plain": [
       "[QueryResult(id=201010, metadata=QueryResultMetadata(l1=20, l1_desc='IT Goods and Services', l2=2010, l2_desc='Computers and Peripherals'), distance=0.4113712253310119, document='Desktop Computers for office workstations'),\n",
       " QueryResult(id=201030, metadata=QueryResultMetadata(l1=20, l1_desc='IT Goods and Services', l2=2010, l2_desc='Computers and Peripherals'), distance=0.4324870137500332, document='Monitors and Display Screens for computing'),\n",
       " QueryResult(id=201020, metadata=QueryResultMetadata(l1=20, l1_desc='IT Goods and Services', l2=2010, l2_desc='Computers and Peripherals'), distance=0.43757759473900204, document='Laptops for mobile workstations')]"
      ]
     },
     "execution_count": 24,
     "metadata": {},
     "output_type": "execute_result"
    }
   ],
   "source": [
    "parse_query_result(sample_result)"
   ]
  },
  {
   "cell_type": "code",
   "execution_count": 35,
   "metadata": {},
   "outputs": [
    {
     "name": "stderr",
     "output_type": "stream",
     "text": [
      "2024-08-31 15:20:42,127 | INFO : Use pytorch device_name: cuda\n",
      "2024-08-31 15:20:42,128 | INFO : Load pretrained SentenceTransformer: ../models/embeddings/mxbai-embed-large-v1\n",
      "2024-08-31 15:20:43,319 | INFO : Model loaded from ../models/embeddings/mxbai-embed-large-v1\n",
      "2024-08-31 15:20:43,332 | INFO : HTTP Request: GET http://localhost:8010/api/v1/collections/cc_caching?tenant=default_tenant&database=default_database \"HTTP/1.1 500 Internal Server Error\"\n",
      "2024-08-31 15:20:43,334 | INFO : {\"error\":\"ValueError('Collection cc_caching does not exist.')\"}\n",
      "2024-08-31 15:20:43,335 | INFO : Use pytorch device_name: cuda\n",
      "2024-08-31 15:20:43,336 | INFO : Load pretrained SentenceTransformer: ../models/embeddings/mxbai-embed-large-v1\n",
      "2024-08-31 15:20:44,544 | INFO : Model loaded from ../models/embeddings/mxbai-embed-large-v1\n",
      "2024-08-31 15:20:44,564 | INFO : HTTP Request: POST http://localhost:8010/api/v1/collections?tenant=default_tenant&database=default_database \"HTTP/1.1 200 OK\"\n"
     ]
    },
    {
     "data": {
      "text/plain": [
       "Collection(id=de74d45a-d354-4200-bcf5-068f066c952b, name=cc_caching)"
      ]
     },
     "execution_count": 35,
     "metadata": {},
     "output_type": "execute_result"
    }
   ],
   "source": [
    "await get_connection_by_name(\"cc_caching\")"
   ]
  },
  {
   "cell_type": "markdown",
   "metadata": {},
   "source": [
    "# Insert Sample Data to Chromadb"
   ]
  },
  {
   "cell_type": "code",
   "execution_count": 12,
   "metadata": {},
   "outputs": [],
   "source": [
    "metadata = [{'l1': 10,\n",
    "  'l1_desc': 'Office Equipment',\n",
    "  'l2': 1010,\n",
    "  'l2_desc': 'Files and Stationery',\n",
    "  'l3': 101010,\n",
    "  'l3_desc': 'Pencil, Files, Envelopes for office equipment'},\n",
    " {'l1': 20,\n",
    "  'l1_desc': 'IT Goods and Services',\n",
    "  'l2': 2010,\n",
    "  'l2_desc': 'Computers and Peripherals',\n",
    "  'l3': 201010,\n",
    "  'l3_desc': 'Desktop Computers for office workstations'},\n",
    " {'l1': 20,\n",
    "  'l1_desc': 'IT Goods and Services',\n",
    "  'l2': 2010,\n",
    "  'l2_desc': 'Computers and Peripherals',\n",
    "  'l3': 201030,\n",
    "  'l3_desc': 'Monitors and Display Screens for computing'}]\n",
    "\n",
    "query = \"I want to buy keyboard and mouse for my computer.\"\n",
    "id = str(uuid4())\n"
   ]
  },
  {
   "cell_type": "code",
   "execution_count": 13,
   "metadata": {},
   "outputs": [
    {
     "name": "stderr",
     "output_type": "stream",
     "text": [
      "2024-08-31 16:44:25,037 | INFO : HTTP Request: GET http://localhost:8010/api/v1/collections/cc_caching?tenant=default_tenant&database=default_database \"HTTP/1.1 200 OK\"\n"
     ]
    }
   ],
   "source": [
    "caching_db_client = await get_connection_by_name(\"cc_caching\")"
   ]
  },
  {
   "cell_type": "code",
   "execution_count": 22,
   "metadata": {},
   "outputs": [],
   "source": [
    "import json"
   ]
  },
  {
   "cell_type": "code",
   "execution_count": 23,
   "metadata": {},
   "outputs": [
    {
     "data": {
      "text/plain": [
       "'[{\"l1\": 10, \"l1_desc\": \"Office Equipment\", \"l2\": 1010, \"l2_desc\": \"Files and Stationery\", \"l3\": 101010, \"l3_desc\": \"Pencil, Files, Envelopes for office equipment\"}, {\"l1\": 20, \"l1_desc\": \"IT Goods and Services\", \"l2\": 2010, \"l2_desc\": \"Computers and Peripherals\", \"l3\": 201010, \"l3_desc\": \"Desktop Computers for office workstations\"}, {\"l1\": 20, \"l1_desc\": \"IT Goods and Services\", \"l2\": 2010, \"l2_desc\": \"Computers and Peripherals\", \"l3\": 201030, \"l3_desc\": \"Monitors and Display Screens for computing\"}]'"
      ]
     },
     "execution_count": 23,
     "metadata": {},
     "output_type": "execute_result"
    }
   ],
   "source": [
    "json.dumps(metadata)"
   ]
  },
  {
   "cell_type": "code",
   "execution_count": 24,
   "metadata": {},
   "outputs": [
    {
     "name": "stderr",
     "output_type": "stream",
     "text": [
      "2024-08-31 16:51:37,628 | INFO : Generating embeddings for 1 sentences with 1024 dimensions.\n",
      "Batches: 100%|██████████| 1/1 [00:00<00:00,  2.76it/s]\n",
      "2024-08-31 16:51:38,004 | INFO : HTTP Request: GET http://localhost:8010/api/v1/pre-flight-checks \"HTTP/1.1 200 OK\"\n",
      "2024-08-31 16:51:38,028 | INFO : HTTP Request: POST http://localhost:8010/api/v1/collections/de74d45a-d354-4200-bcf5-068f066c952b/add \"HTTP/1.1 201 Created\"\n"
     ]
    }
   ],
   "source": [
    "await caching_db_client.add(\n",
    "        ids=[str(uuid4())],\n",
    "        metadatas=[{\"response_data\": json.dumps(metadata)}],\n",
    "        documents=[query],\n",
    "    )"
   ]
  },
  {
   "cell_type": "code",
   "execution_count": null,
   "metadata": {},
   "outputs": [],
   "source": [
    "caching_db_client.add(\n",
    "    \n",
    ")"
   ]
  }
 ],
 "metadata": {
  "kernelspec": {
   "display_name": "smart-procurement",
   "language": "python",
   "name": "python3"
  },
  "language_info": {
   "codemirror_mode": {
    "name": "ipython",
    "version": 3
   },
   "file_extension": ".py",
   "mimetype": "text/x-python",
   "name": "python",
   "nbconvert_exporter": "python",
   "pygments_lexer": "ipython3",
   "version": "3.12.4"
  }
 },
 "nbformat": 4,
 "nbformat_minor": 2
}
