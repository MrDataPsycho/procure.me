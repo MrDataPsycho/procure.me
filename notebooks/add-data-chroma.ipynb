{
 "cells": [
  {
   "cell_type": "code",
   "execution_count": 1,
   "metadata": {},
   "outputs": [],
   "source": [
    "import chromadb\n",
    "import logging\n",
    "import polars as pl"
   ]
  },
  {
   "cell_type": "code",
   "execution_count": 2,
   "metadata": {},
   "outputs": [
    {
     "name": "stderr",
     "output_type": "stream",
     "text": [
      "/Users/datapsycho/Library/Application Support/hatch/env/virtual/smart-procurement/Pzhnh7aS/smart-procurement/lib/python3.11/site-packages/sentence_transformers/cross_encoder/CrossEncoder.py:11: TqdmWarning: IProgress not found. Please update jupyter and ipywidgets. See https://ipywidgets.readthedocs.io/en/stable/user_install.html\n",
      "  from tqdm.autonotebook import tqdm, trange\n"
     ]
    }
   ],
   "source": [
    "from smart_procurement.embeeders import MixedbreadEmbedder\n",
    "from smart_procurement.embeeding_funcs import MixedbreadEmbeddingFunction\n",
    "from smart_procurement.models.chroma_cc_model import CommodityCodesListChromaDB"
   ]
  },
  {
   "cell_type": "code",
   "execution_count": 3,
   "metadata": {},
   "outputs": [],
   "source": [
    "logging.basicConfig(\n",
    "    format='%(asctime)s | %(levelname)s : %(message)s',\n",
    "    level=logging.INFO,\n",
    "    # stream=sys.stdout,\n",
    "    force=True\n",
    ")"
   ]
  },
  {
   "cell_type": "code",
   "execution_count": 4,
   "metadata": {},
   "outputs": [],
   "source": [
    "EMB_MODEL_PATH = \"../models/embeddings/mxbai-embed-large-v1\""
   ]
  },
  {
   "cell_type": "markdown",
   "metadata": {},
   "source": [
    "# Adding Cached Data"
   ]
  },
  {
   "cell_type": "code",
   "execution_count": 5,
   "metadata": {},
   "outputs": [
    {
     "name": "stderr",
     "output_type": "stream",
     "text": [
      "2024-08-28 19:58:54,075 | INFO : Anonymized telemetry enabled. See                     https://docs.trychroma.com/telemetry for more information.\n",
      "2024-08-28 19:58:54,112 | INFO : Anonymized telemetry enabled. See                     https://docs.trychroma.com/telemetry for more information.\n",
      "2024-08-28 19:58:54,132 | INFO : HTTP Request: GET http://localhost:8010/api/v1/tenants/default_tenant \"HTTP/1.1 200 OK\"\n",
      "2024-08-28 19:58:54,136 | INFO : HTTP Request: GET http://localhost:8010/api/v1/databases/default_database?tenant=default_tenant \"HTTP/1.1 200 OK\"\n"
     ]
    }
   ],
   "source": [
    "client = await chromadb.AsyncHttpClient(host=\"localhost\", port=8010)"
   ]
  },
  {
   "cell_type": "code",
   "execution_count": 6,
   "metadata": {},
   "outputs": [
    {
     "name": "stderr",
     "output_type": "stream",
     "text": [
      "2024-08-28 19:58:59,724 | INFO : Use pytorch device_name: mps\n",
      "2024-08-28 19:58:59,725 | INFO : Load pretrained SentenceTransformer: ../models/embeddings/mxbai-embed-large-v1\n",
      "2024-08-28 19:59:00,432 | INFO : Model loaded from ../models/embeddings/mxbai-embed-large-v1\n"
     ]
    }
   ],
   "source": [
    "emb_model = MixedbreadEmbedder(EMB_MODEL_PATH) "
   ]
  },
  {
   "cell_type": "code",
   "execution_count": 15,
   "metadata": {},
   "outputs": [],
   "source": [
    "# await client.delete_collection(\"commodity_codes\")"
   ]
  },
  {
   "cell_type": "code",
   "execution_count": 7,
   "metadata": {},
   "outputs": [
    {
     "name": "stderr",
     "output_type": "stream",
     "text": [
      "2024-08-28 19:59:40,295 | INFO : Use pytorch device_name: mps\n",
      "2024-08-28 19:59:40,296 | INFO : Load pretrained SentenceTransformer: ../models/embeddings/mxbai-embed-large-v1\n",
      "2024-08-28 19:59:41,058 | INFO : Model loaded from ../models/embeddings/mxbai-embed-large-v1\n",
      "2024-08-28 19:59:41,067 | INFO : HTTP Request: GET http://localhost:8010/api/v1/collections/commodity_codes?tenant=default_tenant&database=default_database \"HTTP/1.1 200 OK\"\n"
     ]
    }
   ],
   "source": [
    "test_collection = await client.get_collection(\n",
    "    \"commodity_codes\", \n",
    "    embedding_function=MixedbreadEmbeddingFunction(\n",
    "        embedder=MixedbreadEmbedder(EMB_MODEL_PATH)\n",
    "    ),\n",
    "    # metadata={\n",
    "    # \"hnsw:space\": \"cosine\",\n",
    "    # \"hnsw:construction_ef\": 100,\n",
    "    # }\n",
    ")"
   ]
  },
  {
   "cell_type": "code",
   "execution_count": 19,
   "metadata": {},
   "outputs": [
    {
     "name": "stderr",
     "output_type": "stream",
     "text": [
      "2024-08-25 21:14:35,431 | INFO : Generating embeddings for 2 sentences with 1024 dimensions.\n",
      "Batches: 100%|██████████| 1/1 [00:00<00:00,  9.33it/s]\n",
      "2024-08-25 21:14:35,608 | INFO : HTTP Request: GET http://localhost:8010/api/v1/pre-flight-checks \"HTTP/1.1 200 OK\"\n",
      "2024-08-25 21:14:35,637 | INFO : HTTP Request: POST http://localhost:8010/api/v1/collections/4566882f-e6ee-44d5-bfeb-b8a54c68c877/add \"HTTP/1.1 201 Created\"\n"
     ]
    }
   ],
   "source": [
    "await test_collection.add(\n",
    "    ids=[\"1\", \"2\"],\n",
    "    metadatas=[{\"id\": 1}, {\"id\": 2}],\n",
    "    documents=[\"A nice Cat\", \"An amazing Truck\"],\n",
    ")"
   ]
  },
  {
   "cell_type": "code",
   "execution_count": 20,
   "metadata": {},
   "outputs": [
    {
     "name": "stderr",
     "output_type": "stream",
     "text": [
      "2024-08-25 21:14:37,896 | INFO : Generating embeddings for 1 sentences with 1024 dimensions.\n",
      "Batches: 100%|██████████| 1/1 [00:00<00:00, 10.62it/s]\n",
      "2024-08-25 21:14:38,015 | INFO : HTTP Request: POST http://localhost:8010/api/v1/collections/4566882f-e6ee-44d5-bfeb-b8a54c68c877/query \"HTTP/1.1 200 OK\"\n"
     ]
    },
    {
     "data": {
      "text/plain": [
       "{'ids': [['2']],\n",
       " 'distances': [[0.5768009408184493]],\n",
       " 'embeddings': None,\n",
       " 'metadatas': [[{'id': 2}]],\n",
       " 'documents': [['An amazing Truck']],\n",
       " 'uris': None,\n",
       " 'data': None,\n",
       " 'included': ['documents', 'metadatas', 'distances']}"
      ]
     },
     "execution_count": 20,
     "metadata": {},
     "output_type": "execute_result"
    }
   ],
   "source": [
    "await test_collection.query(\n",
    "    query_texts=[\"A crazy dog.\"], \n",
    "    include=[\"documents\", \"metadatas\", \"distances\"], \n",
    "    n_results=1,\n",
    "    )"
   ]
  },
  {
   "cell_type": "code",
   "execution_count": 21,
   "metadata": {},
   "outputs": [
    {
     "name": "stderr",
     "output_type": "stream",
     "text": [
      "2024-08-25 21:14:41,691 | INFO : Generating embeddings for 1 sentences with 1024 dimensions.\n",
      "Batches: 100%|██████████| 1/1 [00:00<00:00, 10.31it/s]\n",
      "2024-08-25 21:14:41,812 | INFO : HTTP Request: POST http://localhost:8010/api/v1/collections/4566882f-e6ee-44d5-bfeb-b8a54c68c877/query \"HTTP/1.1 200 OK\"\n"
     ]
    }
   ],
   "source": [
    "result = await test_collection.query(\n",
    "    query_texts=[\"A Crazy Dog.\"], \n",
    "    include=[\"documents\", \"metadatas\", \"distances\"], \n",
    "    n_results=1,\n",
    "    )"
   ]
  },
  {
   "cell_type": "code",
   "execution_count": 22,
   "metadata": {},
   "outputs": [
    {
     "data": {
      "text/plain": [
       "{'ids': [['2']],\n",
       " 'distances': [[0.5768009408184493]],\n",
       " 'embeddings': None,\n",
       " 'metadatas': [[{'id': 2}]],\n",
       " 'documents': [['An amazing Truck']],\n",
       " 'uris': None,\n",
       " 'data': None,\n",
       " 'included': ['documents', 'metadatas', 'distances']}"
      ]
     },
     "execution_count": 22,
     "metadata": {},
     "output_type": "execute_result"
    }
   ],
   "source": [
    "result"
   ]
  },
  {
   "cell_type": "markdown",
   "metadata": {},
   "source": [
    "# Add Data to Vector Database"
   ]
  },
  {
   "cell_type": "code",
   "execution_count": 8,
   "metadata": {},
   "outputs": [],
   "source": [
    "from pathlib import Path"
   ]
  },
  {
   "cell_type": "code",
   "execution_count": 17,
   "metadata": {},
   "outputs": [
    {
     "name": "stderr",
     "output_type": "stream",
     "text": [
      "2024-08-28 20:02:22,676 | INFO : Anonymized telemetry enabled. See                     https://docs.trychroma.com/telemetry for more information.\n",
      "2024-08-28 20:02:22,678 | INFO : Anonymized telemetry enabled. See                     https://docs.trychroma.com/telemetry for more information.\n",
      "2024-08-28 20:02:22,687 | INFO : HTTP Request: GET http://localhost:8010/api/v1/tenants/default_tenant \"HTTP/1.1 200 OK\"\n",
      "2024-08-28 20:02:22,696 | INFO : HTTP Request: GET http://localhost:8010/api/v1/databases/default_database?tenant=default_tenant \"HTTP/1.1 200 OK\"\n",
      "2024-08-28 20:02:22,698 | INFO : Use pytorch device_name: mps\n",
      "2024-08-28 20:02:22,699 | INFO : Load pretrained SentenceTransformer: ../models/embeddings/mxbai-embed-large-v1\n",
      "2024-08-28 20:02:24,933 | INFO : Model loaded from ../models/embeddings/mxbai-embed-large-v1\n",
      "2024-08-28 20:02:24,956 | INFO : HTTP Request: POST http://localhost:8010/api/v1/collections?tenant=default_tenant&database=default_database \"HTTP/1.1 200 OK\"\n"
     ]
    }
   ],
   "source": [
    "vector_db_client = await chromadb.AsyncHttpClient(host=\"localhost\", port=8010)\n",
    "commodity_code_collection = await vector_db_client.get_collection(\n",
    "    \"commodity_codes\", \n",
    "    embedding_function=MixedbreadEmbeddingFunction(\n",
    "        embedder=MixedbreadEmbedder(EMB_MODEL_PATH)\n",
    "    ),\n",
    "    # metadata={\n",
    "    # \"hnsw:space\": \"cosine\",\n",
    "    # \"hnsw:construction_ef\": 100,\n",
    "    # }\n",
    ")"
   ]
  },
  {
   "cell_type": "code",
   "execution_count": 10,
   "metadata": {},
   "outputs": [],
   "source": [
    "DATA_PATH = Path().absolute().parent.joinpath(\"data\")\n",
    "COMMODITY_CODE_FILE_PATH = DATA_PATH.joinpath(\"raw\", \"commodity_codes.csv\")"
   ]
  },
  {
   "cell_type": "code",
   "execution_count": 11,
   "metadata": {},
   "outputs": [],
   "source": [
    "cc_df = pl.read_csv(COMMODITY_CODE_FILE_PATH, separator=\"|\")"
   ]
  },
  {
   "cell_type": "code",
   "execution_count": 12,
   "metadata": {},
   "outputs": [],
   "source": [
    "test_cc_list= CommodityCodesListChromaDB.from_dict(cc_df.to_dicts())\n",
    "cc_documents = test_cc_list.get_chroma_input_document()"
   ]
  },
  {
   "cell_type": "code",
   "execution_count": 18,
   "metadata": {},
   "outputs": [
    {
     "name": "stderr",
     "output_type": "stream",
     "text": [
      "2024-08-28 20:02:42,721 | INFO : Generating embeddings for 66 sentences with 1024 dimensions.\n",
      "Batches: 100%|██████████| 3/3 [00:01<00:00,  2.93it/s]\n",
      "2024-08-28 20:02:43,777 | INFO : HTTP Request: GET http://localhost:8010/api/v1/pre-flight-checks \"HTTP/1.1 200 OK\"\n",
      "2024-08-28 20:02:43,877 | INFO : HTTP Request: POST http://localhost:8010/api/v1/collections/cbb7e641-d131-4f0d-bba2-8ab2f7e33b00/add \"HTTP/1.1 201 Created\"\n"
     ]
    }
   ],
   "source": [
    "await commodity_code_collection.add(**cc_documents)"
   ]
  },
  {
   "cell_type": "code",
   "execution_count": 19,
   "metadata": {},
   "outputs": [
    {
     "name": "stderr",
     "output_type": "stream",
     "text": [
      "2024-08-28 20:03:00,344 | INFO : HTTP Request: GET http://localhost:8010/api/v1/collections/cbb7e641-d131-4f0d-bba2-8ab2f7e33b00/count \"HTTP/1.1 200 OK\"\n"
     ]
    },
    {
     "data": {
      "text/plain": [
       "66"
      ]
     },
     "execution_count": 19,
     "metadata": {},
     "output_type": "execute_result"
    }
   ],
   "source": [
    "await commodity_code_collection.count()"
   ]
  },
  {
   "cell_type": "code",
   "execution_count": 33,
   "metadata": {},
   "outputs": [
    {
     "name": "stderr",
     "output_type": "stream",
     "text": [
      "2024-08-28 20:29:35,965 | INFO : Generating embeddings for 1 sentences with 1024 dimensions.\n",
      "Batches: 100%|██████████| 1/1 [00:00<00:00,  8.78it/s]\n",
      "2024-08-28 20:29:36,105 | INFO : HTTP Request: POST http://localhost:8010/api/v1/collections/cbb7e641-d131-4f0d-bba2-8ab2f7e33b00/query \"HTTP/1.1 200 OK\"\n"
     ]
    }
   ],
   "source": [
    "sample_result = await commodity_code_collection.query(\n",
    "    query_texts=[\"I want to buy keyboard for computer.\"], \n",
    "    include=[\"documents\", \"metadatas\", \"distances\"], \n",
    "    n_results=3,\n",
    "    )"
   ]
  },
  {
   "cell_type": "code",
   "execution_count": 34,
   "metadata": {},
   "outputs": [
    {
     "data": {
      "text/plain": [
       "{'ids': [['201010', '201030', '201020']],\n",
       " 'distances': [[0.41137122165110906, 0.43248707219675575, 0.4375777626139331]],\n",
       " 'embeddings': None,\n",
       " 'metadatas': [[{'l1': 20,\n",
       "    'l1_desc': 'IT Goods and Services',\n",
       "    'l2': 2010,\n",
       "    'l2_desc': 'Computers and Peripherals'},\n",
       "   {'l1': 20,\n",
       "    'l1_desc': 'IT Goods and Services',\n",
       "    'l2': 2010,\n",
       "    'l2_desc': 'Computers and Peripherals'},\n",
       "   {'l1': 20,\n",
       "    'l1_desc': 'IT Goods and Services',\n",
       "    'l2': 2010,\n",
       "    'l2_desc': 'Computers and Peripherals'}]],\n",
       " 'documents': [['Desktop Computers for office workstations',\n",
       "   'Monitors and Display Screens for computing',\n",
       "   'Laptops for mobile workstations']],\n",
       " 'uris': None,\n",
       " 'data': None,\n",
       " 'included': ['documents', 'metadatas', 'distances']}"
      ]
     },
     "execution_count": 34,
     "metadata": {},
     "output_type": "execute_result"
    }
   ],
   "source": [
    "sample_result"
   ]
  },
  {
   "cell_type": "code",
   "execution_count": 25,
   "metadata": {},
   "outputs": [],
   "source": [
    "from pydantic import BaseModel"
   ]
  },
  {
   "cell_type": "code",
   "execution_count": 29,
   "metadata": {},
   "outputs": [],
   "source": [
    "class QueryResultMetadata(BaseModel):\n",
    "    l1: int\n",
    "    l1_desc: str\n",
    "    l2: int\n",
    "    l2_desc: str"
   ]
  },
  {
   "cell_type": "code",
   "execution_count": 30,
   "metadata": {},
   "outputs": [],
   "source": [
    "class QueryResult(BaseModel):\n",
    "    id: int\n",
    "    metadata: QueryResultMetadata\n",
    "    distance: float\n",
    "    document: str"
   ]
  },
  {
   "cell_type": "code",
   "execution_count": 39,
   "metadata": {},
   "outputs": [],
   "source": [
    "def parse_query_result(response: dict) -> QueryResult:\n",
    "    result = []\n",
    "    for _id, metadata, distance, document in zip(\n",
    "        response[\"ids\"][0], \n",
    "        response[\"metadatas\"][0], \n",
    "        response[\"distances\"][0],\n",
    "        response[\"documents\"][0],\n",
    "        ):\n",
    "        query_result = QueryResult(\n",
    "            id=_id,\n",
    "            metadata=metadata,\n",
    "            distance=distance,\n",
    "            document=document,\n",
    "        )\n",
    "        result.append(query_result)\n",
    "    return result"
   ]
  },
  {
   "cell_type": "code",
   "execution_count": 40,
   "metadata": {},
   "outputs": [
    {
     "data": {
      "text/plain": [
       "[QueryResult(id=201010, metadata=QueryResultMetadata(l1=20, l1_desc='IT Goods and Services', l2=2010, l2_desc='Computers and Peripherals'), distance=0.41137122165110906, document='Desktop Computers for office workstations'),\n",
       " QueryResult(id=201030, metadata=QueryResultMetadata(l1=20, l1_desc='IT Goods and Services', l2=2010, l2_desc='Computers and Peripherals'), distance=0.43248707219675575, document='Monitors and Display Screens for computing'),\n",
       " QueryResult(id=201020, metadata=QueryResultMetadata(l1=20, l1_desc='IT Goods and Services', l2=2010, l2_desc='Computers and Peripherals'), distance=0.4375777626139331, document='Laptops for mobile workstations')]"
      ]
     },
     "execution_count": 40,
     "metadata": {},
     "output_type": "execute_result"
    }
   ],
   "source": [
    "parse_query_result(sample_result)"
   ]
  }
 ],
 "metadata": {
  "kernelspec": {
   "display_name": "smart-procurement",
   "language": "python",
   "name": "python3"
  },
  "language_info": {
   "codemirror_mode": {
    "name": "ipython",
    "version": 3
   },
   "file_extension": ".py",
   "mimetype": "text/x-python",
   "name": "python",
   "nbconvert_exporter": "python",
   "pygments_lexer": "ipython3",
   "version": "3.11.6"
  }
 },
 "nbformat": 4,
 "nbformat_minor": 2
}
