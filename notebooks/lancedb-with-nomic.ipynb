{
 "cells": [
  {
   "cell_type": "code",
   "execution_count": 148,
   "id": "cbfb906a",
   "metadata": {},
   "outputs": [],
   "source": [
    "from lancedb.pydantic import Vector, LanceModel\n",
    "import lancedb\n",
    "from llama_index.embeddings.ollama import OllamaEmbedding\n",
    "from pathlib import Path\n",
    "from procureme.models.contract_model import ParsedDocument\n",
    "import json"
   ]
  },
  {
   "cell_type": "code",
   "execution_count": 149,
   "id": "5255c9e4",
   "metadata": {},
   "outputs": [],
   "source": [
    "CLIENT = OllamaEmbedding(\n",
    "    model_name=\"nomic-embed-text:v1.5\",\n",
    "    base_url=\"http://localhost:11434\",\n",
    "    ollama_additional_kwargs={\"mirostat\": 0},\n",
    ")"
   ]
  },
  {
   "cell_type": "code",
   "execution_count": 150,
   "id": "a8653c90",
   "metadata": {},
   "outputs": [],
   "source": [
    "DIMENTION: int = len(CLIENT.get_query_embedding(\"O Hey!\"))"
   ]
  },
  {
   "cell_type": "code",
   "execution_count": 172,
   "id": "bf0e09fd",
   "metadata": {},
   "outputs": [
    {
     "data": {
      "text/plain": [
       "768"
      ]
     },
     "execution_count": 172,
     "metadata": {},
     "output_type": "execute_result"
    }
   ],
   "source": [
    "DIMENTION"
   ]
  },
  {
   "cell_type": "code",
   "execution_count": 151,
   "id": "ae0353f4",
   "metadata": {},
   "outputs": [],
   "source": [
    "class DocumentWithMetadata(LanceModel):\n",
    "    chunk_id: str\n",
    "    doc_id: str\n",
    "    file_name: str\n",
    "    total_pages: int\n",
    "    content: str\n",
    "    part: str\n",
    "    vector: Vector(DIMENTION)"
   ]
  },
  {
   "cell_type": "code",
   "execution_count": 152,
   "id": "bbea0277",
   "metadata": {},
   "outputs": [],
   "source": [
    "DBPATH = Path().absolute().parent.joinpath(\"vectordb\")\n",
    "FILEPATH = DBPATH.joinpath(\"contracts.db\")\n",
    "TABLE_NAME = \"contracts_test\""
   ]
  },
  {
   "cell_type": "code",
   "execution_count": 153,
   "id": "4c53b707",
   "metadata": {},
   "outputs": [],
   "source": [
    "db = lancedb.connect(FILEPATH)"
   ]
  },
  {
   "cell_type": "code",
   "execution_count": 154,
   "id": "02e1831b",
   "metadata": {},
   "outputs": [
    {
     "name": "stderr",
     "output_type": "stream",
     "text": [
      "\u001b[90m[\u001b[0m2025-05-18T16:29:02Z \u001b[33mWARN \u001b[0m lance::dataset::write::insert\u001b[90m]\u001b[0m No existing dataset at /Users/datapsycho/PythonProjects/procure.me/vectordb/contracts.db/contracts_test.lance, it will be created\n"
     ]
    },
    {
     "data": {
      "text/plain": [
       "LanceTable(name='contracts_test', version=1, _conn=LanceDBConnection(uri='/Users/datapsycho/PythonProjects/procure.me/vectordb/contracts.db'))"
      ]
     },
     "execution_count": 154,
     "metadata": {},
     "output_type": "execute_result"
    }
   ],
   "source": [
    "db.create_table(TABLE_NAME, schema=DocumentWithMetadata, mode=\"overwrite\")"
   ]
  },
  {
   "cell_type": "code",
   "execution_count": 155,
   "id": "166528e0",
   "metadata": {},
   "outputs": [],
   "source": [
    "tbl = db.open_table(\"contracts_test\") if TABLE_NAME in db.table_names() else db.create_table(TABLE_NAME, schema=DocumentWithMetadata)"
   ]
  },
  {
   "cell_type": "code",
   "execution_count": 156,
   "id": "32cca589",
   "metadata": {},
   "outputs": [],
   "source": [
    "# Read and convert data into pydantic lance format\n",
    "def loader(file_path: Path) -> ParsedDocument:\n",
    "    with open(file_path, \"r\", encoding=\"utf-8\") as f:\n",
    "        data = json.load(f)\n",
    "        parser = ParsedDocument.model_validate(data)\n",
    "        return parser"
   ]
  },
  {
   "cell_type": "code",
   "execution_count": 157,
   "id": "474586ce",
   "metadata": {},
   "outputs": [],
   "source": [
    "test_doc = loader(Path().absolute().parent.joinpath(\"data\", \"silver\", \"contracts\", \"CW0348.pdf.json\"))"
   ]
  },
  {
   "cell_type": "code",
   "execution_count": 158,
   "id": "1e9e962f",
   "metadata": {},
   "outputs": [
    {
     "name": "stdout",
     "output_type": "stream",
     "text": [
      "id_='37f12f5a-399a-4b3c-aadd-15d88b2fe8be' total_pages=2 file_name='CW0348.pdf' text=' \\n PROCUREMENT CONTRACT  \\nThis Procurement Contract (the \"Contract\") is entered into between C11, hereinafter referred to \\nas the \"Supplier,\" and Plasma Corporation, hereinafter referred to as the \"Buyer.\"  \\n1. TERM  \\n1.1 Effective Date: This Contract shall become effective on November 2020.  \\n1.2 Expiry Date: The initial term of this Contract shall be for a period of 5 years from the \\nEffective Date unless terminated earlier as per the terms of this Contract.  \\n2. SUPPLIER DETAILS  \\nSupplier Name: C11 Address: 456 Oak Avenue, Cityville, USA Contact Person: Jane Doe \\nEmail: jane@xyzsuppliers.com Phone: +1-987-654-3210  \\n3. PURCHASE DETAILS  \\n3.1 Product/Service Description: The Supplier shall provide the following products/services to \\nthe Buyer:  \\nProduct X011 \\nProduct Y011 \\nProduct Z011 \\n \\n3.2 Volume Discounts: The Buyer and the Supplier agree to the following volume discounts \\nbased on the cumulative purchase volume during the Contract term:  \\n• \\n• 100 units - 500 units: 8.5% discount  \\n• \\n• 501 units - 1000 units: 15% discount  \\n• \\n• Over 1000 units: 20% discount  \\n \\n3.3 Pricing: The pricing for the products/services shall be as follows:  \\nProduct X011: $15 per unit  \\nProduct Y011:$25 per unit  \\nProduct Z011: $35 per unit  \\n \\n4. PAYMENT TERMS  \\n4.1 Invoicing: The Supplier shall submit invoices to the Buyer for the products/services provided \\nas per the agreed-upon pricing and terms.  \\n4.2 Payment Terms: The Buyer shall make payments to the Supplier within 45 days from the \\nreceipt of a valid invoice.  \\n4.3 Payment Method: Payments shall be made via PayPal, as agreed upon by both parties.  \\n5. CONTRACT TERMINATION  \\n5.1 Termination for Convenience: Either party may terminate this Contract with 60 days written \\nnotice to the other party.  \\n5.2 Termination for Cause: Either party may terminate this Contract immediately in the event of \\na material breach by the other party.  \\n\\npage - [1]\\n6. CONFIDENTIALITY  \\n6.1 Confidential Information: Both parties agree to keep any confidential information shared \\nduring the course of this Contract confidential and not to disclose it to any third party without \\nprior written consent.  \\n6.2 Return of Information: Upon termination of this Contract, both parties shall promptly return \\nany confidential information received from the other party.  \\n7. GOVERNING LAW  \\nThis Contract shall be governed by and construed in accordance with the laws of the State of \\nNew York.  \\n8. ENTIRE AGREEMENT  \\nThis Contract constitutes the entire agreement between the parties and supersedes all prior \\nagreements, understandings, or representations, whether written or oral, relating to the subject \\nmatter hereof.  \\nIN WITNESS WHEREOF, the parties have executed this Procurement Contract as of the \\nEffective Date.  \\nC11  \\nAuthorized Signatory  \\nPlasma Corporation  \\nAuthorized Signatory  \\nDate: April 15, 2023  \\nPlease note that these copies of the contract contain random dummy values and should be \\nadjusted to reflect the actual details and terms agreed upon by the parties involved. \\n\\npage - [2]\\n' parts=[ParsedDocumentParts(id_='8f8233f4-9dde-4eee-a5cc-d84acde5252d', text=' \\n PROCUREMENT CONTRACT  \\nThis Procurement Contract (the \"Contract\") is entered into between C11, hereinafter referred to \\nas the \"Supplier,\" and Plasma Corporation, hereinafter referred to as the \"Buyer.\"  \\n1. TERM  \\n1.1 Effective Date: This Contract shall become effective on November 2020.  \\n1.2 Expiry Date: The initial term of this Contract shall be for a period of 5 years from the \\nEffective Date unless terminated earlier as per the terms of this Contract.  \\n2. SUPPLIER DETAILS  \\nSupplier Name: C11 Address: 456 Oak Avenue, Cityville, USA Contact Person: Jane Doe \\nEmail: jane@xyzsuppliers.com Phone: +1-987-654-3210  \\n3. PURCHASE DETAILS  \\n3.1 Product/Service Description: The Supplier shall provide the following products/services to \\nthe Buyer:  \\nProduct X011 \\nProduct Y011 \\nProduct Z011 \\n \\n3.2 Volume Discounts: The Buyer and the Supplier agree to the following volume discounts \\nbased on the cumulative purchase volume during the Contract term:  \\n• \\n• 100 units - 500 units: 8.5% discount  \\n• \\n• 501 units - 1000 units: 15% discount  \\n• \\n• Over 1000 units: 20% discount  \\n \\n3.3 Pricing: The pricing for the products/services shall be as follows:  \\nProduct X011: $15 per unit  \\nProduct Y011:$25 per unit  \\nProduct Z011: $35 per unit  \\n \\n4. PAYMENT TERMS  \\n4.1 Invoicing: The Supplier shall submit invoices to the Buyer for the products/services provided \\nas per the agreed-upon pricing and terms.  \\n4.2 Payment Terms: The Buyer shall make payments to the Supplier within 45 days from the \\nreceipt of a valid invoice.  \\n4.3 Payment Method: Payments shall be made via PayPal, as agreed upon by both parties.  \\n5. CONTRACT TERMINATION  \\n5.1 Termination for Convenience: Either party may terminate this Contract with 60 days written \\nnotice to the other party.  \\n5.2 Termination for Cause: Either party may terminate this Contract immediately in the event of \\na material breach by the other party.  \\n', part='part - 1'), ParsedDocumentParts(id_='69cc1586-9e54-48b2-9dbf-10ca4a5c6c7c', text='6. CONFIDENTIALITY  \\n6.1 Confidential Information: Both parties agree to keep any confidential information shared \\nduring the course of this Contract confidential and not to disclose it to any third party without \\nprior written consent.  \\n6.2 Return of Information: Upon termination of this Contract, both parties shall promptly return \\nany confidential information received from the other party.  \\n7. GOVERNING LAW  \\nThis Contract shall be governed by and construed in accordance with the laws of the State of \\nNew York.  \\n8. ENTIRE AGREEMENT  \\nThis Contract constitutes the entire agreement between the parties and supersedes all prior \\nagreements, understandings, or representations, whether written or oral, relating to the subject \\nmatter hereof.  \\nIN WITNESS WHEREOF, the parties have executed this Procurement Contract as of the \\nEffective Date.  \\nC11  \\nAuthorized Signatory  \\nPlasma Corporation  \\nAuthorized Signatory  \\nDate: April 15, 2023  \\nPlease note that these copies of the contract contain random dummy values and should be \\nadjusted to reflect the actual details and terms agreed upon by the parties involved. \\n', part='part - 2')]\n"
     ]
    }
   ],
   "source": [
    "print(test_doc)"
   ]
  },
  {
   "cell_type": "code",
   "execution_count": 159,
   "id": "c40592c0",
   "metadata": {},
   "outputs": [],
   "source": [
    "def convert_doc_to_lancedb(doc: ParsedDocument) -> list[DocumentWithMetadata]:\n",
    "    documents = []\n",
    "    for part in doc.parts:\n",
    "        document_unit = DocumentWithMetadata(\n",
    "            chunk_id=\"{}-{}\".format(doc.file_name, part.part),\n",
    "            doc_id=doc.file_name,\n",
    "            part=part.part,\n",
    "            file_name=doc.file_name,\n",
    "            total_pages=doc.total_pages,\n",
    "            content=part.text,\n",
    "            vector=CLIENT.get_query_embedding(part.text),\n",
    "        )\n",
    "        documents.append(document_unit)\n",
    "    return documents"
   ]
  },
  {
   "cell_type": "code",
   "execution_count": 160,
   "id": "b5cb3cd4",
   "metadata": {},
   "outputs": [],
   "source": [
    "sample_data = convert_doc_to_lancedb(test_doc)"
   ]
  },
  {
   "cell_type": "code",
   "execution_count": 161,
   "id": "d1f85a44",
   "metadata": {},
   "outputs": [],
   "source": [
    "tbl.add(sample_data)"
   ]
  },
  {
   "cell_type": "code",
   "execution_count": 162,
   "id": "05dc1327",
   "metadata": {},
   "outputs": [],
   "source": [
    "# Embed your query text\n",
    "query_text = \"what is the Effective Date: or Contract shall become effective of the Contract?\"\n",
    "query_vector = CLIENT.get_query_embedding(query_text)"
   ]
  },
  {
   "cell_type": "code",
   "execution_count": 163,
   "id": "e92bfdcb",
   "metadata": {},
   "outputs": [],
   "source": [
    "# Perform the search\n",
    "top_n = 5  # Number of top results to retrieve\n",
    "results = tbl.search(query_vector).limit(top_n)"
   ]
  },
  {
   "cell_type": "code",
   "execution_count": 164,
   "id": "d388a336",
   "metadata": {},
   "outputs": [
    {
     "data": {
      "text/html": [
       "<div>\n",
       "<style scoped>\n",
       "    .dataframe tbody tr th:only-of-type {\n",
       "        vertical-align: middle;\n",
       "    }\n",
       "\n",
       "    .dataframe tbody tr th {\n",
       "        vertical-align: top;\n",
       "    }\n",
       "\n",
       "    .dataframe thead th {\n",
       "        text-align: right;\n",
       "    }\n",
       "</style>\n",
       "<table border=\"1\" class=\"dataframe\">\n",
       "  <thead>\n",
       "    <tr style=\"text-align: right;\">\n",
       "      <th></th>\n",
       "      <th>chunk_id</th>\n",
       "      <th>doc_id</th>\n",
       "      <th>file_name</th>\n",
       "      <th>total_pages</th>\n",
       "      <th>content</th>\n",
       "      <th>part</th>\n",
       "      <th>vector</th>\n",
       "      <th>_distance</th>\n",
       "    </tr>\n",
       "  </thead>\n",
       "  <tbody>\n",
       "    <tr>\n",
       "      <th>0</th>\n",
       "      <td>CW0348.pdf-part - 2</td>\n",
       "      <td>CW0348.pdf</td>\n",
       "      <td>CW0348.pdf</td>\n",
       "      <td>2</td>\n",
       "      <td>6. CONFIDENTIALITY  \\n6.1 Confidential Informa...</td>\n",
       "      <td>part - 2</td>\n",
       "      <td>[0.7514758, 0.23749453, -3.101361, -0.24841878...</td>\n",
       "      <td>331.484802</td>\n",
       "    </tr>\n",
       "    <tr>\n",
       "      <th>1</th>\n",
       "      <td>CW0348.pdf-part - 1</td>\n",
       "      <td>CW0348.pdf</td>\n",
       "      <td>CW0348.pdf</td>\n",
       "      <td>2</td>\n",
       "      <td>\\n PROCUREMENT CONTRACT  \\nThis Procurement C...</td>\n",
       "      <td>part - 1</td>\n",
       "      <td>[0.1820217, 0.64779174, -2.8016148, -0.8422372...</td>\n",
       "      <td>385.538605</td>\n",
       "    </tr>\n",
       "  </tbody>\n",
       "</table>\n",
       "</div>"
      ],
      "text/plain": [
       "              chunk_id      doc_id   file_name  total_pages  \\\n",
       "0  CW0348.pdf-part - 2  CW0348.pdf  CW0348.pdf            2   \n",
       "1  CW0348.pdf-part - 1  CW0348.pdf  CW0348.pdf            2   \n",
       "\n",
       "                                             content      part  \\\n",
       "0  6. CONFIDENTIALITY  \\n6.1 Confidential Informa...  part - 2   \n",
       "1   \\n PROCUREMENT CONTRACT  \\nThis Procurement C...  part - 1   \n",
       "\n",
       "                                              vector   _distance  \n",
       "0  [0.7514758, 0.23749453, -3.101361, -0.24841878...  331.484802  \n",
       "1  [0.1820217, 0.64779174, -2.8016148, -0.8422372...  385.538605  "
      ]
     },
     "execution_count": 164,
     "metadata": {},
     "output_type": "execute_result"
    }
   ],
   "source": [
    "results.to_pandas()"
   ]
  },
  {
   "cell_type": "code",
   "execution_count": 165,
   "id": "327a85c5",
   "metadata": {},
   "outputs": [
    {
     "data": {
      "text/html": [
       "<div>\n",
       "<style scoped>\n",
       "    .dataframe tbody tr th:only-of-type {\n",
       "        vertical-align: middle;\n",
       "    }\n",
       "\n",
       "    .dataframe tbody tr th {\n",
       "        vertical-align: top;\n",
       "    }\n",
       "\n",
       "    .dataframe thead th {\n",
       "        text-align: right;\n",
       "    }\n",
       "</style>\n",
       "<table border=\"1\" class=\"dataframe\">\n",
       "  <thead>\n",
       "    <tr style=\"text-align: right;\">\n",
       "      <th></th>\n",
       "      <th>chunk_id</th>\n",
       "      <th>doc_id</th>\n",
       "      <th>file_name</th>\n",
       "      <th>total_pages</th>\n",
       "      <th>content</th>\n",
       "      <th>part</th>\n",
       "      <th>vector</th>\n",
       "      <th>_distance</th>\n",
       "    </tr>\n",
       "  </thead>\n",
       "  <tbody>\n",
       "    <tr>\n",
       "      <th>0</th>\n",
       "      <td>CW0348.pdf-part - 1</td>\n",
       "      <td>CW0348.pdf</td>\n",
       "      <td>CW0348.pdf</td>\n",
       "      <td>2</td>\n",
       "      <td>\\n PROCUREMENT CONTRACT  \\nThis Procurement C...</td>\n",
       "      <td>part - 1</td>\n",
       "      <td>[0.1820217, 0.64779174, -2.8016148, -0.8422372...</td>\n",
       "      <td>385.538605</td>\n",
       "    </tr>\n",
       "  </tbody>\n",
       "</table>\n",
       "</div>"
      ],
      "text/plain": [
       "              chunk_id      doc_id   file_name  total_pages  \\\n",
       "0  CW0348.pdf-part - 1  CW0348.pdf  CW0348.pdf            2   \n",
       "\n",
       "                                             content      part  \\\n",
       "0   \\n PROCUREMENT CONTRACT  \\nThis Procurement C...  part - 1   \n",
       "\n",
       "                                              vector   _distance  \n",
       "0  [0.1820217, 0.64779174, -2.8016148, -0.8422372...  385.538605  "
      ]
     },
     "execution_count": 165,
     "metadata": {},
     "output_type": "execute_result"
    }
   ],
   "source": [
    "tbl.delete('chunk_id = \"CW0348.pdf-part - 2\"')\n",
    "results.to_pandas()"
   ]
  },
  {
   "cell_type": "code",
   "execution_count": 168,
   "id": "5e804baf",
   "metadata": {},
   "outputs": [
    {
     "data": {
      "text/plain": [
       "[DocumentWithMetadata(chunk_id='CW0348.pdf-part - 1', doc_id='CW0348.pdf', file_name='CW0348.pdf', total_pages=2, content=' \\n PROCUREMENT CONTRACT  \\nThis Procurement Contract (the \"Contract\") is entered into between C11, hereinafter referred to \\nas the \"Supplier,\" and Plasma Corporation, hereinafter referred to as the \"Buyer.\"  \\n1. TERM  \\n1.1 Effective Date: This Contract shall become effective on November 2020.  \\n1.2 Expiry Date: The initial term of this Contract shall be for a period of 5 years from the \\nEffective Date unless terminated earlier as per the terms of this Contract.  \\n2. SUPPLIER DETAILS  \\nSupplier Name: C11 Address: 456 Oak Avenue, Cityville, USA Contact Person: Jane Doe \\nEmail: jane@xyzsuppliers.com Phone: +1-987-654-3210  \\n3. PURCHASE DETAILS  \\n3.1 Product/Service Description: The Supplier shall provide the following products/services to \\nthe Buyer:  \\nProduct X011 \\nProduct Y011 \\nProduct Z011 \\n \\n3.2 Volume Discounts: The Buyer and the Supplier agree to the following volume discounts \\nbased on the cumulative purchase volume during the Contract term:  \\n• \\n• 100 units - 500 units: 8.5% discount  \\n• \\n• 501 units - 1000 units: 15% discount  \\n• \\n• Over 1000 units: 20% discount  \\n \\n3.3 Pricing: The pricing for the products/services shall be as follows:  \\nProduct X011: $15 per unit  \\nProduct Y011:$25 per unit  \\nProduct Z011: $35 per unit  \\n \\n4. PAYMENT TERMS  \\n4.1 Invoicing: The Supplier shall submit invoices to the Buyer for the products/services provided \\nas per the agreed-upon pricing and terms.  \\n4.2 Payment Terms: The Buyer shall make payments to the Supplier within 45 days from the \\nreceipt of a valid invoice.  \\n4.3 Payment Method: Payments shall be made via PayPal, as agreed upon by both parties.  \\n5. CONTRACT TERMINATION  \\n5.1 Termination for Convenience: Either party may terminate this Contract with 60 days written \\nnotice to the other party.  \\n5.2 Termination for Cause: Either party may terminate this Contract immediately in the event of \\na material breach by the other party.  \\n', part='part - 1', vector=FixedSizeList(dim=768)),\n",
       " DocumentWithMetadata(chunk_id='CW0348.pdf-part - 2', doc_id='CW0348.pdf', file_name='CW0348.pdf', total_pages=2, content='6. CONFIDENTIALITY  \\n6.1 Confidential Information: Both parties agree to keep any confidential information shared \\nduring the course of this Contract confidential and not to disclose it to any third party without \\nprior written consent.  \\n6.2 Return of Information: Upon termination of this Contract, both parties shall promptly return \\nany confidential information received from the other party.  \\n7. GOVERNING LAW  \\nThis Contract shall be governed by and construed in accordance with the laws of the State of \\nNew York.  \\n8. ENTIRE AGREEMENT  \\nThis Contract constitutes the entire agreement between the parties and supersedes all prior \\nagreements, understandings, or representations, whether written or oral, relating to the subject \\nmatter hereof.  \\nIN WITNESS WHEREOF, the parties have executed this Procurement Contract as of the \\nEffective Date.  \\nC11  \\nAuthorized Signatory  \\nPlasma Corporation  \\nAuthorized Signatory  \\nDate: April 15, 2023  \\nPlease note that these copies of the contract contain random dummy values and should be \\nadjusted to reflect the actual details and terms agreed upon by the parties involved. \\n', part='part - 2', vector=FixedSizeList(dim=768))]"
      ]
     },
     "execution_count": 168,
     "metadata": {},
     "output_type": "execute_result"
    }
   ],
   "source": [
    "sample_data"
   ]
  },
  {
   "cell_type": "code",
   "execution_count": 166,
   "id": "6eb34729",
   "metadata": {},
   "outputs": [],
   "source": [
    "results = tbl.search(query_vector).limit(top_n)"
   ]
  },
  {
   "cell_type": "code",
   "execution_count": 169,
   "id": "6b41d61b",
   "metadata": {},
   "outputs": [],
   "source": [
    "res = (\n",
    "    tbl.merge_insert(\"chunk_id\")\n",
    "    .when_not_matched_insert_all()\n",
    "    .execute(sample_data)\n",
    ")"
   ]
  },
  {
   "cell_type": "code",
   "execution_count": 170,
   "id": "e3cb9991",
   "metadata": {},
   "outputs": [
    {
     "data": {
      "text/plain": [
       "2"
      ]
     },
     "execution_count": 170,
     "metadata": {},
     "output_type": "execute_result"
    }
   ],
   "source": [
    "tbl.count_rows()"
   ]
  },
  {
   "cell_type": "code",
   "execution_count": null,
   "id": "e2f04aad",
   "metadata": {},
   "outputs": [],
   "source": []
  }
 ],
 "metadata": {
  "kernelspec": {
   "display_name": ".venv",
   "language": "python",
   "name": "python3"
  },
  "language_info": {
   "codemirror_mode": {
    "name": "ipython",
    "version": 3
   },
   "file_extension": ".py",
   "mimetype": "text/x-python",
   "name": "python",
   "nbconvert_exporter": "python",
   "pygments_lexer": "ipython3",
   "version": "3.12.9"
  }
 },
 "nbformat": 4,
 "nbformat_minor": 5
}
