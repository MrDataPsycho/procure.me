{
 "cells": [
  {
   "cell_type": "code",
   "execution_count": 1,
   "metadata": {},
   "outputs": [],
   "source": [
    "import chromadb\n",
    "import logging\n",
    "import polars as pl"
   ]
  },
  {
   "cell_type": "code",
   "execution_count": 2,
   "metadata": {},
   "outputs": [
    {
     "name": "stderr",
     "output_type": "stream",
     "text": [
      "/home/datapsycho/.local/share/hatch/env/virtual/smart-procurement/R5a3A4jN/smart-procurement/lib/python3.12/site-packages/sentence_transformers/cross_encoder/CrossEncoder.py:11: TqdmWarning: IProgress not found. Please update jupyter and ipywidgets. See https://ipywidgets.readthedocs.io/en/stable/user_install.html\n",
      "  from tqdm.autonotebook import tqdm, trange\n"
     ]
    }
   ],
   "source": [
    "from smart_procurement.embeeders import MixedbreadEmbedder\n",
    "from smart_procurement.embeeding_funcs import MixedbreadEmbeddingFunction\n",
    "from smart_procurement.models.chroma_cc_model import CommodityCodesListChromaDB"
   ]
  },
  {
   "cell_type": "code",
   "execution_count": 3,
   "metadata": {},
   "outputs": [],
   "source": [
    "logging.basicConfig(\n",
    "    format='%(asctime)s | %(levelname)s : %(message)s',\n",
    "    level=logging.INFO,\n",
    "    # stream=sys.stdout,\n",
    "    force=True\n",
    ")"
   ]
  },
  {
   "cell_type": "code",
   "execution_count": 4,
   "metadata": {},
   "outputs": [],
   "source": [
    "EMB_MODEL_PATH = \"../models/embeddings/mxbai-embed-large-v1\""
   ]
  },
  {
   "cell_type": "code",
   "execution_count": 5,
   "metadata": {},
   "outputs": [
    {
     "name": "stderr",
     "output_type": "stream",
     "text": [
      "2024-08-25 01:07:25,279 | INFO : Use pytorch device_name: cuda\n",
      "2024-08-25 01:07:25,280 | INFO : Load pretrained SentenceTransformer: ../models/embeddings/mxbai-embed-large-v1\n",
      "2024-08-25 01:07:26,368 | INFO : Model loaded from ../models/embeddings/mxbai-embed-large-v1\n"
     ]
    }
   ],
   "source": [
    "emb_model = MixedbreadEmbedder(EMB_MODEL_PATH)"
   ]
  },
  {
   "cell_type": "markdown",
   "metadata": {},
   "source": [
    "# Adding Cached Data"
   ]
  },
  {
   "cell_type": "code",
   "execution_count": 6,
   "metadata": {},
   "outputs": [
    {
     "name": "stderr",
     "output_type": "stream",
     "text": [
      "2024-08-25 01:07:28,917 | INFO : Anonymized telemetry enabled. See                     https://docs.trychroma.com/telemetry for more information.\n"
     ]
    },
    {
     "name": "stderr",
     "output_type": "stream",
     "text": [
      "2024-08-25 01:07:28,955 | INFO : Anonymized telemetry enabled. See                     https://docs.trychroma.com/telemetry for more information.\n",
      "2024-08-25 01:07:29,019 | INFO : HTTP Request: GET http://localhost:8011/api/v1/tenants/default_tenant \"HTTP/1.1 200 OK\"\n",
      "2024-08-25 01:07:29,029 | INFO : HTTP Request: GET http://localhost:8011/api/v1/databases/default_database?tenant=default_tenant \"HTTP/1.1 200 OK\"\n"
     ]
    }
   ],
   "source": [
    "client = await chromadb.AsyncHttpClient(host=\"localhost\", port=8011)"
   ]
  },
  {
   "cell_type": "code",
   "execution_count": 10,
   "metadata": {},
   "outputs": [],
   "source": [
    "# await client.delete_collection(\"test_collection\")"
   ]
  },
  {
   "cell_type": "code",
   "execution_count": 8,
   "metadata": {},
   "outputs": [
    {
     "name": "stderr",
     "output_type": "stream",
     "text": [
      "2024-08-25 01:08:18,861 | INFO : Use pytorch device_name: cuda\n",
      "2024-08-25 01:08:18,862 | INFO : Load pretrained SentenceTransformer: ../models/embeddings/mxbai-embed-large-v1\n",
      "2024-08-25 01:08:19,644 | INFO : Model loaded from ../models/embeddings/mxbai-embed-large-v1\n",
      "2024-08-25 01:08:19,682 | INFO : HTTP Request: POST http://localhost:8011/api/v1/collections?tenant=default_tenant&database=default_database \"HTTP/1.1 200 OK\"\n"
     ]
    }
   ],
   "source": [
    "test_collection = await client.get_or_create_collection(\n",
    "    \"test_collection\", \n",
    "    embedding_function=MixedbreadEmbeddingFunction(\n",
    "        embedder=MixedbreadEmbedder(EMB_MODEL_PATH)\n",
    "    ),\n",
    "    metadata={\n",
    "    \"hnsw:space\": \"cosine\",\n",
    "    \"hnsw:construction_ef\": 100,\n",
    "    }\n",
    ")"
   ]
  },
  {
   "cell_type": "code",
   "execution_count": 9,
   "metadata": {},
   "outputs": [
    {
     "name": "stderr",
     "output_type": "stream",
     "text": [
      "2024-08-25 01:19:35,463 | INFO : Generating embeddings for 2 sentences with 1024 dimensions.\n",
      "Batches: 100%|██████████| 1/1 [00:00<00:00,  2.85it/s]\n",
      "2024-08-25 01:19:35,826 | INFO : HTTP Request: GET http://localhost:8011/api/v1/pre-flight-checks \"HTTP/1.1 200 OK\"\n",
      "2024-08-25 01:19:35,844 | INFO : HTTP Request: POST http://localhost:8011/api/v1/collections/afffdf44-fafc-4807-8eae-b27419cb80da/add \"HTTP/1.1 201 Created\"\n"
     ]
    }
   ],
   "source": [
    "await test_collection.add(\n",
    "    ids=[\"1\", \"2\"],\n",
    "    metadatas=[{\"id\": 1}, {\"id\": 2}],\n",
    "    documents=[\"A nice Cat\", \"An amazing Truck\"],\n",
    ")"
   ]
  },
  {
   "cell_type": "code",
   "execution_count": null,
   "metadata": {},
   "outputs": [],
   "source": [
    "from pydantic import BaseModel"
   ]
  },
  {
   "cell_type": "code",
   "execution_count": null,
   "metadata": {},
   "outputs": [],
   "source": [
    "class SearchResult(BaseModel):\n"
   ]
  },
  {
   "cell_type": "code",
   "execution_count": 24,
   "metadata": {},
   "outputs": [
    {
     "name": "stderr",
     "output_type": "stream",
     "text": [
      "2024-08-25 04:04:53,896 | INFO : Generating embeddings for 1 sentences with 1024 dimensions.\n",
      "Batches: 100%|██████████| 1/1 [00:00<00:00, 36.58it/s]\n",
      "2024-08-25 04:04:53,938 | INFO : HTTP Request: POST http://localhost:8011/api/v1/collections/afffdf44-fafc-4807-8eae-b27419cb80da/query \"HTTP/1.1 200 OK\"\n"
     ]
    },
    {
     "data": {
      "text/plain": [
       "{'ids': [['2']],\n",
       " 'distances': [[0.5768009059142347]],\n",
       " 'embeddings': None,\n",
       " 'metadatas': [[{'id': 2}]],\n",
       " 'documents': [['An amazing Truck']],\n",
       " 'uris': None,\n",
       " 'data': None,\n",
       " 'included': ['documents', 'metadatas', 'distances']}"
      ]
     },
     "execution_count": 24,
     "metadata": {},
     "output_type": "execute_result"
    }
   ],
   "source": [
    "await test_collection.query(\n",
    "    query_texts=[\"A crazy dog.\"], \n",
    "    include=[\"documents\", \"metadatas\", \"distances\"], \n",
    "    n_results=1,\n",
    "    )"
   ]
  },
  {
   "cell_type": "code",
   "execution_count": 31,
   "metadata": {},
   "outputs": [
    {
     "name": "stderr",
     "output_type": "stream",
     "text": [
      "2024-08-25 04:09:43,055 | INFO : Generating embeddings for 1 sentences with 1024 dimensions.\n",
      "Batches: 100%|██████████| 1/1 [00:00<00:00, 39.82it/s]\n",
      "2024-08-25 04:09:43,097 | INFO : HTTP Request: POST http://localhost:8011/api/v1/collections/afffdf44-fafc-4807-8eae-b27419cb80da/query \"HTTP/1.1 200 OK\"\n"
     ]
    }
   ],
   "source": [
    "result = await test_collection.query(\n",
    "    query_texts=[\"A Crazy Dog.\"], \n",
    "    include=[\"documents\", \"metadatas\", \"distances\"], \n",
    "    n_results=1,\n",
    "    )"
   ]
  },
  {
   "cell_type": "code",
   "execution_count": 32,
   "metadata": {},
   "outputs": [
    {
     "data": {
      "text/plain": [
       "{'ids': [['2']],\n",
       " 'distances': [[0.5768009059142347]],\n",
       " 'embeddings': None,\n",
       " 'metadatas': [[{'id': 2}]],\n",
       " 'documents': [['An amazing Truck']],\n",
       " 'uris': None,\n",
       " 'data': None,\n",
       " 'included': ['documents', 'metadatas', 'distances']}"
      ]
     },
     "execution_count": 32,
     "metadata": {},
     "output_type": "execute_result"
    }
   ],
   "source": [
    "result"
   ]
  },
  {
   "cell_type": "code",
   "execution_count": 21,
   "metadata": {},
   "outputs": [],
   "source": [
    "from pydantic import BaseModel\n",
    "\n",
    "class SearchResult(BaseModel):\n",
    "    doc_id: str\n",
    "    distance: float\n",
    "    metadata: dict\n",
    "\n",
    "    @classmethod\n",
    "    def from_chroma_response(cls, response: dict):\n",
    "        doc_id = response[\"ids\"][0][0]\n",
    "        distance = response[\"distances\"][0][0]\n",
    "        metadata = response[\"metadatas\"][0][0]\n",
    "        return cls(doc_id=doc_id, distance=distance, metadata=metadata)\n",
    "    \n",
    "    def is_similar(self, threshold: float) -> bool:\n",
    "        return self.distance <= threshold\n",
    "    "
   ]
  },
  {
   "cell_type": "code",
   "execution_count": 26,
   "metadata": {},
   "outputs": [],
   "source": [
    "search_result = SearchResult.from_chroma_response(result)"
   ]
  },
  {
   "cell_type": "code",
   "execution_count": 34,
   "metadata": {},
   "outputs": [],
   "source": [
    "{\"a\": 1}.update({\"b\": 2})"
   ]
  },
  {
   "cell_type": "code",
   "execution_count": 28,
   "metadata": {},
   "outputs": [
    {
     "data": {
      "text/plain": [
       "SearchResult(doc_id='2', distance=0.5768009059142347, metadata={'id': 2})"
      ]
     },
     "execution_count": 28,
     "metadata": {},
     "output_type": "execute_result"
    }
   ],
   "source": [
    "search_result"
   ]
  },
  {
   "cell_type": "code",
   "execution_count": 27,
   "metadata": {},
   "outputs": [
    {
     "data": {
      "text/plain": [
       "False"
      ]
     },
     "execution_count": 27,
     "metadata": {},
     "output_type": "execute_result"
    }
   ],
   "source": [
    "search_result.is_similar(0.1)"
   ]
  },
  {
   "cell_type": "markdown",
   "metadata": {},
   "source": [
    "# Add Data to Vector Database"
   ]
  },
  {
   "cell_type": "code",
   "execution_count": 16,
   "metadata": {},
   "outputs": [],
   "source": [
    "from pathlib import Path"
   ]
  },
  {
   "cell_type": "code",
   "execution_count": 14,
   "metadata": {},
   "outputs": [
    {
     "name": "stderr",
     "output_type": "stream",
     "text": [
      "2024-08-18 16:25:03,329 | INFO : Anonymized telemetry enabled. See                     https://docs.trychroma.com/telemetry for more information.\n",
      "2024-08-18 16:25:03,332 | INFO : Anonymized telemetry enabled. See                     https://docs.trychroma.com/telemetry for more information.\n",
      "2024-08-18 16:25:03,349 | INFO : HTTP Request: GET http://localhost:8010/api/v1/tenants/default_tenant \"HTTP/1.1 200 OK\"\n",
      "2024-08-18 16:25:03,360 | INFO : HTTP Request: GET http://localhost:8010/api/v1/databases/default_database?tenant=default_tenant \"HTTP/1.1 200 OK\"\n",
      "2024-08-18 16:25:03,363 | INFO : Use pytorch device_name: mps\n",
      "2024-08-18 16:25:03,363 | INFO : Load pretrained SentenceTransformer: ../models/embeddings/mxbai-embed-large-v1\n",
      "2024-08-18 16:25:06,225 | INFO : Model loaded from ../models/embeddings/mxbai-embed-large-v1\n",
      "2024-08-18 16:25:06,279 | INFO : HTTP Request: POST http://localhost:8010/api/v1/collections?tenant=default_tenant&database=default_database \"HTTP/1.1 200 OK\"\n"
     ]
    }
   ],
   "source": [
    "vector_db_client = await chromadb.AsyncHttpClient(host=\"localhost\", port=8010)\n",
    "commodity_code_collection = await vector_db_client.get_or_create_collection(\n",
    "    \"commodity_codes\", \n",
    "    embedding_function=MixedbreadEmbeddingFunction(\n",
    "        embedder=MixedbreadEmbedder(EMB_MODEL_PATH)\n",
    "    ),\n",
    "    metadata={\n",
    "    \"hnsw:space\": \"cosine\",\n",
    "    \"hnsw:construction_ef\": 100,\n",
    "    }\n",
    ")"
   ]
  },
  {
   "cell_type": "code",
   "execution_count": 22,
   "metadata": {},
   "outputs": [],
   "source": [
    "DATA_PATH = Path().absolute().parent.joinpath(\"data\")\n",
    "COMMODITY_CODE_FILE_PATH = DATA_PATH.joinpath(\"raw\", \"commodity_codes.csv\")"
   ]
  },
  {
   "cell_type": "code",
   "execution_count": 23,
   "metadata": {},
   "outputs": [],
   "source": [
    "cc_df = pl.read_csv(COMMODITY_CODE_FILE_PATH, separator=\"|\")"
   ]
  },
  {
   "cell_type": "code",
   "execution_count": 56,
   "metadata": {},
   "outputs": [],
   "source": [
    "test_cc_list= CommodityCodesListChromaDB.from_dict(cc_df.to_dicts())\n",
    "cc_documents = test_cc_list.get_chroma_input_document()"
   ]
  },
  {
   "cell_type": "code",
   "execution_count": 58,
   "metadata": {},
   "outputs": [
    {
     "name": "stderr",
     "output_type": "stream",
     "text": [
      "2024-08-18 18:49:04,202 | INFO : Generating embeddings for 66 sentences with 1024 dimensions.\n"
     ]
    },
    {
     "name": "stderr",
     "output_type": "stream",
     "text": [
      "Batches: 100%|██████████| 3/3 [00:02<00:00,  1.02it/s]\n",
      "2024-08-18 18:49:07,193 | INFO : HTTP Request: GET http://localhost:8010/api/v1/pre-flight-checks \"HTTP/1.1 200 OK\"\n",
      "2024-08-18 18:49:07,323 | INFO : HTTP Request: POST http://localhost:8010/api/v1/collections/c5eb333f-fd6f-40e1-8ab4-6dc873c773da/add \"HTTP/1.1 201 Created\"\n"
     ]
    }
   ],
   "source": [
    "await commodity_code_collection.add(**cc_documents)"
   ]
  },
  {
   "cell_type": "code",
   "execution_count": 59,
   "metadata": {},
   "outputs": [
    {
     "name": "stderr",
     "output_type": "stream",
     "text": [
      "2024-08-18 18:49:30,595 | INFO : HTTP Request: GET http://localhost:8010/api/v1/collections/c5eb333f-fd6f-40e1-8ab4-6dc873c773da/count \"HTTP/1.1 200 OK\"\n"
     ]
    },
    {
     "data": {
      "text/plain": [
       "66"
      ]
     },
     "execution_count": 59,
     "metadata": {},
     "output_type": "execute_result"
    }
   ],
   "source": [
    "await commodity_code_collection.count()"
   ]
  },
  {
   "cell_type": "code",
   "execution_count": 64,
   "metadata": {},
   "outputs": [
    {
     "name": "stderr",
     "output_type": "stream",
     "text": [
      "2024-08-18 19:11:49,314 | INFO : Generating embeddings for 1 sentences with 1024 dimensions.\n",
      "Batches: 100%|██████████| 1/1 [00:00<00:00, 10.12it/s]\n",
      "2024-08-18 19:11:49,444 | INFO : HTTP Request: POST http://localhost:8010/api/v1/collections/c5eb333f-fd6f-40e1-8ab4-6dc873c773da/query \"HTTP/1.1 200 OK\"\n"
     ]
    }
   ],
   "source": [
    "sample_result = await commodity_code_collection.query(\n",
    "    query_texts=[\"I want to buy keyboard for computer.\"], \n",
    "    include=[\"documents\"], \n",
    "    n_results=2,\n",
    "    )"
   ]
  },
  {
   "cell_type": "code",
   "execution_count": 65,
   "metadata": {},
   "outputs": [
    {
     "data": {
      "text/plain": [
       "{'ids': [['201010', '201030']],\n",
       " 'distances': None,\n",
       " 'embeddings': None,\n",
       " 'metadatas': None,\n",
       " 'documents': [['Desktop Computers for office workstations',\n",
       "   'Monitors and Display Screens for computing']],\n",
       " 'uris': None,\n",
       " 'data': None,\n",
       " 'included': ['documents']}"
      ]
     },
     "execution_count": 65,
     "metadata": {},
     "output_type": "execute_result"
    }
   ],
   "source": [
    "sample_result"
   ]
  }
 ],
 "metadata": {
  "kernelspec": {
   "display_name": "smart-procurement",
   "language": "python",
   "name": "python3"
  },
  "language_info": {
   "codemirror_mode": {
    "name": "ipython",
    "version": 3
   },
   "file_extension": ".py",
   "mimetype": "text/x-python",
   "name": "python",
   "nbconvert_exporter": "python",
   "pygments_lexer": "ipython3",
   "version": "3.12.4"
  }
 },
 "nbformat": 4,
 "nbformat_minor": 2
}
