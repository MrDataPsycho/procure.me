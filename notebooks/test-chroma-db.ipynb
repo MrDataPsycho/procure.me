{
 "cells": [
  {
   "cell_type": "code",
   "execution_count": 24,
   "metadata": {},
   "outputs": [],
   "source": [
    "import chromadb\n",
    "import logging\n",
    "import polars as pl"
   ]
  },
  {
   "cell_type": "code",
   "execution_count": 25,
   "metadata": {},
   "outputs": [],
   "source": [
    "from smart_procurement.embeeders import MixedbreadEmbedder\n",
    "from smart_procurement.embeeding_funcs import MixedbreadEmbeddingFunction\n",
    "from smart_procurement.models.chroma_cc_model import CommodityCodesListChromaDB"
   ]
  },
  {
   "cell_type": "code",
   "execution_count": 3,
   "metadata": {},
   "outputs": [],
   "source": [
    "logging.basicConfig(\n",
    "    format='%(asctime)s | %(levelname)s : %(message)s',\n",
    "    level=logging.INFO,\n",
    "    # stream=sys.stdout,\n",
    "    force=True\n",
    ")"
   ]
  },
  {
   "cell_type": "code",
   "execution_count": 14,
   "metadata": {},
   "outputs": [],
   "source": [
    "EMB_MODEL_PATH = \"../models/embeddings/mxbai-embed-large-v1\""
   ]
  },
  {
   "cell_type": "markdown",
   "metadata": {},
   "source": [
    "# Adding Cached Data"
   ]
  },
  {
   "cell_type": "code",
   "execution_count": 16,
   "metadata": {},
   "outputs": [
    {
     "name": "stderr",
     "output_type": "stream",
     "text": [
      "2024-08-25 21:14:23,688 | INFO : Anonymized telemetry enabled. See                     https://docs.trychroma.com/telemetry for more information.\n",
      "2024-08-25 21:14:23,689 | INFO : Anonymized telemetry enabled. See                     https://docs.trychroma.com/telemetry for more information.\n",
      "2024-08-25 21:14:23,701 | INFO : HTTP Request: GET http://localhost:8010/api/v1/tenants/default_tenant \"HTTP/1.1 200 OK\"\n",
      "2024-08-25 21:14:23,706 | INFO : HTTP Request: GET http://localhost:8010/api/v1/databases/default_database?tenant=default_tenant \"HTTP/1.1 200 OK\"\n"
     ]
    }
   ],
   "source": [
    "client = await chromadb.AsyncHttpClient(host=\"localhost\", port=8010)"
   ]
  },
  {
   "cell_type": "code",
   "execution_count": 17,
   "metadata": {},
   "outputs": [
    {
     "name": "stderr",
     "output_type": "stream",
     "text": [
      "2024-08-25 21:14:28,397 | INFO : Use pytorch device_name: mps\n",
      "2024-08-25 21:14:28,398 | INFO : Load pretrained SentenceTransformer: ../models/embeddings/mxbai-embed-large-v1\n",
      "2024-08-25 21:14:32,561 | INFO : Model loaded from ../models/embeddings/mxbai-embed-large-v1\n"
     ]
    }
   ],
   "source": [
    "emb_model = MixedbreadEmbedder(EMB_MODEL_PATH)"
   ]
  },
  {
   "cell_type": "code",
   "execution_count": 36,
   "metadata": {},
   "outputs": [],
   "source": [
    "# await client.delete_collection(\"test_collection\")"
   ]
  },
  {
   "cell_type": "code",
   "execution_count": 18,
   "metadata": {},
   "outputs": [
    {
     "name": "stderr",
     "output_type": "stream",
     "text": [
      "2024-08-25 21:14:32,575 | INFO : Use pytorch device_name: mps\n",
      "2024-08-25 21:14:32,576 | INFO : Load pretrained SentenceTransformer: ../models/embeddings/mxbai-embed-large-v1\n",
      "2024-08-25 21:14:33,259 | INFO : Model loaded from ../models/embeddings/mxbai-embed-large-v1\n",
      "2024-08-25 21:14:33,358 | INFO : HTTP Request: POST http://localhost:8010/api/v1/collections?tenant=default_tenant&database=default_database \"HTTP/1.1 200 OK\"\n"
     ]
    }
   ],
   "source": [
    "test_collection = await client.get_or_create_collection(\n",
    "    \"test_collection\", \n",
    "    embedding_function=MixedbreadEmbeddingFunction(\n",
    "        embedder=MixedbreadEmbedder(EMB_MODEL_PATH)\n",
    "    ),\n",
    "    metadata={\n",
    "    \"hnsw:space\": \"cosine\",\n",
    "    \"hnsw:construction_ef\": 100,\n",
    "    }\n",
    ")"
   ]
  },
  {
   "cell_type": "code",
   "execution_count": 19,
   "metadata": {},
   "outputs": [
    {
     "name": "stderr",
     "output_type": "stream",
     "text": [
      "2024-08-25 21:14:35,431 | INFO : Generating embeddings for 2 sentences with 1024 dimensions.\n",
      "Batches: 100%|██████████| 1/1 [00:00<00:00,  9.33it/s]\n",
      "2024-08-25 21:14:35,608 | INFO : HTTP Request: GET http://localhost:8010/api/v1/pre-flight-checks \"HTTP/1.1 200 OK\"\n",
      "2024-08-25 21:14:35,637 | INFO : HTTP Request: POST http://localhost:8010/api/v1/collections/4566882f-e6ee-44d5-bfeb-b8a54c68c877/add \"HTTP/1.1 201 Created\"\n"
     ]
    }
   ],
   "source": [
    "await test_collection.add(\n",
    "    ids=[\"1\", \"2\"],\n",
    "    metadatas=[{\"id\": 1}, {\"id\": 2}],\n",
    "    documents=[\"A nice Cat\", \"An amazing Truck\"],\n",
    ")"
   ]
  },
  {
   "cell_type": "code",
   "execution_count": 20,
   "metadata": {},
   "outputs": [
    {
     "name": "stderr",
     "output_type": "stream",
     "text": [
      "2024-08-25 21:14:37,896 | INFO : Generating embeddings for 1 sentences with 1024 dimensions.\n",
      "Batches: 100%|██████████| 1/1 [00:00<00:00, 10.62it/s]\n",
      "2024-08-25 21:14:38,015 | INFO : HTTP Request: POST http://localhost:8010/api/v1/collections/4566882f-e6ee-44d5-bfeb-b8a54c68c877/query \"HTTP/1.1 200 OK\"\n"
     ]
    },
    {
     "data": {
      "text/plain": [
       "{'ids': [['2']],\n",
       " 'distances': [[0.5768009408184493]],\n",
       " 'embeddings': None,\n",
       " 'metadatas': [[{'id': 2}]],\n",
       " 'documents': [['An amazing Truck']],\n",
       " 'uris': None,\n",
       " 'data': None,\n",
       " 'included': ['documents', 'metadatas', 'distances']}"
      ]
     },
     "execution_count": 20,
     "metadata": {},
     "output_type": "execute_result"
    }
   ],
   "source": [
    "await test_collection.query(\n",
    "    query_texts=[\"A crazy dog.\"], \n",
    "    include=[\"documents\", \"metadatas\", \"distances\"], \n",
    "    n_results=1,\n",
    "    )"
   ]
  },
  {
   "cell_type": "code",
   "execution_count": 21,
   "metadata": {},
   "outputs": [
    {
     "name": "stderr",
     "output_type": "stream",
     "text": [
      "2024-08-25 21:14:41,691 | INFO : Generating embeddings for 1 sentences with 1024 dimensions.\n",
      "Batches: 100%|██████████| 1/1 [00:00<00:00, 10.31it/s]\n",
      "2024-08-25 21:14:41,812 | INFO : HTTP Request: POST http://localhost:8010/api/v1/collections/4566882f-e6ee-44d5-bfeb-b8a54c68c877/query \"HTTP/1.1 200 OK\"\n"
     ]
    }
   ],
   "source": [
    "result = await test_collection.query(\n",
    "    query_texts=[\"A Crazy Dog.\"], \n",
    "    include=[\"documents\", \"metadatas\", \"distances\"], \n",
    "    n_results=1,\n",
    "    )"
   ]
  },
  {
   "cell_type": "code",
   "execution_count": 22,
   "metadata": {},
   "outputs": [
    {
     "data": {
      "text/plain": [
       "{'ids': [['2']],\n",
       " 'distances': [[0.5768009408184493]],\n",
       " 'embeddings': None,\n",
       " 'metadatas': [[{'id': 2}]],\n",
       " 'documents': [['An amazing Truck']],\n",
       " 'uris': None,\n",
       " 'data': None,\n",
       " 'included': ['documents', 'metadatas', 'distances']}"
      ]
     },
     "execution_count": 22,
     "metadata": {},
     "output_type": "execute_result"
    }
   ],
   "source": [
    "result"
   ]
  },
  {
   "cell_type": "markdown",
   "metadata": {},
   "source": [
    "# Add Data to Vector Database"
   ]
  },
  {
   "cell_type": "code",
   "execution_count": 16,
   "metadata": {},
   "outputs": [],
   "source": [
    "from pathlib import Path"
   ]
  },
  {
   "cell_type": "code",
   "execution_count": 14,
   "metadata": {},
   "outputs": [
    {
     "name": "stderr",
     "output_type": "stream",
     "text": [
      "2024-08-18 16:25:03,329 | INFO : Anonymized telemetry enabled. See                     https://docs.trychroma.com/telemetry for more information.\n",
      "2024-08-18 16:25:03,332 | INFO : Anonymized telemetry enabled. See                     https://docs.trychroma.com/telemetry for more information.\n",
      "2024-08-18 16:25:03,349 | INFO : HTTP Request: GET http://localhost:8010/api/v1/tenants/default_tenant \"HTTP/1.1 200 OK\"\n",
      "2024-08-18 16:25:03,360 | INFO : HTTP Request: GET http://localhost:8010/api/v1/databases/default_database?tenant=default_tenant \"HTTP/1.1 200 OK\"\n",
      "2024-08-18 16:25:03,363 | INFO : Use pytorch device_name: mps\n",
      "2024-08-18 16:25:03,363 | INFO : Load pretrained SentenceTransformer: ../models/embeddings/mxbai-embed-large-v1\n",
      "2024-08-18 16:25:06,225 | INFO : Model loaded from ../models/embeddings/mxbai-embed-large-v1\n",
      "2024-08-18 16:25:06,279 | INFO : HTTP Request: POST http://localhost:8010/api/v1/collections?tenant=default_tenant&database=default_database \"HTTP/1.1 200 OK\"\n"
     ]
    }
   ],
   "source": [
    "vector_db_client = await chromadb.AsyncHttpClient(host=\"localhost\", port=8010)\n",
    "commodity_code_collection = await vector_db_client.get_or_create_collection(\n",
    "    \"commodity_codes\", \n",
    "    embedding_function=MixedbreadEmbeddingFunction(\n",
    "        embedder=MixedbreadEmbedder(EMB_MODEL_PATH)\n",
    "    ),\n",
    "    metadata={\n",
    "    \"hnsw:space\": \"cosine\",\n",
    "    \"hnsw:construction_ef\": 100,\n",
    "    }\n",
    ")"
   ]
  },
  {
   "cell_type": "code",
   "execution_count": 23,
   "metadata": {},
   "outputs": [
    {
     "ename": "NameError",
     "evalue": "name 'Path' is not defined",
     "output_type": "error",
     "traceback": [
      "\u001b[0;31m---------------------------------------------------------------------------\u001b[0m",
      "\u001b[0;31mNameError\u001b[0m                                 Traceback (most recent call last)",
      "Cell \u001b[0;32mIn[23], line 1\u001b[0m\n\u001b[0;32m----> 1\u001b[0m DATA_PATH \u001b[38;5;241m=\u001b[39m \u001b[43mPath\u001b[49m()\u001b[38;5;241m.\u001b[39mabsolute()\u001b[38;5;241m.\u001b[39mparent\u001b[38;5;241m.\u001b[39mjoinpath(\u001b[38;5;124m\"\u001b[39m\u001b[38;5;124mdata\u001b[39m\u001b[38;5;124m\"\u001b[39m)\n\u001b[1;32m      2\u001b[0m COMMODITY_CODE_FILE_PATH \u001b[38;5;241m=\u001b[39m DATA_PATH\u001b[38;5;241m.\u001b[39mjoinpath(\u001b[38;5;124m\"\u001b[39m\u001b[38;5;124mraw\u001b[39m\u001b[38;5;124m\"\u001b[39m, \u001b[38;5;124m\"\u001b[39m\u001b[38;5;124mcommodity_codes.csv\u001b[39m\u001b[38;5;124m\"\u001b[39m)\n",
      "\u001b[0;31mNameError\u001b[0m: name 'Path' is not defined"
     ]
    }
   ],
   "source": [
    "DATA_PATH = Path().absolute().parent.joinpath(\"data\")\n",
    "COMMODITY_CODE_FILE_PATH = DATA_PATH.joinpath(\"raw\", \"commodity_codes.csv\")"
   ]
  },
  {
   "cell_type": "code",
   "execution_count": 23,
   "metadata": {},
   "outputs": [],
   "source": [
    "cc_df = pl.read_csv(COMMODITY_CODE_FILE_PATH, separator=\"|\")"
   ]
  },
  {
   "cell_type": "code",
   "execution_count": 56,
   "metadata": {},
   "outputs": [],
   "source": [
    "test_cc_list= CommodityCodesListChromaDB.from_dict(cc_df.to_dicts())\n",
    "cc_documents = test_cc_list.get_chroma_input_document()"
   ]
  },
  {
   "cell_type": "code",
   "execution_count": 58,
   "metadata": {},
   "outputs": [
    {
     "name": "stderr",
     "output_type": "stream",
     "text": [
      "2024-08-18 18:49:04,202 | INFO : Generating embeddings for 66 sentences with 1024 dimensions.\n"
     ]
    },
    {
     "name": "stderr",
     "output_type": "stream",
     "text": [
      "Batches: 100%|██████████| 3/3 [00:02<00:00,  1.02it/s]\n",
      "2024-08-18 18:49:07,193 | INFO : HTTP Request: GET http://localhost:8010/api/v1/pre-flight-checks \"HTTP/1.1 200 OK\"\n",
      "2024-08-18 18:49:07,323 | INFO : HTTP Request: POST http://localhost:8010/api/v1/collections/c5eb333f-fd6f-40e1-8ab4-6dc873c773da/add \"HTTP/1.1 201 Created\"\n"
     ]
    }
   ],
   "source": [
    "await commodity_code_collection.add(**cc_documents)"
   ]
  },
  {
   "cell_type": "code",
   "execution_count": 59,
   "metadata": {},
   "outputs": [
    {
     "name": "stderr",
     "output_type": "stream",
     "text": [
      "2024-08-18 18:49:30,595 | INFO : HTTP Request: GET http://localhost:8010/api/v1/collections/c5eb333f-fd6f-40e1-8ab4-6dc873c773da/count \"HTTP/1.1 200 OK\"\n"
     ]
    },
    {
     "data": {
      "text/plain": [
       "66"
      ]
     },
     "execution_count": 59,
     "metadata": {},
     "output_type": "execute_result"
    }
   ],
   "source": [
    "await commodity_code_collection.count()"
   ]
  },
  {
   "cell_type": "code",
   "execution_count": 64,
   "metadata": {},
   "outputs": [
    {
     "name": "stderr",
     "output_type": "stream",
     "text": [
      "2024-08-18 19:11:49,314 | INFO : Generating embeddings for 1 sentences with 1024 dimensions.\n",
      "Batches: 100%|██████████| 1/1 [00:00<00:00, 10.12it/s]\n",
      "2024-08-18 19:11:49,444 | INFO : HTTP Request: POST http://localhost:8010/api/v1/collections/c5eb333f-fd6f-40e1-8ab4-6dc873c773da/query \"HTTP/1.1 200 OK\"\n"
     ]
    }
   ],
   "source": [
    "sample_result = await commodity_code_collection.query(\n",
    "    query_texts=[\"I want to buy keyboard for computer.\"], \n",
    "    include=[\"documents\"], \n",
    "    n_results=2,\n",
    "    )"
   ]
  },
  {
   "cell_type": "code",
   "execution_count": 65,
   "metadata": {},
   "outputs": [
    {
     "data": {
      "text/plain": [
       "{'ids': [['201010', '201030']],\n",
       " 'distances': None,\n",
       " 'embeddings': None,\n",
       " 'metadatas': None,\n",
       " 'documents': [['Desktop Computers for office workstations',\n",
       "   'Monitors and Display Screens for computing']],\n",
       " 'uris': None,\n",
       " 'data': None,\n",
       " 'included': ['documents']}"
      ]
     },
     "execution_count": 65,
     "metadata": {},
     "output_type": "execute_result"
    }
   ],
   "source": [
    "sample_result"
   ]
  }
 ],
 "metadata": {
  "kernelspec": {
   "display_name": "smart-procurement",
   "language": "python",
   "name": "python3"
  },
  "language_info": {
   "codemirror_mode": {
    "name": "ipython",
    "version": 3
   },
   "file_extension": ".py",
   "mimetype": "text/x-python",
   "name": "python",
   "nbconvert_exporter": "python",
   "pygments_lexer": "ipython3",
   "version": "3.11.6"
  }
 },
 "nbformat": 4,
 "nbformat_minor": 2
}
