{
 "cells": [
  {
   "cell_type": "code",
   "execution_count": 1,
   "id": "1086f49b",
   "metadata": {},
   "outputs": [],
   "source": [
    "from pydantic import BaseModel, Field\n",
    "from typing import List, Optional\n",
    "from datetime import date\n",
    "import ollama\n",
    "import json\n",
    "from pathlib import Path"
   ]
  },
  {
   "cell_type": "code",
   "execution_count": 2,
   "id": "7cc6526f",
   "metadata": {},
   "outputs": [],
   "source": [
    "\n",
    "class ContractMetadata(BaseModel):\n",
    "    contract_title: str = Field(..., description=\"Title or short name of the contract\")\n",
    "    contract_type: str = Field(..., description=\"Type of contract, e.g., Purchase Contract, MSA, SOW\")\n",
    "    supplier_name: str = Field(..., description=\"Name of the supplier/vendor\")\n",
    "    buyer_name: str = Field(..., description=\"Name of the buyer organization\")\n",
    "    purchase_order: Optional[str] = Field(None, description=\"Linked purchase order ID, if any\")\n",
    "    purchase_date: Optional[date] = Field(None, description=\"Date the contract was signed or became effective in DD-MM-YYYY format\")\n",
    "    expiry_date: Optional[date] = Field(None, description=\"Date the contract expires or ends in DD-MM-YYYY format\")\n",
    "    contract_description: Optional[str] = Field(None, description=\"Short description or preamble of the contract\")\n",
    "    objective: Optional[str] = Field(None, description=\"Stated business objective of the contract\")\n",
    "    scope: Optional[List[str]] = Field(default_factory=list, description=\"List describing the scope of the agreement\")\n",
    "    pricing_and_payment_terms: Optional[str] = Field(None, description=\"Terms related to pricing and payment schedule\")\n",
    "    delivery_terms: Optional[str] = Field(None, description=\"Conditions related to delivery, location, timelines\")\n",
    "    quality_assurance: Optional[str] = Field(None, description=\"Obligations regarding quality and handling of defects\")\n",
    "    confidentiality_clause: Optional[bool] = Field(False, description=\"Whether a confidentiality clause is present\")\n",
    "    termination_clause: Optional[str] = Field(None, description=\"Conditions under which the contract may be terminated\")\n",
    "    # signatories: List[Signatory] = Field(default_factory=list, description=\"List of signatories with roles\")\n",
    "    # document_page_count: Optional[int] = Field(None, description=\"Total number of pages in the contract\")"
   ]
  },
  {
   "cell_type": "code",
   "execution_count": 3,
   "id": "3f8be845",
   "metadata": {},
   "outputs": [],
   "source": [
    "def load_json_contracts(file_path)-> dict:   \n",
    "    with open(file_path, 'r') as f:\n",
    "        return json.load(f)"
   ]
  },
  {
   "cell_type": "code",
   "execution_count": 4,
   "id": "7822b6b5",
   "metadata": {},
   "outputs": [],
   "source": [
    "filepath = Path(\"../data/silver/contracts/CW0327.pdf.json\")"
   ]
  },
  {
   "cell_type": "code",
   "execution_count": null,
   "id": "24ed9402",
   "metadata": {},
   "outputs": [
    {
     "data": {
      "text/plain": [
       "'CW0327'"
      ]
     },
     "execution_count": 7,
     "metadata": {},
     "output_type": "execute_result"
    }
   ],
   "source": []
  },
  {
   "cell_type": "code",
   "execution_count": 4,
   "id": "79ab5a4c",
   "metadata": {},
   "outputs": [],
   "source": [
    "test_contract = load_json_contracts(\"../data/silver/contracts/CW0327.pdf.json\")"
   ]
  },
  {
   "cell_type": "code",
   "execution_count": 5,
   "id": "ad2f0972",
   "metadata": {},
   "outputs": [
    {
     "data": {
      "text/plain": [
       "' \\n PROCUREMENT CONTRACT  \\nThis Procurement Contract (the \"Contract\") is entered into between B2, hereinafter referred to \\nas the \"Supplier,\" and Plasma Corporation, hereinafter referred to as the \"Buyer.\"  \\n1. TERM  \\n1.1 Effective Date: This Contract shall become effective on February 2023.  \\n1.2 Expiry Date: The initial term of this Contract shall be for a period of 3 years from the \\nEffective Date unless terminated earlier as per the terms of this Contract.  \\n2. SUPPLIER DETAILS  \\nSupplier Name: B2 Address: 456 Oak Avenue, Cityville, USA Contact Person: Jane Doe Email: \\njane@xyzsuppliers.com Phone: +1-987-654-3210  \\n3. PURCHASE DETAILS  \\n3.1 Product/Service Description: The Supplier shall provide the following products/services to \\nthe Buyer:  \\nProduct X2 \\nProduct Y2 \\nProduct Z2 \\n \\n3.2 Volume Discounts: The Buyer and the Supplier agree to the following volume discounts \\nbased on the cumulative purchase volume during the Contract term:  \\n• \\n• 100 units - 500 units: 8.5% discount  \\n• \\n• 501 units - 1000 units: 15% discount  \\n• \\n• Over 1000 units: 20% discount  \\n \\n3.3 Pricing: The pricing for the products/services shall be as follows:  \\nProduct X2: $15 per unit  \\nProduct Y2: $25 per unit  \\nProduct Z2: $35 per unit  \\n \\n4. PAYMENT TERMS  \\n4.1 Invoicing: The Supplier shall submit invoices to the Buyer for the products/services provided \\nas per the agreed-upon pricing and terms.  \\n4.2 Payment Terms: The Buyer shall make payments to the Supplier within 45 days from the \\nreceipt of a valid invoice.  \\n4.3 Payment Method: Payments shall be made via PayPal, as agreed upon by both parties.  \\n5. CONTRACT TERMINATION  \\n5.1 Termination for Convenience: Either party may terminate this Contract with 60 days written \\nnotice to the other party.  \\n5.2 Termination for Cause: Either party may terminate this Contract immediately in the event of \\na material breach by the other party.  \\n\\npage - [1]\\n6. CONFIDENTIALITY  \\n6.1 Confidential Information: Both parties agree to keep any confidential information shared \\nduring the course of this Contract confidential and not to disclose it to any third party without \\nprior written consent.  \\n6.2 Return of Information: Upon termination of this Contract, both parties shall promptly return \\nany confidential information received from the other party.  \\n7. GOVERNING LAW  \\nThis Contract shall be governed by and construed in accordance with the laws of the State of \\nNew York.  \\n8. ENTIRE AGREEMENT  \\nThis Contract constitutes the entire agreement between the parties and supersedes all prior \\nagreements, understandings, or representations, whether written or oral, relating to the subject \\nmatter hereof.  \\nIN WITNESS WHEREOF, the parties have executed this Procurement Contract as of the \\nEffective Date.  \\nB2  \\nAuthorized Signatory  \\nPlasma Corporation  \\nAuthorized Signatory  \\nDate: April 15, 2023  \\nPlease note that these copies of the contract contain random dummy values and should be \\nadjusted to reflect the actual details and terms agreed upon by the parties involved. \\n\\npage - [2]\\n'"
      ]
     },
     "execution_count": 5,
     "metadata": {},
     "output_type": "execute_result"
    }
   ],
   "source": [
    "test_contract[\"text\"]"
   ]
  },
  {
   "cell_type": "code",
   "execution_count": 6,
   "id": "f6861c92",
   "metadata": {},
   "outputs": [],
   "source": [
    "SYSTEM_PROMPT = \"\"\"\n",
    "You are a Contract Metadata Extractor.\n",
    "\n",
    "Your job is to analyze raw contract documents and extract structured metadata in JSON format.\n",
    "\n",
    "Use the following Pydantic model as a reference structure:\n",
    "\n",
    "```python\n",
    "class ContractMetadata(BaseModel):\n",
    "    contract_title: str\n",
    "    contract_type: str\n",
    "    supplier_name: str\n",
    "    buyer_name: str\n",
    "    purchase_order: Optional[str]\n",
    "    purchase_date: Optional[date]\n",
    "    expiry_date: Optional[date]\n",
    "    contract_description: Optional[str]\n",
    "    objective: Optional[str]\n",
    "    scope: Optional[List[str]]\n",
    "    pricing_and_payment_terms: Optional[str]\n",
    "    delivery_terms: Optional[str]\n",
    "    quality_assurance: Optional[str]\n",
    "    confidentiality_clause: Optional[bool]\n",
    "    termination_clause: Optional[str]\n",
    "\n",
    "Guidelines:\n",
    "\n",
    "- Extract all fields if present. If a field is not found, omit it or set it to null.\n",
    "- Dates must be in ISO format: YYYY-MM-DD.\n",
    "- Date might be provided in the text. like Effective date: December 2020, which you should consider as Effective Date: 01-12-2020\n",
    "- Expiry date might be provided in the text. like Expiry Date: 5 years from the Effective Date, which you should consider as Expiry Date: 01-12-2025\n",
    "- Fields like scope must be a list of bullet points if multiple scopes are defined.\n",
    "- For contract_type, infer the type such as \"Purchase Contract\", \"MSA\", \"SOW\", Framework Agreement / PO Contract etc.\n",
    "- If no contract_type found in the text, set it to \"Contract\".\n",
    "- For confidentiality_clause, return true if any confidentiality-related language exists; else false.\n",
    "- For signatories, include organization names and their roles (e.g., \"Buyer\", \"Supplier\").\n",
    "- Output the result as valid JSON matching the model above, with no commentary or explanation.\n",
    "\n",
    "You will now be given the full contract document as input.\n",
    "\"\"\""
   ]
  },
  {
   "cell_type": "code",
   "execution_count": 7,
   "id": "27a0c9c9",
   "metadata": {},
   "outputs": [],
   "source": [
    "response = ollama.chat(\n",
    "  messages=[\n",
    "    {\n",
    "        'role': 'system',\n",
    "        'content': SYSTEM_PROMPT,\n",
    "    },\n",
    "\n",
    "    {\n",
    "      'role': 'user',\n",
    "      'content': test_contract[\"text\"],\n",
    "    }\n",
    "  ],\n",
    "  model='gemma3:4b',\n",
    "  format=ContractMetadata.model_json_schema(),\n",
    ")\n"
   ]
  },
  {
   "cell_type": "code",
   "execution_count": 8,
   "id": "9e3ce495",
   "metadata": {},
   "outputs": [
    {
     "data": {
      "text/plain": [
       "'{\\n    \"contract_title\": \"Procurement Contract\",\\n    \"contract_type\": \"Purchase Contract\",\\n    \"supplier_name\": \"B2\",\\n    \"buyer_name\": \"Plasma Corporation\",\\n    \"purchase_order\": null,\\n    \"purchase_date\": \"2023-02-20\",\\n    \"expiry_date\": \"2026-02-20\",\\n    \"contract_description\": null,\\n    \"objective\": null,\\n    \"scope\": [\\n        \"Product X2\",\\n        \"Product Y2\",\\n        \"Product Z2\"\\n    ],\\n    \"pricing_and_payment_terms\": \"Product X2: $15 per unit; Product Y2: $25 per unit; Product Z2: $35 per unit; The Buyer shall make payments to the Supplier within 45 days from the receipt of a valid invoice. Payments shall be made via PayPal.\",\\n    \"delivery_terms\": null,\\n    \"quality_assurance\": null,\\n    \"confidentiality_clause\": true,\\n    \"termination_clause\": \"Either party may terminate this Contract with 60 days written notice to the other party. Either party may terminate this Contract immediately in the event of a material breach by the other party.\"\\n}\\n'"
      ]
     },
     "execution_count": 8,
     "metadata": {},
     "output_type": "execute_result"
    }
   ],
   "source": [
    "response.message.content"
   ]
  },
  {
   "cell_type": "code",
   "execution_count": 9,
   "id": "8d94271f",
   "metadata": {},
   "outputs": [
    {
     "data": {
      "text/plain": [
       "ContractMetadata(contract_title='Procurement Contract', contract_type='Purchase Contract', supplier_name='B2', buyer_name='Plasma Corporation', purchase_order=None, purchase_date=datetime.date(2023, 2, 20), expiry_date=datetime.date(2026, 2, 20), contract_description=None, objective=None, scope=['Product X2', 'Product Y2', 'Product Z2'], pricing_and_payment_terms='Product X2: $15 per unit; Product Y2: $25 per unit; Product Z2: $35 per unit; The Buyer shall make payments to the Supplier within 45 days from the receipt of a valid invoice. Payments shall be made via PayPal.', delivery_terms=None, quality_assurance=None, confidentiality_clause=True, termination_clause='Either party may terminate this Contract with 60 days written notice to the other party. Either party may terminate this Contract immediately in the event of a material breach by the other party.')"
      ]
     },
     "execution_count": 9,
     "metadata": {},
     "output_type": "execute_result"
    }
   ],
   "source": [
    "ContractMetadata.model_validate_json(response.message.content)"
   ]
  }
 ],
 "metadata": {
  "kernelspec": {
   "display_name": ".venv",
   "language": "python",
   "name": "python3"
  },
  "language_info": {
   "codemirror_mode": {
    "name": "ipython",
    "version": 3
   },
   "file_extension": ".py",
   "mimetype": "text/x-python",
   "name": "python",
   "nbconvert_exporter": "python",
   "pygments_lexer": "ipython3",
   "version": "3.12.9"
  }
 },
 "nbformat": 4,
 "nbformat_minor": 5
}
