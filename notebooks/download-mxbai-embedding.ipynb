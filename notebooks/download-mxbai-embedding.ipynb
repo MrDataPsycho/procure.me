{
 "cells": [
  {
   "cell_type": "code",
   "execution_count": 2,
   "metadata": {},
   "outputs": [],
   "source": [
    "from sentence_transformers import SentenceTransformer\n",
    "from sentence_transformers.util import cos_sim\n",
    "from pathlib import Path"
   ]
  },
  {
   "cell_type": "code",
   "execution_count": 3,
   "metadata": {},
   "outputs": [],
   "source": [
    "model_path = \"../models/embeddings/mxbai-embed-large-v1\""
   ]
  },
  {
   "cell_type": "code",
   "execution_count": 4,
   "metadata": {},
   "outputs": [],
   "source": [
    "def create_path_if_not_exist(path: str):\n",
    "    \"\"\"\n",
    "    Create a directory path recursively if it does not exist.\n",
    "    \n",
    "    Arguments:\n",
    "    path: The directory path to create.\n",
    "    \"\"\"\n",
    "    directory = Path(path)\n",
    "    \n",
    "    if not directory.exists():\n",
    "        directory.mkdir(parents=True, exist_ok=True)\n",
    "        print(f\"Path '{path}' created successfully.\")\n",
    "    else:\n",
    "        print(f\"Path '{path}' already exists.\")"
   ]
  },
  {
   "cell_type": "code",
   "execution_count": 5,
   "metadata": {},
   "outputs": [
    {
     "name": "stdout",
     "output_type": "stream",
     "text": [
      "Path '../models/embeddings/mxbai-embed-large-v1' created successfully.\n"
     ]
    }
   ],
   "source": [
    "create_path_if_not_exist(model_path)"
   ]
  },
  {
   "cell_type": "code",
   "execution_count": 6,
   "metadata": {},
   "outputs": [],
   "source": [
    "# 1. Specify preffered dimensions\n",
    "dimensions = 1024\n",
    "# 2. load model\n",
    "model = SentenceTransformer(\"mixedbread-ai/mxbai-embed-large-v1\", truncate_dim=dimensions)"
   ]
  },
  {
   "cell_type": "code",
   "execution_count": 9,
   "metadata": {},
   "outputs": [],
   "source": [
    "# For retrieval you need to pass this prompt.\n",
    "def test_embeeding(model: SentenceTransformer) -> None:\n",
    "    query = 'Represent this sentence for searching relevant passages: A man is eating a piece of bread'\n",
    "\n",
    "    docs = [\n",
    "        query,\n",
    "        \"A man is eating food.\",\n",
    "        \"A man is eating pasta.\",\n",
    "        \"The girl is carrying a baby.\",\n",
    "        \"A man is riding a horse.\",\n",
    "    ]\n",
    "\n",
    "    # 2. Encode\n",
    "    embeddings = model.encode(docs)\n",
    "\n",
    "    # Optional: Quantize the embeddings\n",
    "    # binary_embeddings = quantize_embeddings(embeddings, precision=\"ubinary\")\n",
    "\n",
    "    similarities = cos_sim(embeddings[0], embeddings[1:])\n",
    "    print('similarities:', similarities)"
   ]
  },
  {
   "cell_type": "code",
   "execution_count": 8,
   "metadata": {},
   "outputs": [],
   "source": [
    "model.save(path=model_path)"
   ]
  },
  {
   "cell_type": "code",
   "execution_count": 10,
   "metadata": {},
   "outputs": [],
   "source": [
    "model = SentenceTransformer(model_path)"
   ]
  },
  {
   "cell_type": "code",
   "execution_count": 11,
   "metadata": {},
   "outputs": [
    {
     "name": "stdout",
     "output_type": "stream",
     "text": [
      "similarities: tensor([[0.7920, 0.6369, 0.1651, 0.3621]])\n"
     ]
    }
   ],
   "source": [
    "test_embeeding(model=model)"
   ]
  }
 ],
 "metadata": {
  "kernelspec": {
   "display_name": "smart-procurement",
   "language": "python",
   "name": "python3"
  },
  "language_info": {
   "codemirror_mode": {
    "name": "ipython",
    "version": 3
   },
   "file_extension": ".py",
   "mimetype": "text/x-python",
   "name": "python",
   "nbconvert_exporter": "python",
   "pygments_lexer": "ipython3",
   "version": "3.12.4"
  }
 },
 "nbformat": 4,
 "nbformat_minor": 2
}
