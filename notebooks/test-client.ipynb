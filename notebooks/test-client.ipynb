{
 "cells": [
  {
   "cell_type": "code",
   "execution_count": 1,
   "metadata": {},
   "outputs": [],
   "source": [
    "import requests"
   ]
  },
  {
   "cell_type": "code",
   "execution_count": 8,
   "metadata": {},
   "outputs": [
    {
     "name": "stdout",
     "output_type": "stream",
     "text": [
      "Success!\n",
      "Response JSON: {'query': 'I want to buy keyboard and mouse for my computer.', 'response_data': [{'l1': 10, 'l1_desc': 'Office Equipment', 'l2': 1010, 'l2_desc': 'Files and Stationery', 'l3': 101010, 'l3_desc': 'Pencil, Files, Envelopes for office equipment'}, {'l1': 20, 'l1_desc': 'IT Goods and Services', 'l2': 2010, 'l2_desc': 'Computers and Peripherals', 'l3': 201010, 'l3_desc': 'Desktop Computers for office workstations'}, {'l1': 20, 'l1_desc': 'IT Goods and Services', 'l2': 2010, 'l2_desc': 'Computers and Peripherals', 'l3': 201030, 'l3_desc': 'Monitors and Display Screens for computing'}]}\n"
     ]
    }
   ],
   "source": [
    "\n",
    "\n",
    "# Define the URL and the data payload\n",
    "url = \"http://127.0.0.1:5000/api/v1/search\"\n",
    "data = {\"search_input\": \"I want to buy keyboard and mouse for my computer.\"}\n",
    "\n",
    "# Perform the POST request\n",
    "response = requests.post(url, json=data)\n",
    "\n",
    "# Check if the request was successful\n",
    "if response.status_code == 200:\n",
    "    print(\"Success!\")\n",
    "    print(\"Response JSON:\", response.json())  # If the response contains JSON data\n",
    "else:\n",
    "    print(f\"Failed with status code: {response.status_code}\")\n",
    "    print(\"Response content:\", response.text)"
   ]
  },
  {
   "cell_type": "code",
   "execution_count": 4,
   "metadata": {},
   "outputs": [
    {
     "data": {
      "text/plain": [
       "[{'l1': 10,\n",
       "  'l1_desc': 'Office Equipment',\n",
       "  'l2': 1010,\n",
       "  'l2_desc': 'Files and Stationery',\n",
       "  'l3': 101010,\n",
       "  'l3_desc': 'Pencil, Files, Envelopes for office equipment'},\n",
       " {'l1': 20,\n",
       "  'l1_desc': 'IT Goods and Services',\n",
       "  'l2': 2010,\n",
       "  'l2_desc': 'Computers and Peripherals',\n",
       "  'l3': 201010,\n",
       "  'l3_desc': 'Desktop Computers for office workstations'},\n",
       " {'l1': 20,\n",
       "  'l1_desc': 'IT Goods and Services',\n",
       "  'l2': 2010,\n",
       "  'l2_desc': 'Computers and Peripherals',\n",
       "  'l3': 201030,\n",
       "  'l3_desc': 'Monitors and Display Screens for computing'}]"
      ]
     },
     "execution_count": 4,
     "metadata": {},
     "output_type": "execute_result"
    }
   ],
   "source": [
    "response.json()[\"response_data\"]"
   ]
  }
 ],
 "metadata": {
  "kernelspec": {
   "display_name": "smart-procurement",
   "language": "python",
   "name": "python3"
  },
  "language_info": {
   "codemirror_mode": {
    "name": "ipython",
    "version": 3
   },
   "file_extension": ".py",
   "mimetype": "text/x-python",
   "name": "python",
   "nbconvert_exporter": "python",
   "pygments_lexer": "ipython3",
   "version": "3.12.4"
  }
 },
 "nbformat": 4,
 "nbformat_minor": 2
}
